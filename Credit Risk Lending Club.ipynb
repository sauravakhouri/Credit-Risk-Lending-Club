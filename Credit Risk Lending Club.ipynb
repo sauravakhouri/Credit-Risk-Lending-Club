{
 "cells": [
  {
   "cell_type": "code",
   "execution_count": 106,
   "metadata": {
    "ExecuteTime": {
     "end_time": "2021-06-24T17:50:25.527221Z",
     "start_time": "2021-06-24T17:50:25.434502Z"
    }
   },
   "outputs": [],
   "source": [
    "import pandas as pd\n",
    "import numpy as np\n",
    "\n",
    "import warnings\n",
    "warnings.filterwarnings('ignore')"
   ]
  },
  {
   "cell_type": "code",
   "execution_count": 107,
   "metadata": {
    "ExecuteTime": {
     "end_time": "2021-06-24T17:51:06.288709Z",
     "start_time": "2021-06-24T17:50:27.400239Z"
    }
   },
   "outputs": [],
   "source": [
    "df_loan=pd.read_csv('loan.csv')"
   ]
  },
  {
   "cell_type": "code",
   "execution_count": 108,
   "metadata": {
    "ExecuteTime": {
     "end_time": "2021-06-24T17:51:09.670338Z",
     "start_time": "2021-06-24T17:51:09.143648Z"
    }
   },
   "outputs": [],
   "source": [
    "pd.set_option('display.max_columns',None)"
   ]
  },
  {
   "cell_type": "code",
   "execution_count": 109,
   "metadata": {
    "ExecuteTime": {
     "end_time": "2021-06-24T17:51:11.553670Z",
     "start_time": "2021-06-24T17:51:10.618732Z"
    }
   },
   "outputs": [
    {
     "data": {
      "text/html": [
       "<div>\n",
       "<style scoped>\n",
       "    .dataframe tbody tr th:only-of-type {\n",
       "        vertical-align: middle;\n",
       "    }\n",
       "\n",
       "    .dataframe tbody tr th {\n",
       "        vertical-align: top;\n",
       "    }\n",
       "\n",
       "    .dataframe thead th {\n",
       "        text-align: right;\n",
       "    }\n",
       "</style>\n",
       "<table border=\"1\" class=\"dataframe\">\n",
       "  <thead>\n",
       "    <tr style=\"text-align: right;\">\n",
       "      <th></th>\n",
       "      <th>id</th>\n",
       "      <th>member_id</th>\n",
       "      <th>loan_amnt</th>\n",
       "      <th>funded_amnt</th>\n",
       "      <th>funded_amnt_inv</th>\n",
       "      <th>term</th>\n",
       "      <th>int_rate</th>\n",
       "      <th>installment</th>\n",
       "      <th>grade</th>\n",
       "      <th>sub_grade</th>\n",
       "      <th>emp_title</th>\n",
       "      <th>emp_length</th>\n",
       "      <th>home_ownership</th>\n",
       "      <th>annual_inc</th>\n",
       "      <th>verification_status</th>\n",
       "      <th>issue_d</th>\n",
       "      <th>loan_status</th>\n",
       "      <th>pymnt_plan</th>\n",
       "      <th>url</th>\n",
       "      <th>desc</th>\n",
       "      <th>purpose</th>\n",
       "      <th>title</th>\n",
       "      <th>zip_code</th>\n",
       "      <th>addr_state</th>\n",
       "      <th>dti</th>\n",
       "      <th>delinq_2yrs</th>\n",
       "      <th>earliest_cr_line</th>\n",
       "      <th>inq_last_6mths</th>\n",
       "      <th>mths_since_last_delinq</th>\n",
       "      <th>mths_since_last_record</th>\n",
       "      <th>open_acc</th>\n",
       "      <th>pub_rec</th>\n",
       "      <th>revol_bal</th>\n",
       "      <th>revol_util</th>\n",
       "      <th>total_acc</th>\n",
       "      <th>initial_list_status</th>\n",
       "      <th>out_prncp</th>\n",
       "      <th>out_prncp_inv</th>\n",
       "      <th>total_pymnt</th>\n",
       "      <th>total_pymnt_inv</th>\n",
       "      <th>total_rec_prncp</th>\n",
       "      <th>total_rec_int</th>\n",
       "      <th>total_rec_late_fee</th>\n",
       "      <th>recoveries</th>\n",
       "      <th>collection_recovery_fee</th>\n",
       "      <th>last_pymnt_d</th>\n",
       "      <th>last_pymnt_amnt</th>\n",
       "      <th>next_pymnt_d</th>\n",
       "      <th>last_credit_pull_d</th>\n",
       "      <th>collections_12_mths_ex_med</th>\n",
       "      <th>mths_since_last_major_derog</th>\n",
       "      <th>policy_code</th>\n",
       "      <th>application_type</th>\n",
       "      <th>annual_inc_joint</th>\n",
       "      <th>dti_joint</th>\n",
       "      <th>verification_status_joint</th>\n",
       "      <th>acc_now_delinq</th>\n",
       "      <th>tot_coll_amt</th>\n",
       "      <th>tot_cur_bal</th>\n",
       "      <th>open_acc_6m</th>\n",
       "      <th>open_il_6m</th>\n",
       "      <th>open_il_12m</th>\n",
       "      <th>open_il_24m</th>\n",
       "      <th>mths_since_rcnt_il</th>\n",
       "      <th>total_bal_il</th>\n",
       "      <th>il_util</th>\n",
       "      <th>open_rv_12m</th>\n",
       "      <th>open_rv_24m</th>\n",
       "      <th>max_bal_bc</th>\n",
       "      <th>all_util</th>\n",
       "      <th>total_rev_hi_lim</th>\n",
       "      <th>inq_fi</th>\n",
       "      <th>total_cu_tl</th>\n",
       "      <th>inq_last_12m</th>\n",
       "    </tr>\n",
       "  </thead>\n",
       "  <tbody>\n",
       "    <tr>\n",
       "      <th>0</th>\n",
       "      <td>1077501</td>\n",
       "      <td>1296599</td>\n",
       "      <td>5000.0</td>\n",
       "      <td>5000.0</td>\n",
       "      <td>4975.0</td>\n",
       "      <td>36 months</td>\n",
       "      <td>10.65</td>\n",
       "      <td>162.87</td>\n",
       "      <td>B</td>\n",
       "      <td>B2</td>\n",
       "      <td>NaN</td>\n",
       "      <td>10+ years</td>\n",
       "      <td>RENT</td>\n",
       "      <td>24000.0</td>\n",
       "      <td>Verified</td>\n",
       "      <td>Dec-2011</td>\n",
       "      <td>Fully Paid</td>\n",
       "      <td>n</td>\n",
       "      <td>https://www.lendingclub.com/browse/loanDetail....</td>\n",
       "      <td>Borrower added on 12/22/11 &gt; I need to upgra...</td>\n",
       "      <td>credit_card</td>\n",
       "      <td>Computer</td>\n",
       "      <td>860xx</td>\n",
       "      <td>AZ</td>\n",
       "      <td>27.65</td>\n",
       "      <td>0.0</td>\n",
       "      <td>Jan-1985</td>\n",
       "      <td>1.0</td>\n",
       "      <td>NaN</td>\n",
       "      <td>NaN</td>\n",
       "      <td>3.0</td>\n",
       "      <td>0.0</td>\n",
       "      <td>13648.0</td>\n",
       "      <td>83.7</td>\n",
       "      <td>9.0</td>\n",
       "      <td>f</td>\n",
       "      <td>0.0</td>\n",
       "      <td>0.0</td>\n",
       "      <td>5861.071414</td>\n",
       "      <td>5831.78</td>\n",
       "      <td>5000.00</td>\n",
       "      <td>861.07</td>\n",
       "      <td>0.00</td>\n",
       "      <td>0.00</td>\n",
       "      <td>0.00</td>\n",
       "      <td>Jan-2015</td>\n",
       "      <td>171.62</td>\n",
       "      <td>NaN</td>\n",
       "      <td>Jan-2016</td>\n",
       "      <td>0.0</td>\n",
       "      <td>NaN</td>\n",
       "      <td>1.0</td>\n",
       "      <td>INDIVIDUAL</td>\n",
       "      <td>NaN</td>\n",
       "      <td>NaN</td>\n",
       "      <td>NaN</td>\n",
       "      <td>0.0</td>\n",
       "      <td>NaN</td>\n",
       "      <td>NaN</td>\n",
       "      <td>NaN</td>\n",
       "      <td>NaN</td>\n",
       "      <td>NaN</td>\n",
       "      <td>NaN</td>\n",
       "      <td>NaN</td>\n",
       "      <td>NaN</td>\n",
       "      <td>NaN</td>\n",
       "      <td>NaN</td>\n",
       "      <td>NaN</td>\n",
       "      <td>NaN</td>\n",
       "      <td>NaN</td>\n",
       "      <td>NaN</td>\n",
       "      <td>NaN</td>\n",
       "      <td>NaN</td>\n",
       "      <td>NaN</td>\n",
       "    </tr>\n",
       "    <tr>\n",
       "      <th>1</th>\n",
       "      <td>1077430</td>\n",
       "      <td>1314167</td>\n",
       "      <td>2500.0</td>\n",
       "      <td>2500.0</td>\n",
       "      <td>2500.0</td>\n",
       "      <td>60 months</td>\n",
       "      <td>15.27</td>\n",
       "      <td>59.83</td>\n",
       "      <td>C</td>\n",
       "      <td>C4</td>\n",
       "      <td>Ryder</td>\n",
       "      <td>&lt; 1 year</td>\n",
       "      <td>RENT</td>\n",
       "      <td>30000.0</td>\n",
       "      <td>Source Verified</td>\n",
       "      <td>Dec-2011</td>\n",
       "      <td>Charged Off</td>\n",
       "      <td>n</td>\n",
       "      <td>https://www.lendingclub.com/browse/loanDetail....</td>\n",
       "      <td>Borrower added on 12/22/11 &gt; I plan to use t...</td>\n",
       "      <td>car</td>\n",
       "      <td>bike</td>\n",
       "      <td>309xx</td>\n",
       "      <td>GA</td>\n",
       "      <td>1.00</td>\n",
       "      <td>0.0</td>\n",
       "      <td>Apr-1999</td>\n",
       "      <td>5.0</td>\n",
       "      <td>NaN</td>\n",
       "      <td>NaN</td>\n",
       "      <td>3.0</td>\n",
       "      <td>0.0</td>\n",
       "      <td>1687.0</td>\n",
       "      <td>9.4</td>\n",
       "      <td>4.0</td>\n",
       "      <td>f</td>\n",
       "      <td>0.0</td>\n",
       "      <td>0.0</td>\n",
       "      <td>1008.710000</td>\n",
       "      <td>1008.71</td>\n",
       "      <td>456.46</td>\n",
       "      <td>435.17</td>\n",
       "      <td>0.00</td>\n",
       "      <td>117.08</td>\n",
       "      <td>1.11</td>\n",
       "      <td>Apr-2013</td>\n",
       "      <td>119.66</td>\n",
       "      <td>NaN</td>\n",
       "      <td>Sep-2013</td>\n",
       "      <td>0.0</td>\n",
       "      <td>NaN</td>\n",
       "      <td>1.0</td>\n",
       "      <td>INDIVIDUAL</td>\n",
       "      <td>NaN</td>\n",
       "      <td>NaN</td>\n",
       "      <td>NaN</td>\n",
       "      <td>0.0</td>\n",
       "      <td>NaN</td>\n",
       "      <td>NaN</td>\n",
       "      <td>NaN</td>\n",
       "      <td>NaN</td>\n",
       "      <td>NaN</td>\n",
       "      <td>NaN</td>\n",
       "      <td>NaN</td>\n",
       "      <td>NaN</td>\n",
       "      <td>NaN</td>\n",
       "      <td>NaN</td>\n",
       "      <td>NaN</td>\n",
       "      <td>NaN</td>\n",
       "      <td>NaN</td>\n",
       "      <td>NaN</td>\n",
       "      <td>NaN</td>\n",
       "      <td>NaN</td>\n",
       "      <td>NaN</td>\n",
       "    </tr>\n",
       "    <tr>\n",
       "      <th>2</th>\n",
       "      <td>1077175</td>\n",
       "      <td>1313524</td>\n",
       "      <td>2400.0</td>\n",
       "      <td>2400.0</td>\n",
       "      <td>2400.0</td>\n",
       "      <td>36 months</td>\n",
       "      <td>15.96</td>\n",
       "      <td>84.33</td>\n",
       "      <td>C</td>\n",
       "      <td>C5</td>\n",
       "      <td>NaN</td>\n",
       "      <td>10+ years</td>\n",
       "      <td>RENT</td>\n",
       "      <td>12252.0</td>\n",
       "      <td>Not Verified</td>\n",
       "      <td>Dec-2011</td>\n",
       "      <td>Fully Paid</td>\n",
       "      <td>n</td>\n",
       "      <td>https://www.lendingclub.com/browse/loanDetail....</td>\n",
       "      <td>NaN</td>\n",
       "      <td>small_business</td>\n",
       "      <td>real estate business</td>\n",
       "      <td>606xx</td>\n",
       "      <td>IL</td>\n",
       "      <td>8.72</td>\n",
       "      <td>0.0</td>\n",
       "      <td>Nov-2001</td>\n",
       "      <td>2.0</td>\n",
       "      <td>NaN</td>\n",
       "      <td>NaN</td>\n",
       "      <td>2.0</td>\n",
       "      <td>0.0</td>\n",
       "      <td>2956.0</td>\n",
       "      <td>98.5</td>\n",
       "      <td>10.0</td>\n",
       "      <td>f</td>\n",
       "      <td>0.0</td>\n",
       "      <td>0.0</td>\n",
       "      <td>3003.653644</td>\n",
       "      <td>3003.65</td>\n",
       "      <td>2400.00</td>\n",
       "      <td>603.65</td>\n",
       "      <td>0.00</td>\n",
       "      <td>0.00</td>\n",
       "      <td>0.00</td>\n",
       "      <td>Jun-2014</td>\n",
       "      <td>649.91</td>\n",
       "      <td>NaN</td>\n",
       "      <td>Jan-2016</td>\n",
       "      <td>0.0</td>\n",
       "      <td>NaN</td>\n",
       "      <td>1.0</td>\n",
       "      <td>INDIVIDUAL</td>\n",
       "      <td>NaN</td>\n",
       "      <td>NaN</td>\n",
       "      <td>NaN</td>\n",
       "      <td>0.0</td>\n",
       "      <td>NaN</td>\n",
       "      <td>NaN</td>\n",
       "      <td>NaN</td>\n",
       "      <td>NaN</td>\n",
       "      <td>NaN</td>\n",
       "      <td>NaN</td>\n",
       "      <td>NaN</td>\n",
       "      <td>NaN</td>\n",
       "      <td>NaN</td>\n",
       "      <td>NaN</td>\n",
       "      <td>NaN</td>\n",
       "      <td>NaN</td>\n",
       "      <td>NaN</td>\n",
       "      <td>NaN</td>\n",
       "      <td>NaN</td>\n",
       "      <td>NaN</td>\n",
       "      <td>NaN</td>\n",
       "    </tr>\n",
       "    <tr>\n",
       "      <th>3</th>\n",
       "      <td>1076863</td>\n",
       "      <td>1277178</td>\n",
       "      <td>10000.0</td>\n",
       "      <td>10000.0</td>\n",
       "      <td>10000.0</td>\n",
       "      <td>36 months</td>\n",
       "      <td>13.49</td>\n",
       "      <td>339.31</td>\n",
       "      <td>C</td>\n",
       "      <td>C1</td>\n",
       "      <td>AIR RESOURCES BOARD</td>\n",
       "      <td>10+ years</td>\n",
       "      <td>RENT</td>\n",
       "      <td>49200.0</td>\n",
       "      <td>Source Verified</td>\n",
       "      <td>Dec-2011</td>\n",
       "      <td>Fully Paid</td>\n",
       "      <td>n</td>\n",
       "      <td>https://www.lendingclub.com/browse/loanDetail....</td>\n",
       "      <td>Borrower added on 12/21/11 &gt; to pay for prop...</td>\n",
       "      <td>other</td>\n",
       "      <td>personel</td>\n",
       "      <td>917xx</td>\n",
       "      <td>CA</td>\n",
       "      <td>20.00</td>\n",
       "      <td>0.0</td>\n",
       "      <td>Feb-1996</td>\n",
       "      <td>1.0</td>\n",
       "      <td>35.0</td>\n",
       "      <td>NaN</td>\n",
       "      <td>10.0</td>\n",
       "      <td>0.0</td>\n",
       "      <td>5598.0</td>\n",
       "      <td>21.0</td>\n",
       "      <td>37.0</td>\n",
       "      <td>f</td>\n",
       "      <td>0.0</td>\n",
       "      <td>0.0</td>\n",
       "      <td>12226.302212</td>\n",
       "      <td>12226.30</td>\n",
       "      <td>10000.00</td>\n",
       "      <td>2209.33</td>\n",
       "      <td>16.97</td>\n",
       "      <td>0.00</td>\n",
       "      <td>0.00</td>\n",
       "      <td>Jan-2015</td>\n",
       "      <td>357.48</td>\n",
       "      <td>NaN</td>\n",
       "      <td>Jan-2015</td>\n",
       "      <td>0.0</td>\n",
       "      <td>NaN</td>\n",
       "      <td>1.0</td>\n",
       "      <td>INDIVIDUAL</td>\n",
       "      <td>NaN</td>\n",
       "      <td>NaN</td>\n",
       "      <td>NaN</td>\n",
       "      <td>0.0</td>\n",
       "      <td>NaN</td>\n",
       "      <td>NaN</td>\n",
       "      <td>NaN</td>\n",
       "      <td>NaN</td>\n",
       "      <td>NaN</td>\n",
       "      <td>NaN</td>\n",
       "      <td>NaN</td>\n",
       "      <td>NaN</td>\n",
       "      <td>NaN</td>\n",
       "      <td>NaN</td>\n",
       "      <td>NaN</td>\n",
       "      <td>NaN</td>\n",
       "      <td>NaN</td>\n",
       "      <td>NaN</td>\n",
       "      <td>NaN</td>\n",
       "      <td>NaN</td>\n",
       "      <td>NaN</td>\n",
       "    </tr>\n",
       "    <tr>\n",
       "      <th>4</th>\n",
       "      <td>1075358</td>\n",
       "      <td>1311748</td>\n",
       "      <td>3000.0</td>\n",
       "      <td>3000.0</td>\n",
       "      <td>3000.0</td>\n",
       "      <td>60 months</td>\n",
       "      <td>12.69</td>\n",
       "      <td>67.79</td>\n",
       "      <td>B</td>\n",
       "      <td>B5</td>\n",
       "      <td>University Medical Group</td>\n",
       "      <td>1 year</td>\n",
       "      <td>RENT</td>\n",
       "      <td>80000.0</td>\n",
       "      <td>Source Verified</td>\n",
       "      <td>Dec-2011</td>\n",
       "      <td>Current</td>\n",
       "      <td>n</td>\n",
       "      <td>https://www.lendingclub.com/browse/loanDetail....</td>\n",
       "      <td>Borrower added on 12/21/11 &gt; I plan on combi...</td>\n",
       "      <td>other</td>\n",
       "      <td>Personal</td>\n",
       "      <td>972xx</td>\n",
       "      <td>OR</td>\n",
       "      <td>17.94</td>\n",
       "      <td>0.0</td>\n",
       "      <td>Jan-1996</td>\n",
       "      <td>0.0</td>\n",
       "      <td>38.0</td>\n",
       "      <td>NaN</td>\n",
       "      <td>15.0</td>\n",
       "      <td>0.0</td>\n",
       "      <td>27783.0</td>\n",
       "      <td>53.9</td>\n",
       "      <td>38.0</td>\n",
       "      <td>f</td>\n",
       "      <td>766.9</td>\n",
       "      <td>766.9</td>\n",
       "      <td>3242.170000</td>\n",
       "      <td>3242.17</td>\n",
       "      <td>2233.10</td>\n",
       "      <td>1009.07</td>\n",
       "      <td>0.00</td>\n",
       "      <td>0.00</td>\n",
       "      <td>0.00</td>\n",
       "      <td>Jan-2016</td>\n",
       "      <td>67.79</td>\n",
       "      <td>Feb-2016</td>\n",
       "      <td>Jan-2016</td>\n",
       "      <td>0.0</td>\n",
       "      <td>NaN</td>\n",
       "      <td>1.0</td>\n",
       "      <td>INDIVIDUAL</td>\n",
       "      <td>NaN</td>\n",
       "      <td>NaN</td>\n",
       "      <td>NaN</td>\n",
       "      <td>0.0</td>\n",
       "      <td>NaN</td>\n",
       "      <td>NaN</td>\n",
       "      <td>NaN</td>\n",
       "      <td>NaN</td>\n",
       "      <td>NaN</td>\n",
       "      <td>NaN</td>\n",
       "      <td>NaN</td>\n",
       "      <td>NaN</td>\n",
       "      <td>NaN</td>\n",
       "      <td>NaN</td>\n",
       "      <td>NaN</td>\n",
       "      <td>NaN</td>\n",
       "      <td>NaN</td>\n",
       "      <td>NaN</td>\n",
       "      <td>NaN</td>\n",
       "      <td>NaN</td>\n",
       "      <td>NaN</td>\n",
       "    </tr>\n",
       "  </tbody>\n",
       "</table>\n",
       "</div>"
      ],
      "text/plain": [
       "        id  member_id  loan_amnt  funded_amnt  funded_amnt_inv        term  \\\n",
       "0  1077501    1296599     5000.0       5000.0           4975.0   36 months   \n",
       "1  1077430    1314167     2500.0       2500.0           2500.0   60 months   \n",
       "2  1077175    1313524     2400.0       2400.0           2400.0   36 months   \n",
       "3  1076863    1277178    10000.0      10000.0          10000.0   36 months   \n",
       "4  1075358    1311748     3000.0       3000.0           3000.0   60 months   \n",
       "\n",
       "   int_rate  installment grade sub_grade                 emp_title emp_length  \\\n",
       "0     10.65       162.87     B        B2                       NaN  10+ years   \n",
       "1     15.27        59.83     C        C4                     Ryder   < 1 year   \n",
       "2     15.96        84.33     C        C5                       NaN  10+ years   \n",
       "3     13.49       339.31     C        C1       AIR RESOURCES BOARD  10+ years   \n",
       "4     12.69        67.79     B        B5  University Medical Group     1 year   \n",
       "\n",
       "  home_ownership  annual_inc verification_status   issue_d  loan_status  \\\n",
       "0           RENT     24000.0            Verified  Dec-2011   Fully Paid   \n",
       "1           RENT     30000.0     Source Verified  Dec-2011  Charged Off   \n",
       "2           RENT     12252.0        Not Verified  Dec-2011   Fully Paid   \n",
       "3           RENT     49200.0     Source Verified  Dec-2011   Fully Paid   \n",
       "4           RENT     80000.0     Source Verified  Dec-2011      Current   \n",
       "\n",
       "  pymnt_plan                                                url  \\\n",
       "0          n  https://www.lendingclub.com/browse/loanDetail....   \n",
       "1          n  https://www.lendingclub.com/browse/loanDetail....   \n",
       "2          n  https://www.lendingclub.com/browse/loanDetail....   \n",
       "3          n  https://www.lendingclub.com/browse/loanDetail....   \n",
       "4          n  https://www.lendingclub.com/browse/loanDetail....   \n",
       "\n",
       "                                                desc         purpose  \\\n",
       "0    Borrower added on 12/22/11 > I need to upgra...     credit_card   \n",
       "1    Borrower added on 12/22/11 > I plan to use t...             car   \n",
       "2                                                NaN  small_business   \n",
       "3    Borrower added on 12/21/11 > to pay for prop...           other   \n",
       "4    Borrower added on 12/21/11 > I plan on combi...           other   \n",
       "\n",
       "                  title zip_code addr_state    dti  delinq_2yrs  \\\n",
       "0              Computer    860xx         AZ  27.65          0.0   \n",
       "1                  bike    309xx         GA   1.00          0.0   \n",
       "2  real estate business    606xx         IL   8.72          0.0   \n",
       "3              personel    917xx         CA  20.00          0.0   \n",
       "4              Personal    972xx         OR  17.94          0.0   \n",
       "\n",
       "  earliest_cr_line  inq_last_6mths  mths_since_last_delinq  \\\n",
       "0         Jan-1985             1.0                     NaN   \n",
       "1         Apr-1999             5.0                     NaN   \n",
       "2         Nov-2001             2.0                     NaN   \n",
       "3         Feb-1996             1.0                    35.0   \n",
       "4         Jan-1996             0.0                    38.0   \n",
       "\n",
       "   mths_since_last_record  open_acc  pub_rec  revol_bal  revol_util  \\\n",
       "0                     NaN       3.0      0.0    13648.0        83.7   \n",
       "1                     NaN       3.0      0.0     1687.0         9.4   \n",
       "2                     NaN       2.0      0.0     2956.0        98.5   \n",
       "3                     NaN      10.0      0.0     5598.0        21.0   \n",
       "4                     NaN      15.0      0.0    27783.0        53.9   \n",
       "\n",
       "   total_acc initial_list_status  out_prncp  out_prncp_inv   total_pymnt  \\\n",
       "0        9.0                   f        0.0            0.0   5861.071414   \n",
       "1        4.0                   f        0.0            0.0   1008.710000   \n",
       "2       10.0                   f        0.0            0.0   3003.653644   \n",
       "3       37.0                   f        0.0            0.0  12226.302212   \n",
       "4       38.0                   f      766.9          766.9   3242.170000   \n",
       "\n",
       "   total_pymnt_inv  total_rec_prncp  total_rec_int  total_rec_late_fee  \\\n",
       "0          5831.78          5000.00         861.07                0.00   \n",
       "1          1008.71           456.46         435.17                0.00   \n",
       "2          3003.65          2400.00         603.65                0.00   \n",
       "3         12226.30         10000.00        2209.33               16.97   \n",
       "4          3242.17          2233.10        1009.07                0.00   \n",
       "\n",
       "   recoveries  collection_recovery_fee last_pymnt_d  last_pymnt_amnt  \\\n",
       "0        0.00                     0.00     Jan-2015           171.62   \n",
       "1      117.08                     1.11     Apr-2013           119.66   \n",
       "2        0.00                     0.00     Jun-2014           649.91   \n",
       "3        0.00                     0.00     Jan-2015           357.48   \n",
       "4        0.00                     0.00     Jan-2016            67.79   \n",
       "\n",
       "  next_pymnt_d last_credit_pull_d  collections_12_mths_ex_med  \\\n",
       "0          NaN           Jan-2016                         0.0   \n",
       "1          NaN           Sep-2013                         0.0   \n",
       "2          NaN           Jan-2016                         0.0   \n",
       "3          NaN           Jan-2015                         0.0   \n",
       "4     Feb-2016           Jan-2016                         0.0   \n",
       "\n",
       "   mths_since_last_major_derog  policy_code application_type  \\\n",
       "0                          NaN          1.0       INDIVIDUAL   \n",
       "1                          NaN          1.0       INDIVIDUAL   \n",
       "2                          NaN          1.0       INDIVIDUAL   \n",
       "3                          NaN          1.0       INDIVIDUAL   \n",
       "4                          NaN          1.0       INDIVIDUAL   \n",
       "\n",
       "   annual_inc_joint  dti_joint verification_status_joint  acc_now_delinq  \\\n",
       "0               NaN        NaN                       NaN             0.0   \n",
       "1               NaN        NaN                       NaN             0.0   \n",
       "2               NaN        NaN                       NaN             0.0   \n",
       "3               NaN        NaN                       NaN             0.0   \n",
       "4               NaN        NaN                       NaN             0.0   \n",
       "\n",
       "   tot_coll_amt  tot_cur_bal  open_acc_6m  open_il_6m  open_il_12m  \\\n",
       "0           NaN          NaN          NaN         NaN          NaN   \n",
       "1           NaN          NaN          NaN         NaN          NaN   \n",
       "2           NaN          NaN          NaN         NaN          NaN   \n",
       "3           NaN          NaN          NaN         NaN          NaN   \n",
       "4           NaN          NaN          NaN         NaN          NaN   \n",
       "\n",
       "   open_il_24m  mths_since_rcnt_il  total_bal_il  il_util  open_rv_12m  \\\n",
       "0          NaN                 NaN           NaN      NaN          NaN   \n",
       "1          NaN                 NaN           NaN      NaN          NaN   \n",
       "2          NaN                 NaN           NaN      NaN          NaN   \n",
       "3          NaN                 NaN           NaN      NaN          NaN   \n",
       "4          NaN                 NaN           NaN      NaN          NaN   \n",
       "\n",
       "   open_rv_24m  max_bal_bc  all_util  total_rev_hi_lim  inq_fi  total_cu_tl  \\\n",
       "0          NaN         NaN       NaN               NaN     NaN          NaN   \n",
       "1          NaN         NaN       NaN               NaN     NaN          NaN   \n",
       "2          NaN         NaN       NaN               NaN     NaN          NaN   \n",
       "3          NaN         NaN       NaN               NaN     NaN          NaN   \n",
       "4          NaN         NaN       NaN               NaN     NaN          NaN   \n",
       "\n",
       "   inq_last_12m  \n",
       "0           NaN  \n",
       "1           NaN  \n",
       "2           NaN  \n",
       "3           NaN  \n",
       "4           NaN  "
      ]
     },
     "execution_count": 109,
     "metadata": {},
     "output_type": "execute_result"
    }
   ],
   "source": [
    "df_loan.head()"
   ]
  },
  {
   "cell_type": "code",
   "execution_count": 110,
   "metadata": {
    "ExecuteTime": {
     "end_time": "2021-06-24T17:51:15.509702Z",
     "start_time": "2021-06-24T17:51:15.295151Z"
    }
   },
   "outputs": [
    {
     "data": {
      "text/plain": [
       "(887379, 74)"
      ]
     },
     "execution_count": 110,
     "metadata": {},
     "output_type": "execute_result"
    }
   ],
   "source": [
    "df_loan.shape"
   ]
  },
  {
   "cell_type": "code",
   "execution_count": 111,
   "metadata": {
    "ExecuteTime": {
     "end_time": "2021-06-24T17:51:19.048108Z",
     "start_time": "2021-06-24T17:51:18.917351Z"
    }
   },
   "outputs": [
    {
     "data": {
      "text/plain": [
       "id                               int64\n",
       "member_id                        int64\n",
       "loan_amnt                      float64\n",
       "funded_amnt                    float64\n",
       "funded_amnt_inv                float64\n",
       "term                            object\n",
       "int_rate                       float64\n",
       "installment                    float64\n",
       "grade                           object\n",
       "sub_grade                       object\n",
       "emp_title                       object\n",
       "emp_length                      object\n",
       "home_ownership                  object\n",
       "annual_inc                     float64\n",
       "verification_status             object\n",
       "issue_d                         object\n",
       "loan_status                     object\n",
       "pymnt_plan                      object\n",
       "url                             object\n",
       "desc                            object\n",
       "purpose                         object\n",
       "title                           object\n",
       "zip_code                        object\n",
       "addr_state                      object\n",
       "dti                            float64\n",
       "delinq_2yrs                    float64\n",
       "earliest_cr_line                object\n",
       "inq_last_6mths                 float64\n",
       "mths_since_last_delinq         float64\n",
       "mths_since_last_record         float64\n",
       "open_acc                       float64\n",
       "pub_rec                        float64\n",
       "revol_bal                      float64\n",
       "revol_util                     float64\n",
       "total_acc                      float64\n",
       "initial_list_status             object\n",
       "out_prncp                      float64\n",
       "out_prncp_inv                  float64\n",
       "total_pymnt                    float64\n",
       "total_pymnt_inv                float64\n",
       "total_rec_prncp                float64\n",
       "total_rec_int                  float64\n",
       "total_rec_late_fee             float64\n",
       "recoveries                     float64\n",
       "collection_recovery_fee        float64\n",
       "last_pymnt_d                    object\n",
       "last_pymnt_amnt                float64\n",
       "next_pymnt_d                    object\n",
       "last_credit_pull_d              object\n",
       "collections_12_mths_ex_med     float64\n",
       "mths_since_last_major_derog    float64\n",
       "policy_code                    float64\n",
       "application_type                object\n",
       "annual_inc_joint               float64\n",
       "dti_joint                      float64\n",
       "verification_status_joint       object\n",
       "acc_now_delinq                 float64\n",
       "tot_coll_amt                   float64\n",
       "tot_cur_bal                    float64\n",
       "open_acc_6m                    float64\n",
       "open_il_6m                     float64\n",
       "open_il_12m                    float64\n",
       "open_il_24m                    float64\n",
       "mths_since_rcnt_il             float64\n",
       "total_bal_il                   float64\n",
       "il_util                        float64\n",
       "open_rv_12m                    float64\n",
       "open_rv_24m                    float64\n",
       "max_bal_bc                     float64\n",
       "all_util                       float64\n",
       "total_rev_hi_lim               float64\n",
       "inq_fi                         float64\n",
       "total_cu_tl                    float64\n",
       "inq_last_12m                   float64\n",
       "dtype: object"
      ]
     },
     "execution_count": 111,
     "metadata": {},
     "output_type": "execute_result"
    }
   ],
   "source": [
    "pd.set_option('display.max_rows',74)\n",
    "df_loan.dtypes"
   ]
  },
  {
   "cell_type": "code",
   "execution_count": 112,
   "metadata": {
    "ExecuteTime": {
     "end_time": "2021-06-24T17:51:23.776844Z",
     "start_time": "2021-06-24T17:51:23.205392Z"
    }
   },
   "outputs": [
    {
     "data": {
      "text/plain": [
       "0                credit_card\n",
       "1                        car\n",
       "2             small_business\n",
       "3                      other\n",
       "4                      other\n",
       "                 ...        \n",
       "887374    debt_consolidation\n",
       "887375      home_improvement\n",
       "887376    debt_consolidation\n",
       "887377    debt_consolidation\n",
       "887378           credit_card\n",
       "Name: purpose, Length: 887379, dtype: object"
      ]
     },
     "execution_count": 112,
     "metadata": {},
     "output_type": "execute_result"
    }
   ],
   "source": [
    "df_loan.purpose"
   ]
  },
  {
   "cell_type": "code",
   "execution_count": 113,
   "metadata": {
    "ExecuteTime": {
     "end_time": "2021-06-24T17:51:39.474066Z",
     "start_time": "2021-06-24T17:51:38.893205Z"
    }
   },
   "outputs": [],
   "source": [
    "# Compulsory drop of ID type of Features\n",
    "# 1) ID type features simply act as row identifiers when data get built into the database\n",
    "# 2) ID can falsely become the best predictor when it ideally should not be a driving factor for the outcome\n",
    "# dropping few other columns like url,zipcode,title etc that are not useful in analysis\n",
    "\n",
    "\n",
    "df_loan=df_loan.drop(['id','member_id','url','title','zip_code','addr_state','desc','emp_title'],axis=1)"
   ]
  },
  {
   "cell_type": "code",
   "execution_count": 9,
   "metadata": {
    "ExecuteTime": {
     "end_time": "2021-06-24T15:36:14.045862Z",
     "start_time": "2021-06-24T15:36:14.035441Z"
    }
   },
   "outputs": [],
   "source": [
    "# Creating a Frequency Table in Pandas for each categorical\n",
    "# dataframe['categorical feature'].value_counts() \n",
    "# --value_counts() function will show you which all values the categorical \n",
    "# feature will take and also how many observations are there for each of them"
   ]
  },
  {
   "cell_type": "code",
   "execution_count": 114,
   "metadata": {
    "ExecuteTime": {
     "end_time": "2021-06-24T17:51:51.273429Z",
     "start_time": "2021-06-24T17:51:51.064344Z"
    }
   },
   "outputs": [
    {
     "data": {
      "text/plain": [
       "Current                                                601779\n",
       "Fully Paid                                             207723\n",
       "Charged Off                                             45248\n",
       "Late (31-120 days)                                      11591\n",
       "Issued                                                   8460\n",
       "In Grace Period                                          6253\n",
       "Late (16-30 days)                                        2357\n",
       "Does not meet the credit policy. Status:Fully Paid       1988\n",
       "Default                                                  1219\n",
       "Does not meet the credit policy. Status:Charged Off       761\n",
       "Name: loan_status, dtype: int64"
      ]
     },
     "execution_count": 114,
     "metadata": {},
     "output_type": "execute_result"
    }
   ],
   "source": [
    "#Analyzing loan_status variable for getting a better understanding of the categories and the counts\n",
    "df_loan['loan_status'].value_counts()"
   ]
  },
  {
   "cell_type": "code",
   "execution_count": 115,
   "metadata": {
    "ExecuteTime": {
     "end_time": "2021-06-24T17:51:53.834122Z",
     "start_time": "2021-06-24T17:51:53.631125Z"
    }
   },
   "outputs": [],
   "source": [
    "#Define dependent veriable\n",
    "\n",
    "\n",
    "df_loan['target']=np.where(df_loan['loan_status'].isin(['Default','Charged Off','Does not meet the credit policy. Status:Charged Off']),1,0)"
   ]
  },
  {
   "cell_type": "code",
   "execution_count": 116,
   "metadata": {
    "ExecuteTime": {
     "end_time": "2021-06-24T17:51:54.878742Z",
     "start_time": "2021-06-24T17:51:54.864779Z"
    }
   },
   "outputs": [],
   "source": [
    "pd.set_option('display.max_rows',20)\n"
   ]
  },
  {
   "cell_type": "code",
   "execution_count": 117,
   "metadata": {
    "ExecuteTime": {
     "end_time": "2021-06-24T17:51:56.173559Z",
     "start_time": "2021-06-24T17:51:55.817674Z"
    }
   },
   "outputs": [],
   "source": [
    "# Drop the loan status variable from the independent variable list\n",
    "df_loan=df_loan.drop(['loan_status'],axis=1)"
   ]
  },
  {
   "cell_type": "code",
   "execution_count": 118,
   "metadata": {
    "ExecuteTime": {
     "end_time": "2021-06-24T17:51:57.120916Z",
     "start_time": "2021-06-24T17:51:56.993541Z"
    }
   },
   "outputs": [
    {
     "data": {
      "text/plain": [
       "0.053221904056778443"
      ]
     },
     "execution_count": 118,
     "metadata": {},
     "output_type": "execute_result"
    }
   ],
   "source": [
    "# Calculate the default rate or event rate in the data\n",
    "df_loan.target.mean()\n",
    "\n",
    "# we can see the data is very imbalance as the even rate is 5% (risk events)\n",
    "# However for Risk Modelling 5% is considered good, we generally model risk modelling data if it is less than 1%"
   ]
  },
  {
   "cell_type": "code",
   "execution_count": null,
   "metadata": {},
   "outputs": [],
   "source": []
  },
  {
   "cell_type": "code",
   "execution_count": 119,
   "metadata": {
    "ExecuteTime": {
     "end_time": "2021-06-24T17:52:01.739606Z",
     "start_time": "2021-06-24T17:52:00.684786Z"
    }
   },
   "outputs": [
    {
     "data": {
      "text/plain": [
       "loan_amnt                      0.000000\n",
       "funded_amnt                    0.000000\n",
       "funded_amnt_inv                0.000000\n",
       "term                           0.000000\n",
       "int_rate                       0.000000\n",
       "installment                    0.000000\n",
       "grade                          0.000000\n",
       "sub_grade                      0.000000\n",
       "emp_length                     0.050514\n",
       "home_ownership                 0.000000\n",
       "annual_inc                     0.000005\n",
       "verification_status            0.000000\n",
       "issue_d                        0.000000\n",
       "pymnt_plan                     0.000000\n",
       "purpose                        0.000000\n",
       "dti                            0.000000\n",
       "delinq_2yrs                    0.000033\n",
       "earliest_cr_line               0.000033\n",
       "inq_last_6mths                 0.000033\n",
       "mths_since_last_delinq         0.511971\n",
       "mths_since_last_record         0.845553\n",
       "open_acc                       0.000033\n",
       "pub_rec                        0.000033\n",
       "revol_bal                      0.000000\n",
       "revol_util                     0.000566\n",
       "total_acc                      0.000033\n",
       "initial_list_status            0.000000\n",
       "out_prncp                      0.000000\n",
       "out_prncp_inv                  0.000000\n",
       "total_pymnt                    0.000000\n",
       "total_pymnt_inv                0.000000\n",
       "total_rec_prncp                0.000000\n",
       "total_rec_int                  0.000000\n",
       "total_rec_late_fee             0.000000\n",
       "recoveries                     0.000000\n",
       "collection_recovery_fee        0.000000\n",
       "last_pymnt_d                   0.019900\n",
       "last_pymnt_amnt                0.000000\n",
       "next_pymnt_d                   0.285077\n",
       "last_credit_pull_d             0.000060\n",
       "collections_12_mths_ex_med     0.000163\n",
       "mths_since_last_major_derog    0.750160\n",
       "policy_code                    0.000000\n",
       "application_type               0.000000\n",
       "annual_inc_joint               0.999424\n",
       "dti_joint                      0.999426\n",
       "verification_status_joint      0.999424\n",
       "acc_now_delinq                 0.000033\n",
       "tot_coll_amt                   0.079195\n",
       "tot_cur_bal                    0.079195\n",
       "open_acc_6m                    0.975916\n",
       "open_il_6m                     0.975916\n",
       "open_il_12m                    0.975916\n",
       "open_il_24m                    0.975916\n",
       "mths_since_rcnt_il             0.976549\n",
       "total_bal_il                   0.975916\n",
       "il_util                        0.979020\n",
       "open_rv_12m                    0.975916\n",
       "open_rv_24m                    0.975916\n",
       "max_bal_bc                     0.975916\n",
       "all_util                       0.975916\n",
       "total_rev_hi_lim               0.079195\n",
       "inq_fi                         0.975916\n",
       "total_cu_tl                    0.975916\n",
       "inq_last_12m                   0.975916\n",
       "target                         0.000000\n",
       "dtype: float64"
      ]
     },
     "execution_count": 119,
     "metadata": {},
     "output_type": "execute_result"
    }
   ],
   "source": [
    "# Missing Value Analysis\n",
    "pd.set_option('display.max_rows',75)\n",
    "df_loan.isnull().mean()\n",
    "\n",
    "# below data basically shows the percentage of data that is missing/null\n",
    "#hence we need to remove those columns from analysis"
   ]
  },
  {
   "cell_type": "code",
   "execution_count": 120,
   "metadata": {
    "ExecuteTime": {
     "end_time": "2021-06-24T17:52:06.658577Z",
     "start_time": "2021-06-24T17:52:04.933508Z"
    }
   },
   "outputs": [],
   "source": [
    "# Selecting all rows and only those columns where the missing value percentage is <=25%\n",
    "\n",
    "data=df_loan.loc[:,df_loan.isnull().mean()<=0.25]"
   ]
  },
  {
   "cell_type": "code",
   "execution_count": 121,
   "metadata": {
    "ExecuteTime": {
     "end_time": "2021-06-24T17:52:07.872238Z",
     "start_time": "2021-06-24T17:52:07.855472Z"
    }
   },
   "outputs": [
    {
     "data": {
      "text/plain": [
       "(887379, 45)"
      ]
     },
     "execution_count": 121,
     "metadata": {},
     "output_type": "execute_result"
    }
   ],
   "source": [
    "data.shape"
   ]
  },
  {
   "cell_type": "code",
   "execution_count": 122,
   "metadata": {
    "ExecuteTime": {
     "end_time": "2021-06-24T17:52:10.225114Z",
     "start_time": "2021-06-24T17:52:09.402326Z"
    }
   },
   "outputs": [],
   "source": [
    "# Creating a dataset with only dependent and independent\n",
    "\n",
    "Y=data[['target']]\n",
    "X=data.drop(['target'],axis=1)"
   ]
  },
  {
   "cell_type": "code",
   "execution_count": 123,
   "metadata": {
    "ExecuteTime": {
     "end_time": "2021-06-24T17:52:11.819729Z",
     "start_time": "2021-06-24T17:52:11.771793Z"
    }
   },
   "outputs": [
    {
     "data": {
      "text/plain": [
       "loan_amnt                     float64\n",
       "funded_amnt                   float64\n",
       "funded_amnt_inv               float64\n",
       "term                           object\n",
       "int_rate                      float64\n",
       "installment                   float64\n",
       "grade                          object\n",
       "sub_grade                      object\n",
       "emp_length                     object\n",
       "home_ownership                 object\n",
       "annual_inc                    float64\n",
       "verification_status            object\n",
       "issue_d                        object\n",
       "pymnt_plan                     object\n",
       "purpose                        object\n",
       "dti                           float64\n",
       "delinq_2yrs                   float64\n",
       "earliest_cr_line               object\n",
       "inq_last_6mths                float64\n",
       "open_acc                      float64\n",
       "pub_rec                       float64\n",
       "revol_bal                     float64\n",
       "revol_util                    float64\n",
       "total_acc                     float64\n",
       "initial_list_status            object\n",
       "out_prncp                     float64\n",
       "out_prncp_inv                 float64\n",
       "total_pymnt                   float64\n",
       "total_pymnt_inv               float64\n",
       "total_rec_prncp               float64\n",
       "total_rec_int                 float64\n",
       "total_rec_late_fee            float64\n",
       "recoveries                    float64\n",
       "collection_recovery_fee       float64\n",
       "last_pymnt_d                   object\n",
       "last_pymnt_amnt               float64\n",
       "last_credit_pull_d             object\n",
       "collections_12_mths_ex_med    float64\n",
       "policy_code                   float64\n",
       "application_type               object\n",
       "acc_now_delinq                float64\n",
       "tot_coll_amt                  float64\n",
       "tot_cur_bal                   float64\n",
       "total_rev_hi_lim              float64\n",
       "dtype: object"
      ]
     },
     "execution_count": 123,
     "metadata": {},
     "output_type": "execute_result"
    }
   ],
   "source": [
    "X.dtypes"
   ]
  },
  {
   "cell_type": "code",
   "execution_count": 124,
   "metadata": {
    "ExecuteTime": {
     "end_time": "2021-06-24T17:52:23.529195Z",
     "start_time": "2021-06-24T17:52:20.455464Z"
    }
   },
   "outputs": [],
   "source": [
    "# since the x variables has both object and float types, we will separate the\n",
    "\n",
    "char=X.select_dtypes(include='object')\n",
    "num=X.select_dtypes(include='number')\n"
   ]
  },
  {
   "cell_type": "code",
   "execution_count": 125,
   "metadata": {
    "ExecuteTime": {
     "end_time": "2021-06-24T17:52:25.278888Z",
     "start_time": "2021-06-24T17:52:25.263512Z"
    }
   },
   "outputs": [
    {
     "data": {
      "text/plain": [
       "(887379, 14)"
      ]
     },
     "execution_count": 125,
     "metadata": {},
     "output_type": "execute_result"
    }
   ],
   "source": [
    "char.shape"
   ]
  },
  {
   "cell_type": "code",
   "execution_count": 126,
   "metadata": {
    "ExecuteTime": {
     "end_time": "2021-06-24T17:52:27.104184Z",
     "start_time": "2021-06-24T17:52:27.085604Z"
    }
   },
   "outputs": [
    {
     "data": {
      "text/plain": [
       "(887379, 30)"
      ]
     },
     "execution_count": 126,
     "metadata": {},
     "output_type": "execute_result"
    }
   ],
   "source": [
    "num.shape"
   ]
  },
  {
   "cell_type": "code",
   "execution_count": 127,
   "metadata": {
    "ExecuteTime": {
     "end_time": "2021-06-24T17:52:29.753461Z",
     "start_time": "2021-06-24T17:52:29.598359Z"
    }
   },
   "outputs": [],
   "source": [
    "# we will create a function to remove the outliers by capping the values below 1 percentile and above 99 percentile\n",
    "# for all the numberical column\n",
    "\n",
    "def outlier_cap(x):\n",
    "    x=x.clip(lower=x.quantile(0.01))\n",
    "    x=x.clip(upper=x.quantile(0.99))\n",
    "    return(x)"
   ]
  },
  {
   "cell_type": "code",
   "execution_count": 128,
   "metadata": {
    "ExecuteTime": {
     "end_time": "2021-06-24T17:52:41.530821Z",
     "start_time": "2021-06-24T17:52:36.866386Z"
    }
   },
   "outputs": [],
   "source": [
    "num=num.apply(lambda x:outlier_cap(x))"
   ]
  },
  {
   "cell_type": "code",
   "execution_count": 129,
   "metadata": {
    "ExecuteTime": {
     "end_time": "2021-06-24T17:52:43.122599Z",
     "start_time": "2021-06-24T17:52:42.791792Z"
    }
   },
   "outputs": [
    {
     "data": {
      "text/plain": [
       "loan_amnt                     0.000000\n",
       "funded_amnt                   0.000000\n",
       "funded_amnt_inv               0.000000\n",
       "int_rate                      0.000000\n",
       "installment                   0.000000\n",
       "annual_inc                    0.000005\n",
       "dti                           0.000000\n",
       "delinq_2yrs                   0.000033\n",
       "inq_last_6mths                0.000033\n",
       "open_acc                      0.000033\n",
       "pub_rec                       0.000033\n",
       "revol_bal                     0.000000\n",
       "revol_util                    0.000566\n",
       "total_acc                     0.000033\n",
       "out_prncp                     0.000000\n",
       "out_prncp_inv                 0.000000\n",
       "total_pymnt                   0.000000\n",
       "total_pymnt_inv               0.000000\n",
       "total_rec_prncp               0.000000\n",
       "total_rec_int                 0.000000\n",
       "total_rec_late_fee            0.000000\n",
       "recoveries                    0.000000\n",
       "collection_recovery_fee       0.000000\n",
       "last_pymnt_amnt               0.000000\n",
       "collections_12_mths_ex_med    0.000163\n",
       "policy_code                   0.000000\n",
       "acc_now_delinq                0.000033\n",
       "tot_coll_amt                  0.079195\n",
       "tot_cur_bal                   0.079195\n",
       "total_rev_hi_lim              0.079195\n",
       "dtype: float64"
      ]
     },
     "execution_count": 129,
     "metadata": {},
     "output_type": "execute_result"
    }
   ],
   "source": [
    "num.isnull().mean()\n",
    "\n",
    "# we can see that all these columns have missing values less than 80%\n",
    "# and now we will impute all the missing values"
   ]
  },
  {
   "cell_type": "code",
   "execution_count": null,
   "metadata": {},
   "outputs": [],
   "source": []
  },
  {
   "cell_type": "markdown",
   "metadata": {},
   "source": [
    "#### Imputing Missing Values with Mean for Numberical variables"
   ]
  },
  {
   "cell_type": "code",
   "execution_count": 130,
   "metadata": {
    "ExecuteTime": {
     "end_time": "2021-06-24T17:52:51.462287Z",
     "start_time": "2021-06-24T17:52:46.874603Z"
    }
   },
   "outputs": [],
   "source": [
    "from sklearn.impute import SimpleImputer\n",
    "imputer=SimpleImputer(missing_values=np.nan,strategy='mean')\n",
    "#defining what missing values are and using mean to impute as we have already take care of outliers.\n",
    "num1=pd.DataFrame(imputer.fit_transform(num),index=num.index,columns=num.columns)"
   ]
  },
  {
   "cell_type": "code",
   "execution_count": 131,
   "metadata": {
    "ExecuteTime": {
     "end_time": "2021-06-24T17:52:53.970276Z",
     "start_time": "2021-06-24T17:52:53.818983Z"
    }
   },
   "outputs": [
    {
     "data": {
      "text/plain": [
       "loan_amnt                     0.0\n",
       "funded_amnt                   0.0\n",
       "funded_amnt_inv               0.0\n",
       "int_rate                      0.0\n",
       "installment                   0.0\n",
       "annual_inc                    0.0\n",
       "dti                           0.0\n",
       "delinq_2yrs                   0.0\n",
       "inq_last_6mths                0.0\n",
       "open_acc                      0.0\n",
       "pub_rec                       0.0\n",
       "revol_bal                     0.0\n",
       "revol_util                    0.0\n",
       "total_acc                     0.0\n",
       "out_prncp                     0.0\n",
       "out_prncp_inv                 0.0\n",
       "total_pymnt                   0.0\n",
       "total_pymnt_inv               0.0\n",
       "total_rec_prncp               0.0\n",
       "total_rec_int                 0.0\n",
       "total_rec_late_fee            0.0\n",
       "recoveries                    0.0\n",
       "collection_recovery_fee       0.0\n",
       "last_pymnt_amnt               0.0\n",
       "collections_12_mths_ex_med    0.0\n",
       "policy_code                   0.0\n",
       "acc_now_delinq                0.0\n",
       "tot_coll_amt                  0.0\n",
       "tot_cur_bal                   0.0\n",
       "total_rev_hi_lim              0.0\n",
       "dtype: float64"
      ]
     },
     "execution_count": 131,
     "metadata": {},
     "output_type": "execute_result"
    }
   ],
   "source": [
    "num1.isnull().mean()"
   ]
  },
  {
   "cell_type": "code",
   "execution_count": null,
   "metadata": {},
   "outputs": [],
   "source": []
  },
  {
   "cell_type": "markdown",
   "metadata": {},
   "source": [
    "#### Imputing Missing Values with Mode for Categorical Variables"
   ]
  },
  {
   "cell_type": "code",
   "execution_count": 132,
   "metadata": {
    "ExecuteTime": {
     "end_time": "2021-06-24T17:53:17.193648Z",
     "start_time": "2021-06-24T17:53:16.001867Z"
    }
   },
   "outputs": [
    {
     "data": {
      "text/plain": [
       "term                   0.000000\n",
       "grade                  0.000000\n",
       "sub_grade              0.000000\n",
       "emp_length             0.050514\n",
       "home_ownership         0.000000\n",
       "verification_status    0.000000\n",
       "issue_d                0.000000\n",
       "pymnt_plan             0.000000\n",
       "purpose                0.000000\n",
       "earliest_cr_line       0.000033\n",
       "initial_list_status    0.000000\n",
       "last_pymnt_d           0.019900\n",
       "last_credit_pull_d     0.000060\n",
       "application_type       0.000000\n",
       "dtype: float64"
      ]
     },
     "execution_count": 132,
     "metadata": {},
     "output_type": "execute_result"
    }
   ],
   "source": [
    "char.isnull().mean()"
   ]
  },
  {
   "cell_type": "code",
   "execution_count": 133,
   "metadata": {
    "ExecuteTime": {
     "end_time": "2021-06-24T17:53:51.803217Z",
     "start_time": "2021-06-24T17:53:20.724930Z"
    }
   },
   "outputs": [],
   "source": [
    "from sklearn.impute import SimpleImputer\n",
    "charimputer=SimpleImputer(missing_values=np.nan, strategy='most_frequent')\n",
    "char1=pd.DataFrame(charimputer.fit_transform(char),index=char.index,columns=char.columns)"
   ]
  },
  {
   "cell_type": "code",
   "execution_count": 134,
   "metadata": {
    "ExecuteTime": {
     "end_time": "2021-06-24T17:53:52.489877Z",
     "start_time": "2021-06-24T17:53:51.814188Z"
    }
   },
   "outputs": [
    {
     "data": {
      "text/plain": [
       "term                   0.0\n",
       "grade                  0.0\n",
       "sub_grade              0.0\n",
       "emp_length             0.0\n",
       "home_ownership         0.0\n",
       "verification_status    0.0\n",
       "issue_d                0.0\n",
       "pymnt_plan             0.0\n",
       "purpose                0.0\n",
       "earliest_cr_line       0.0\n",
       "initial_list_status    0.0\n",
       "last_pymnt_d           0.0\n",
       "last_credit_pull_d     0.0\n",
       "application_type       0.0\n",
       "dtype: float64"
      ]
     },
     "execution_count": 134,
     "metadata": {},
     "output_type": "execute_result"
    }
   ],
   "source": [
    "char1.isnull().mean()"
   ]
  },
  {
   "cell_type": "code",
   "execution_count": 137,
   "metadata": {
    "ExecuteTime": {
     "end_time": "2021-06-24T17:55:09.104123Z",
     "start_time": "2021-06-24T17:55:09.086160Z"
    }
   },
   "outputs": [],
   "source": [
    "# To avoid discrimation an enable fair lending, we are not using any title variables are risk identifier factors\n",
    "\n",
    "char1=char1.drop(['issue_d','sub_grade','last_credit_pull_d','earliest_cr_line','last_pymnt_d'],axis=1)"
   ]
  },
  {
   "cell_type": "code",
   "execution_count": 32,
   "metadata": {
    "ExecuteTime": {
     "end_time": "2021-06-24T15:36:29.402840Z",
     "start_time": "2021-06-24T15:36:29.387881Z"
    }
   },
   "outputs": [],
   "source": [
    "# Joining back the target  variable and exporting the pivot table for a BiVariate Analysis\n",
    "#categorical_variable_chk=pd.concat([Y,char_1],axis=1,join='inner')\n",
    "#categorical_variable_chk.to_csv('categorical_data_chk.csv')"
   ]
  },
  {
   "cell_type": "code",
   "execution_count": 138,
   "metadata": {
    "ExecuteTime": {
     "end_time": "2021-06-24T17:55:15.068461Z",
     "start_time": "2021-06-24T17:55:14.730051Z"
    }
   },
   "outputs": [
    {
     "data": {
      "text/plain": [
       "count    887379.000000\n",
       "mean      14759.987672\n",
       "std        8428.021535\n",
       "min        1800.000000\n",
       "10%        5000.000000\n",
       "20%        7175.000000\n",
       "30%        9600.000000\n",
       "40%       11000.000000\n",
       "50%       13000.000000\n",
       "60%       15000.000000\n",
       "70%       18450.000000\n",
       "80%       21600.000000\n",
       "90%       28000.000000\n",
       "max       35000.000000\n",
       "Name: loan_amnt, dtype: float64"
      ]
     },
     "execution_count": 138,
     "metadata": {},
     "output_type": "execute_result"
    }
   ],
   "source": [
    "# Bivariate analysis will be done on both categorical and numberical features\n",
    "# but for numercial features since the data is continuous , we need to convert them into discrete form.\n",
    "\n",
    "#Every feature will be converted into a rank from 0 to 9 (0 being the lowest and 9 being highest)\n",
    "#This basically shows at which percentile(i.e. deciles) does the data stand for that feature \n",
    "\n",
    "#using bivariate analysis we can access the impact/effect of ranks/features values on the event rate\n",
    "\n",
    "# for eg:\n",
    "num1['loan_amnt'].describe(percentiles=[0.1,0.2,0.3,0.4,0.5,0.6,0.7,0.8,0.9])\n",
    "\n",
    "# this means ppl getting 5000 and less loan would go to rank 0\n",
    "# mean ppl getting 5000 to 7175 loan would go to rank 1\n",
    "# and ppl with 28000 and above will go to rank 9"
   ]
  },
  {
   "cell_type": "code",
   "execution_count": null,
   "metadata": {},
   "outputs": [],
   "source": []
  },
  {
   "cell_type": "markdown",
   "metadata": {},
   "source": [
    "\n",
    "#### Discretizing the numerical features    "
   ]
  },
  {
   "cell_type": "code",
   "execution_count": 139,
   "metadata": {
    "ExecuteTime": {
     "end_time": "2021-06-24T17:55:25.693891Z",
     "start_time": "2021-06-24T17:55:20.079624Z"
    }
   },
   "outputs": [
    {
     "data": {
      "text/html": [
       "<div>\n",
       "<style scoped>\n",
       "    .dataframe tbody tr th:only-of-type {\n",
       "        vertical-align: middle;\n",
       "    }\n",
       "\n",
       "    .dataframe tbody tr th {\n",
       "        vertical-align: top;\n",
       "    }\n",
       "\n",
       "    .dataframe thead th {\n",
       "        text-align: right;\n",
       "    }\n",
       "</style>\n",
       "<table border=\"1\" class=\"dataframe\">\n",
       "  <thead>\n",
       "    <tr style=\"text-align: right;\">\n",
       "      <th></th>\n",
       "      <th>loan_amnt_Rank</th>\n",
       "      <th>funded_amnt_Rank</th>\n",
       "      <th>funded_amnt_inv_Rank</th>\n",
       "      <th>int_rate_Rank</th>\n",
       "      <th>installment_Rank</th>\n",
       "      <th>annual_inc_Rank</th>\n",
       "      <th>dti_Rank</th>\n",
       "      <th>delinq_2yrs_Rank</th>\n",
       "      <th>inq_last_6mths_Rank</th>\n",
       "      <th>open_acc_Rank</th>\n",
       "      <th>pub_rec_Rank</th>\n",
       "      <th>revol_bal_Rank</th>\n",
       "      <th>revol_util_Rank</th>\n",
       "      <th>total_acc_Rank</th>\n",
       "      <th>out_prncp_Rank</th>\n",
       "      <th>out_prncp_inv_Rank</th>\n",
       "      <th>total_pymnt_Rank</th>\n",
       "      <th>total_pymnt_inv_Rank</th>\n",
       "      <th>total_rec_prncp_Rank</th>\n",
       "      <th>total_rec_int_Rank</th>\n",
       "      <th>total_rec_late_fee_Rank</th>\n",
       "      <th>recoveries_Rank</th>\n",
       "      <th>collection_recovery_fee_Rank</th>\n",
       "      <th>last_pymnt_amnt_Rank</th>\n",
       "      <th>collections_12_mths_ex_med_Rank</th>\n",
       "      <th>policy_code_Rank</th>\n",
       "      <th>acc_now_delinq_Rank</th>\n",
       "      <th>tot_coll_amt_Rank</th>\n",
       "      <th>tot_cur_bal_Rank</th>\n",
       "      <th>total_rev_hi_lim_Rank</th>\n",
       "    </tr>\n",
       "  </thead>\n",
       "  <tbody>\n",
       "    <tr>\n",
       "      <th>0</th>\n",
       "      <td>1.0</td>\n",
       "      <td>1.0</td>\n",
       "      <td>0.0</td>\n",
       "      <td>2.0</td>\n",
       "      <td>0.0</td>\n",
       "      <td>0.0</td>\n",
       "      <td>8.0</td>\n",
       "      <td>0.0</td>\n",
       "      <td>1.0</td>\n",
       "      <td>0.0</td>\n",
       "      <td>0.0</td>\n",
       "      <td>5.0</td>\n",
       "      <td>8.0</td>\n",
       "      <td>0.0</td>\n",
       "      <td>0.0</td>\n",
       "      <td>0.0</td>\n",
       "      <td>5.0</td>\n",
       "      <td>5.0</td>\n",
       "      <td>6.0</td>\n",
       "      <td>4.0</td>\n",
       "      <td>0.0</td>\n",
       "      <td>0.0</td>\n",
       "      <td>0.0</td>\n",
       "      <td>1.0</td>\n",
       "      <td>0.0</td>\n",
       "      <td>0.0</td>\n",
       "      <td>0.0</td>\n",
       "      <td>2.0</td>\n",
       "      <td>6.0</td>\n",
       "      <td>6.0</td>\n",
       "    </tr>\n",
       "    <tr>\n",
       "      <th>1</th>\n",
       "      <td>0.0</td>\n",
       "      <td>0.0</td>\n",
       "      <td>0.0</td>\n",
       "      <td>6.0</td>\n",
       "      <td>0.0</td>\n",
       "      <td>0.0</td>\n",
       "      <td>0.0</td>\n",
       "      <td>0.0</td>\n",
       "      <td>2.0</td>\n",
       "      <td>0.0</td>\n",
       "      <td>0.0</td>\n",
       "      <td>0.0</td>\n",
       "      <td>0.0</td>\n",
       "      <td>0.0</td>\n",
       "      <td>0.0</td>\n",
       "      <td>0.0</td>\n",
       "      <td>1.0</td>\n",
       "      <td>1.0</td>\n",
       "      <td>1.0</td>\n",
       "      <td>2.0</td>\n",
       "      <td>0.0</td>\n",
       "      <td>0.0</td>\n",
       "      <td>0.0</td>\n",
       "      <td>0.0</td>\n",
       "      <td>0.0</td>\n",
       "      <td>0.0</td>\n",
       "      <td>0.0</td>\n",
       "      <td>2.0</td>\n",
       "      <td>6.0</td>\n",
       "      <td>6.0</td>\n",
       "    </tr>\n",
       "    <tr>\n",
       "      <th>2</th>\n",
       "      <td>0.0</td>\n",
       "      <td>0.0</td>\n",
       "      <td>0.0</td>\n",
       "      <td>7.0</td>\n",
       "      <td>0.0</td>\n",
       "      <td>0.0</td>\n",
       "      <td>1.0</td>\n",
       "      <td>0.0</td>\n",
       "      <td>2.0</td>\n",
       "      <td>0.0</td>\n",
       "      <td>0.0</td>\n",
       "      <td>0.0</td>\n",
       "      <td>9.0</td>\n",
       "      <td>0.0</td>\n",
       "      <td>0.0</td>\n",
       "      <td>0.0</td>\n",
       "      <td>3.0</td>\n",
       "      <td>3.0</td>\n",
       "      <td>4.0</td>\n",
       "      <td>3.0</td>\n",
       "      <td>0.0</td>\n",
       "      <td>0.0</td>\n",
       "      <td>0.0</td>\n",
       "      <td>6.0</td>\n",
       "      <td>0.0</td>\n",
       "      <td>0.0</td>\n",
       "      <td>0.0</td>\n",
       "      <td>2.0</td>\n",
       "      <td>6.0</td>\n",
       "      <td>6.0</td>\n",
       "    </tr>\n",
       "    <tr>\n",
       "      <th>3</th>\n",
       "      <td>3.0</td>\n",
       "      <td>3.0</td>\n",
       "      <td>3.0</td>\n",
       "      <td>5.0</td>\n",
       "      <td>4.0</td>\n",
       "      <td>2.0</td>\n",
       "      <td>6.0</td>\n",
       "      <td>0.0</td>\n",
       "      <td>1.0</td>\n",
       "      <td>4.0</td>\n",
       "      <td>0.0</td>\n",
       "      <td>2.0</td>\n",
       "      <td>0.0</td>\n",
       "      <td>8.0</td>\n",
       "      <td>0.0</td>\n",
       "      <td>0.0</td>\n",
       "      <td>7.0</td>\n",
       "      <td>7.0</td>\n",
       "      <td>8.0</td>\n",
       "      <td>7.0</td>\n",
       "      <td>0.0</td>\n",
       "      <td>0.0</td>\n",
       "      <td>0.0</td>\n",
       "      <td>3.0</td>\n",
       "      <td>0.0</td>\n",
       "      <td>0.0</td>\n",
       "      <td>0.0</td>\n",
       "      <td>2.0</td>\n",
       "      <td>6.0</td>\n",
       "      <td>6.0</td>\n",
       "    </tr>\n",
       "    <tr>\n",
       "      <th>4</th>\n",
       "      <td>0.0</td>\n",
       "      <td>0.0</td>\n",
       "      <td>0.0</td>\n",
       "      <td>4.0</td>\n",
       "      <td>0.0</td>\n",
       "      <td>6.0</td>\n",
       "      <td>5.0</td>\n",
       "      <td>0.0</td>\n",
       "      <td>0.0</td>\n",
       "      <td>8.0</td>\n",
       "      <td>0.0</td>\n",
       "      <td>8.0</td>\n",
       "      <td>4.0</td>\n",
       "      <td>8.0</td>\n",
       "      <td>0.0</td>\n",
       "      <td>0.0</td>\n",
       "      <td>3.0</td>\n",
       "      <td>3.0</td>\n",
       "      <td>3.0</td>\n",
       "      <td>4.0</td>\n",
       "      <td>0.0</td>\n",
       "      <td>0.0</td>\n",
       "      <td>0.0</td>\n",
       "      <td>0.0</td>\n",
       "      <td>0.0</td>\n",
       "      <td>0.0</td>\n",
       "      <td>0.0</td>\n",
       "      <td>2.0</td>\n",
       "      <td>6.0</td>\n",
       "      <td>6.0</td>\n",
       "    </tr>\n",
       "  </tbody>\n",
       "</table>\n",
       "</div>"
      ],
      "text/plain": [
       "   loan_amnt_Rank  funded_amnt_Rank  funded_amnt_inv_Rank  int_rate_Rank  \\\n",
       "0             1.0               1.0                   0.0            2.0   \n",
       "1             0.0               0.0                   0.0            6.0   \n",
       "2             0.0               0.0                   0.0            7.0   \n",
       "3             3.0               3.0                   3.0            5.0   \n",
       "4             0.0               0.0                   0.0            4.0   \n",
       "\n",
       "   installment_Rank  annual_inc_Rank  dti_Rank  delinq_2yrs_Rank  \\\n",
       "0               0.0              0.0       8.0               0.0   \n",
       "1               0.0              0.0       0.0               0.0   \n",
       "2               0.0              0.0       1.0               0.0   \n",
       "3               4.0              2.0       6.0               0.0   \n",
       "4               0.0              6.0       5.0               0.0   \n",
       "\n",
       "   inq_last_6mths_Rank  open_acc_Rank  pub_rec_Rank  revol_bal_Rank  \\\n",
       "0                  1.0            0.0           0.0             5.0   \n",
       "1                  2.0            0.0           0.0             0.0   \n",
       "2                  2.0            0.0           0.0             0.0   \n",
       "3                  1.0            4.0           0.0             2.0   \n",
       "4                  0.0            8.0           0.0             8.0   \n",
       "\n",
       "   revol_util_Rank  total_acc_Rank  out_prncp_Rank  out_prncp_inv_Rank  \\\n",
       "0              8.0             0.0             0.0                 0.0   \n",
       "1              0.0             0.0             0.0                 0.0   \n",
       "2              9.0             0.0             0.0                 0.0   \n",
       "3              0.0             8.0             0.0                 0.0   \n",
       "4              4.0             8.0             0.0                 0.0   \n",
       "\n",
       "   total_pymnt_Rank  total_pymnt_inv_Rank  total_rec_prncp_Rank  \\\n",
       "0               5.0                   5.0                   6.0   \n",
       "1               1.0                   1.0                   1.0   \n",
       "2               3.0                   3.0                   4.0   \n",
       "3               7.0                   7.0                   8.0   \n",
       "4               3.0                   3.0                   3.0   \n",
       "\n",
       "   total_rec_int_Rank  total_rec_late_fee_Rank  recoveries_Rank  \\\n",
       "0                 4.0                      0.0              0.0   \n",
       "1                 2.0                      0.0              0.0   \n",
       "2                 3.0                      0.0              0.0   \n",
       "3                 7.0                      0.0              0.0   \n",
       "4                 4.0                      0.0              0.0   \n",
       "\n",
       "   collection_recovery_fee_Rank  last_pymnt_amnt_Rank  \\\n",
       "0                           0.0                   1.0   \n",
       "1                           0.0                   0.0   \n",
       "2                           0.0                   6.0   \n",
       "3                           0.0                   3.0   \n",
       "4                           0.0                   0.0   \n",
       "\n",
       "   collections_12_mths_ex_med_Rank  policy_code_Rank  acc_now_delinq_Rank  \\\n",
       "0                              0.0               0.0                  0.0   \n",
       "1                              0.0               0.0                  0.0   \n",
       "2                              0.0               0.0                  0.0   \n",
       "3                              0.0               0.0                  0.0   \n",
       "4                              0.0               0.0                  0.0   \n",
       "\n",
       "   tot_coll_amt_Rank  tot_cur_bal_Rank  total_rev_hi_lim_Rank  \n",
       "0                2.0               6.0                    6.0  \n",
       "1                2.0               6.0                    6.0  \n",
       "2                2.0               6.0                    6.0  \n",
       "3                2.0               6.0                    6.0  \n",
       "4                2.0               6.0                    6.0  "
      ]
     },
     "execution_count": 139,
     "metadata": {},
     "output_type": "execute_result"
    }
   ],
   "source": [
    "from sklearn.preprocessing import KBinsDiscretizer\n",
    "discrete=KBinsDiscretizer(n_bins=10,encode='ordinal',strategy='quantile')\n",
    "num_binned=pd.DataFrame(discrete.fit_transform(num1),index=num1.index,columns=num1.columns).add_suffix('_Rank')\n",
    "num_binned.head()"
   ]
  },
  {
   "cell_type": "markdown",
   "metadata": {},
   "source": [
    "#### Understanding the predictive power of Numberical features"
   ]
  },
  {
   "cell_type": "code",
   "execution_count": 140,
   "metadata": {
    "ExecuteTime": {
     "end_time": "2021-06-24T18:00:38.172840Z",
     "start_time": "2021-06-24T17:55:30.815839Z"
    }
   },
   "outputs": [
    {
     "data": {
      "image/png": "[encoded data removed]",
      "text/plain": [
       "<Figure size 432x288 with 1 Axes>"
      ]
     },
     "metadata": {
      "needs_background": "light"
     },
     "output_type": "display_data"
    },
    {
     "data": {
      "image/png": "[encoded data removed]",
      "text/plain": [
       "<Figure size 432x288 with 1 Axes>"
      ]
     },
     "metadata": {
      "needs_background": "light"
     },
     "output_type": "display_data"
    },
    {
     "data": {
      "image/png": "[encoded data removed]",
      "text/plain": [
       "<Figure size 432x288 with 1 Axes>"
      ]
     },
     "metadata": {
      "needs_background": "light"
     },
     "output_type": "display_data"
    },
    {
     "data": {
      "image/png": "[encoded data removed]",
      "text/plain": [
       "<Figure size 432x288 with 1 Axes>"
      ]
     },
     "metadata": {
      "needs_background": "light"
     },
     "output_type": "display_data"
    },
    {
     "data": {
      "image/png": "[encoded data removed]",
      "text/plain": [
       "<Figure size 432x288 with 1 Axes>"
      ]
     },
     "metadata": {
      "needs_background": "light"
     },
     "output_type": "display_data"
    },
    {
     "data": {
      "image/png": "[encoded data removed]",
      "text/plain": [
       "<Figure size 432x288 with 1 Axes>"
      ]
     },
     "metadata": {
      "needs_background": "light"
     },
     "output_type": "display_data"
    },
    {
     "data": {
      "image/png": "[encoded data removed]",
      "text/plain": [
       "<Figure size 432x288 with 1 Axes>"
      ]
     },
     "metadata": {
      "needs_background": "light"
     },
     "output_type": "display_data"
    },
    {
     "data": {
      "image/png": "[encoded data removed]",
      "text/plain": [
       "<Figure size 432x288 with 1 Axes>"
      ]
     },
     "metadata": {
      "needs_background": "light"
     },
     "output_type": "display_data"
    },
    {
     "data": {
      "image/png": "[encoded data removed]",
      "text/plain": [
       "<Figure size 432x288 with 1 Axes>"
      ]
     },
     "metadata": {
      "needs_background": "light"
     },
     "output_type": "display_data"
    },
    {
     "data": {
      "image/png": "[encoded data removed]",
      "text/plain": [
       "<Figure size 432x288 with 1 Axes>"
      ]
     },
     "metadata": {
      "needs_background": "light"
     },
     "output_type": "display_data"
    },
    {
     "data": {
      "image/png": "[encoded data removed]",
      "text/plain": [
       "<Figure size 432x288 with 1 Axes>"
      ]
     },
     "metadata": {
      "needs_background": "light"
     },
     "output_type": "display_data"
    },
    {
     "data": {
      "image/png": "[encoded data removed]",
      "text/plain": [
       "<Figure size 432x288 with 1 Axes>"
      ]
     },
     "metadata": {
      "needs_background": "light"
     },
     "output_type": "display_data"
    },
    {
     "data": {
      "image/png": "[encoded data removed]",
      "text/plain": [
       "<Figure size 432x288 with 1 Axes>"
      ]
     },
     "metadata": {
      "needs_background": "light"
     },
     "output_type": "display_data"
    },
    {
     "data": {
      "image/png": "[encoded data removed]",
      "text/plain": [
       "<Figure size 432x288 with 1 Axes>"
      ]
     },
     "metadata": {
      "needs_background": "light"
     },
     "output_type": "display_data"
    },
    {
     "data": {
      "image/png": "[encoded data removed]",
      "text/plain": [
       "<Figure size 432x288 with 1 Axes>"
      ]
     },
     "metadata": {
      "needs_background": "light"
     },
     "output_type": "display_data"
    },
    {
     "data": {
      "image/png": "[encoded data removed]",
      "text/plain": [
       "<Figure size 432x288 with 1 Axes>"
      ]
     },
     "metadata": {
      "needs_background": "light"
     },
     "output_type": "display_data"
    },
    {
     "data": {
      "image/png": "[encoded data removed]",
      "text/plain": [
       "<Figure size 432x288 with 1 Axes>"
      ]
     },
     "metadata": {
      "needs_background": "light"
     },
     "output_type": "display_data"
    },
    {
     "data": {
      "image/png": "[encoded data removed]",
      "text/plain": [
       "<Figure size 432x288 with 1 Axes>"
      ]
     },
     "metadata": {
      "needs_background": "light"
     },
     "output_type": "display_data"
    },
    {
     "data": {
      "image/png": "[encoded data removed]",
      "text/plain": [
       "<Figure size 432x288 with 1 Axes>"
      ]
     },
     "metadata": {
      "needs_background": "light"
     },
     "output_type": "display_data"
    },
    {
     "data": {
      "image/png": "[encoded data removed]",
      "text/plain": [
       "<Figure size 432x288 with 1 Axes>"
      ]
     },
     "metadata": {
      "needs_background": "light"
     },
     "output_type": "display_data"
    },
    {
     "data": {
      "image/png": "[encoded data removed]",
      "text/plain": [
       "<Figure size 432x288 with 1 Axes>"
      ]
     },
     "metadata": {
      "needs_background": "light"
     },
     "output_type": "display_data"
    },
    {
     "data": {
      "image/png": "[encoded data removed]",
      "text/plain": [
       "<Figure size 432x288 with 1 Axes>"
      ]
     },
     "metadata": {
      "needs_background": "light"
     },
     "output_type": "display_data"
    },
    {
     "data": {
      "image/png": "[encoded data removed]",
      "text/plain": [
       "<Figure size 432x288 with 1 Axes>"
      ]
     },
     "metadata": {
      "needs_background": "light"
     },
     "output_type": "display_data"
    },
    {
     "data": {
      "image/png": "[encoded data removed]",
      "text/plain": [
       "<Figure size 432x288 with 1 Axes>"
      ]
     },
     "metadata": {
      "needs_background": "light"
     },
     "output_type": "display_data"
    },
    {
     "data": {
      "image/png": "[encoded data removed]",
      "text/plain": [
       "<Figure size 432x288 with 1 Axes>"
      ]
     },
     "metadata": {
      "needs_background": "light"
     },
     "output_type": "display_data"
    },
    {
     "data": {
      "image/png": "[encoded data removed]",
      "text/plain": [
       "<Figure size 432x288 with 1 Axes>"
      ]
     },
     "metadata": {
      "needs_background": "light"
     },
     "output_type": "display_data"
    },
    {
     "data": {
      "image/png": "[encoded data removed]",
      "text/plain": [
       "<Figure size 432x288 with 1 Axes>"
      ]
     },
     "metadata": {
      "needs_background": "light"
     },
     "output_type": "display_data"
    },
    {
     "data": {
      "image/png": "[encoded data removed]",
      "text/plain": [
       "<Figure size 432x288 with 1 Axes>"
      ]
     },
     "metadata": {
      "needs_background": "light"
     },
     "output_type": "display_data"
    },
    {
     "data": {
      "image/png": "[encoded data removed]",
      "text/plain": [
       "<Figure size 432x288 with 1 Axes>"
      ]
     },
     "metadata": {
      "needs_background": "light"
     },
     "output_type": "display_data"
    },
    {
     "data": {
      "image/png": "[encoded data removed]",
      "text/plain": [
       "<Figure size 432x288 with 1 Axes>"
      ]
     },
     "metadata": {
      "needs_background": "light"
     },
     "output_type": "display_data"
    },
    {
     "data": {
      "image/png": "[encoded data removed]",
      "text/plain": [
       "<Figure size 432x288 with 1 Axes>"
      ]
     },
     "metadata": {
      "needs_background": "light"
     },
     "output_type": "display_data"
    }
   ],
   "source": [
    "\n",
    "#Check if the features show a slope at all\n",
    "#If they do, then do you see some deciles below the population average and some higher than population average?\n",
    "#If that is the case then the slope will be strong\n",
    "#Conclusion: A strong slope is indicative of the features' ability to discriminate the event from non event\n",
    "#            making it a good predictor\n",
    "\n",
    "#percentage_income_goesinto_intallments=Insallment/annual_inc (Derived Variables/Feature Engineering)\n",
    "\n",
    "\n",
    "X_bin_combined=pd.concat([Y,num_binned],axis=1,join='inner')\n",
    "\n",
    "import matplotlib.pyplot as plt\n",
    "import seaborn as sns\n",
    "from numpy import mean\n",
    "\n",
    "for col in (X_bin_combined.columns):\n",
    "    plt.figure()\n",
    "    sns.barplot(x=col,y='target',data=X_bin_combined,estimator=mean)\n",
    "plt.show()\n",
    "\n",
    "# from the below graph we can understand which features are important, using the slope.\n",
    "# the graph with more slope show a better predictive power\n",
    "\n",
    "# the graph basically shows how much each decile differently affect the target, if each decile for a feature\n",
    "# differently effect the target then it's a good predictor. \n",
    "# however a graph with slope basically shows wether value is high or low, it's not affecting target hence bad predictor"
   ]
  },
  {
   "cell_type": "code",
   "execution_count": 141,
   "metadata": {
    "ExecuteTime": {
     "end_time": "2021-06-24T18:00:38.188801Z",
     "start_time": "2021-06-24T18:00:38.175864Z"
    }
   },
   "outputs": [
    {
     "data": {
      "text/plain": [
       "(887379, 30)"
      ]
     },
     "execution_count": 141,
     "metadata": {},
     "output_type": "execute_result"
    }
   ],
   "source": [
    "num1.shape"
   ]
  },
  {
   "cell_type": "code",
   "execution_count": 142,
   "metadata": {
    "ExecuteTime": {
     "end_time": "2021-06-24T18:00:46.121838Z",
     "start_time": "2021-06-24T18:00:45.516763Z"
    }
   },
   "outputs": [],
   "source": [
    "# now  we could either manually select important features from above and then feed it to a feature selection model \n",
    "# and find best features, or we could directly input all the features in the selection model.\n",
    "# here we can decide the number of features and the model further filters the features to give us the best k features\n",
    "\n",
    "# Select K best for Numberical Features\n",
    "\n",
    "from sklearn.feature_selection import SelectKBest,chi2\n",
    "selector=SelectKBest(chi2,k=15)\n",
    "X_new=selector.fit_transform(num1,Y)\n",
    "\n",
    "# Get columns to keep and create new dataframe with those only\n",
    "cols=selector.get_support(indices=True)  \n",
    "# get selected column indexes in a list which can bve used to create a dataframe using iloc\n",
    "select_features_df_num=num1.iloc[:,cols]"
   ]
  },
  {
   "cell_type": "code",
   "execution_count": 143,
   "metadata": {
    "ExecuteTime": {
     "end_time": "2021-06-24T18:00:48.271544Z",
     "start_time": "2021-06-24T18:00:48.149763Z"
    }
   },
   "outputs": [
    {
     "data": {
      "text/html": [
       "<div>\n",
       "<style scoped>\n",
       "    .dataframe tbody tr th:only-of-type {\n",
       "        vertical-align: middle;\n",
       "    }\n",
       "\n",
       "    .dataframe tbody tr th {\n",
       "        vertical-align: top;\n",
       "    }\n",
       "\n",
       "    .dataframe thead th {\n",
       "        text-align: right;\n",
       "    }\n",
       "</style>\n",
       "<table border=\"1\" class=\"dataframe\">\n",
       "  <thead>\n",
       "    <tr style=\"text-align: right;\">\n",
       "      <th></th>\n",
       "      <th>funded_amnt_inv</th>\n",
       "      <th>annual_inc</th>\n",
       "      <th>revol_bal</th>\n",
       "      <th>out_prncp</th>\n",
       "      <th>out_prncp_inv</th>\n",
       "      <th>total_pymnt</th>\n",
       "      <th>total_pymnt_inv</th>\n",
       "      <th>total_rec_prncp</th>\n",
       "      <th>total_rec_int</th>\n",
       "      <th>recoveries</th>\n",
       "      <th>collection_recovery_fee</th>\n",
       "      <th>last_pymnt_amnt</th>\n",
       "      <th>tot_coll_amt</th>\n",
       "      <th>tot_cur_bal</th>\n",
       "      <th>total_rev_hi_lim</th>\n",
       "    </tr>\n",
       "  </thead>\n",
       "  <tbody>\n",
       "    <tr>\n",
       "      <th>0</th>\n",
       "      <td>4975.0</td>\n",
       "      <td>24000.0</td>\n",
       "      <td>13648.0</td>\n",
       "      <td>0.0</td>\n",
       "      <td>0.0</td>\n",
       "      <td>5861.071414</td>\n",
       "      <td>5831.78</td>\n",
       "      <td>5000.00</td>\n",
       "      <td>861.07</td>\n",
       "      <td>0.00</td>\n",
       "      <td>0.00</td>\n",
       "      <td>171.62</td>\n",
       "      <td>132.053983</td>\n",
       "      <td>137182.970736</td>\n",
       "      <td>31274.143259</td>\n",
       "    </tr>\n",
       "    <tr>\n",
       "      <th>1</th>\n",
       "      <td>2500.0</td>\n",
       "      <td>30000.0</td>\n",
       "      <td>1687.0</td>\n",
       "      <td>0.0</td>\n",
       "      <td>0.0</td>\n",
       "      <td>1008.710000</td>\n",
       "      <td>1008.71</td>\n",
       "      <td>456.46</td>\n",
       "      <td>435.17</td>\n",
       "      <td>117.08</td>\n",
       "      <td>1.11</td>\n",
       "      <td>119.66</td>\n",
       "      <td>132.053983</td>\n",
       "      <td>137182.970736</td>\n",
       "      <td>31274.143259</td>\n",
       "    </tr>\n",
       "    <tr>\n",
       "      <th>2</th>\n",
       "      <td>2400.0</td>\n",
       "      <td>19000.0</td>\n",
       "      <td>2956.0</td>\n",
       "      <td>0.0</td>\n",
       "      <td>0.0</td>\n",
       "      <td>3003.653644</td>\n",
       "      <td>3003.65</td>\n",
       "      <td>2400.00</td>\n",
       "      <td>603.65</td>\n",
       "      <td>0.00</td>\n",
       "      <td>0.00</td>\n",
       "      <td>649.91</td>\n",
       "      <td>132.053983</td>\n",
       "      <td>137182.970736</td>\n",
       "      <td>31274.143259</td>\n",
       "    </tr>\n",
       "    <tr>\n",
       "      <th>3</th>\n",
       "      <td>10000.0</td>\n",
       "      <td>49200.0</td>\n",
       "      <td>5598.0</td>\n",
       "      <td>0.0</td>\n",
       "      <td>0.0</td>\n",
       "      <td>12226.302212</td>\n",
       "      <td>12226.30</td>\n",
       "      <td>10000.00</td>\n",
       "      <td>2209.33</td>\n",
       "      <td>0.00</td>\n",
       "      <td>0.00</td>\n",
       "      <td>357.48</td>\n",
       "      <td>132.053983</td>\n",
       "      <td>137182.970736</td>\n",
       "      <td>31274.143259</td>\n",
       "    </tr>\n",
       "    <tr>\n",
       "      <th>4</th>\n",
       "      <td>3000.0</td>\n",
       "      <td>80000.0</td>\n",
       "      <td>27783.0</td>\n",
       "      <td>766.9</td>\n",
       "      <td>766.9</td>\n",
       "      <td>3242.170000</td>\n",
       "      <td>3242.17</td>\n",
       "      <td>2233.10</td>\n",
       "      <td>1009.07</td>\n",
       "      <td>0.00</td>\n",
       "      <td>0.00</td>\n",
       "      <td>67.79</td>\n",
       "      <td>132.053983</td>\n",
       "      <td>137182.970736</td>\n",
       "      <td>31274.143259</td>\n",
       "    </tr>\n",
       "  </tbody>\n",
       "</table>\n",
       "</div>"
      ],
      "text/plain": [
       "   funded_amnt_inv  annual_inc  revol_bal  out_prncp  out_prncp_inv  \\\n",
       "0           4975.0     24000.0    13648.0        0.0            0.0   \n",
       "1           2500.0     30000.0     1687.0        0.0            0.0   \n",
       "2           2400.0     19000.0     2956.0        0.0            0.0   \n",
       "3          10000.0     49200.0     5598.0        0.0            0.0   \n",
       "4           3000.0     80000.0    27783.0      766.9          766.9   \n",
       "\n",
       "    total_pymnt  total_pymnt_inv  total_rec_prncp  total_rec_int  recoveries  \\\n",
       "0   5861.071414          5831.78          5000.00         861.07        0.00   \n",
       "1   1008.710000          1008.71           456.46         435.17      117.08   \n",
       "2   3003.653644          3003.65          2400.00         603.65        0.00   \n",
       "3  12226.302212         12226.30         10000.00        2209.33        0.00   \n",
       "4   3242.170000          3242.17          2233.10        1009.07        0.00   \n",
       "\n",
       "   collection_recovery_fee  last_pymnt_amnt  tot_coll_amt    tot_cur_bal  \\\n",
       "0                     0.00           171.62    132.053983  137182.970736   \n",
       "1                     1.11           119.66    132.053983  137182.970736   \n",
       "2                     0.00           649.91    132.053983  137182.970736   \n",
       "3                     0.00           357.48    132.053983  137182.970736   \n",
       "4                     0.00            67.79    132.053983  137182.970736   \n",
       "\n",
       "   total_rev_hi_lim  \n",
       "0      31274.143259  \n",
       "1      31274.143259  \n",
       "2      31274.143259  \n",
       "3      31274.143259  \n",
       "4      31274.143259  "
      ]
     },
     "execution_count": 143,
     "metadata": {},
     "output_type": "execute_result"
    }
   ],
   "source": [
    "select_features_df_num[:5]"
   ]
  },
  {
   "cell_type": "code",
   "execution_count": 144,
   "metadata": {
    "ExecuteTime": {
     "end_time": "2021-06-24T18:00:50.264386Z",
     "start_time": "2021-06-24T18:00:50.249426Z"
    }
   },
   "outputs": [
    {
     "data": {
      "text/plain": [
       "funded_amnt_inv            float64\n",
       "annual_inc                 float64\n",
       "revol_bal                  float64\n",
       "out_prncp                  float64\n",
       "out_prncp_inv              float64\n",
       "total_pymnt                float64\n",
       "total_pymnt_inv            float64\n",
       "total_rec_prncp            float64\n",
       "total_rec_int              float64\n",
       "recoveries                 float64\n",
       "collection_recovery_fee    float64\n",
       "last_pymnt_amnt            float64\n",
       "tot_coll_amt               float64\n",
       "tot_cur_bal                float64\n",
       "total_rev_hi_lim           float64\n",
       "dtype: object"
      ]
     },
     "execution_count": 144,
     "metadata": {},
     "output_type": "execute_result"
    }
   ],
   "source": [
    "select_features_df_num.dtypes\n",
    "\n",
    "# we could double check the features selected from the bar plot above to check its slope\n"
   ]
  },
  {
   "cell_type": "code",
   "execution_count": null,
   "metadata": {},
   "outputs": [],
   "source": []
  },
  {
   "cell_type": "markdown",
   "metadata": {},
   "source": [
    "#### Understanding the predictive power of Categorical features"
   ]
  },
  {
   "cell_type": "code",
   "execution_count": 145,
   "metadata": {
    "ExecuteTime": {
     "end_time": "2021-06-24T18:02:53.458323Z",
     "start_time": "2021-06-24T18:00:56.759728Z"
    }
   },
   "outputs": [
    {
     "data": {
      "image/png": "[encoded data removed]",
      "text/plain": [
       "<Figure size 432x288 with 1 Axes>"
      ]
     },
     "metadata": {
      "needs_background": "light"
     },
     "output_type": "display_data"
    },
    {
     "data": {
      "image/png": "[encoded data removed]",
      "text/plain": [
       "<Figure size 432x288 with 1 Axes>"
      ]
     },
     "metadata": {
      "needs_background": "light"
     },
     "output_type": "display_data"
    },
    {
     "data": {
      "image/png": "[encoded data removed]",
      "text/plain": [
       "<Figure size 432x288 with 1 Axes>"
      ]
     },
     "metadata": {
      "needs_background": "light"
     },
     "output_type": "display_data"
    },
    {
     "data": {
      "image/png": "[encoded data removed]",
      "text/plain": [
       "<Figure size 432x288 with 1 Axes>"
      ]
     },
     "metadata": {
      "needs_background": "light"
     },
     "output_type": "display_data"
    },
    {
     "data": {
      "image/png": "[encoded data removed]",
      "text/plain": [
       "<Figure size 432x288 with 1 Axes>"
      ]
     },
     "metadata": {
      "needs_background": "light"
     },
     "output_type": "display_data"
    },
    {
     "data": {
      "image/png": "[encoded data removed]",
      "text/plain": [
       "<Figure size 432x288 with 1 Axes>"
      ]
     },
     "metadata": {
      "needs_background": "light"
     },
     "output_type": "display_data"
    },
    {
     "data": {
      "image/png": "[encoded data removed]",
      "text/plain": [
       "<Figure size 432x288 with 1 Axes>"
      ]
     },
     "metadata": {
      "needs_background": "light"
     },
     "output_type": "display_data"
    },
    {
     "data": {
      "image/png": "[encoded data removed]",
      "text/plain": [
       "<Figure size 432x288 with 1 Axes>"
      ]
     },
     "metadata": {
      "needs_background": "light"
     },
     "output_type": "display_data"
    },
    {
     "data": {
      "image/png": "[encoded data removed]",
      "text/plain": [
       "<Figure size 432x288 with 1 Axes>"
      ]
     },
     "metadata": {
      "needs_background": "light"
     },
     "output_type": "display_data"
    }
   ],
   "source": [
    "\n",
    "X_char_combined=pd.concat([Y,char1],axis=1,join='inner')\n",
    "\n",
    "\n",
    "import matplotlib.pyplot as plt\n",
    "import seaborn as sns\n",
    "from numpy import mean\n",
    "\n",
    "for col in (char1.columns):\n",
    "    plt.figure()\n",
    "    sns.barplot(x=col,y=\"target\",data=X_char_combined,estimator=mean)\n",
    "plt.show()"
   ]
  },
  {
   "cell_type": "code",
   "execution_count": 146,
   "metadata": {
    "ExecuteTime": {
     "end_time": "2021-06-24T18:03:05.151155Z",
     "start_time": "2021-06-24T18:03:05.140185Z"
    }
   },
   "outputs": [
    {
     "data": {
      "text/plain": [
       "(887379, 9)"
      ]
     },
     "execution_count": 146,
     "metadata": {},
     "output_type": "execute_result"
    }
   ],
   "source": [
    "\n",
    "char1.shape"
   ]
  },
  {
   "cell_type": "code",
   "execution_count": 147,
   "metadata": {
    "ExecuteTime": {
     "end_time": "2021-06-24T18:03:13.941292Z",
     "start_time": "2021-06-24T18:03:13.835265Z"
    }
   },
   "outputs": [
    {
     "data": {
      "text/plain": [
       "debt_consolidation    524215\n",
       "credit_card           206182\n",
       "home_improvement       51829\n",
       "other                  42894\n",
       "major_purchase         17277\n",
       "small_business         10377\n",
       "car                     8863\n",
       "medical                 8540\n",
       "moving                  5414\n",
       "vacation                4736\n",
       "house                   3707\n",
       "wedding                 2347\n",
       "renewable_energy         575\n",
       "educational              423\n",
       "Name: purpose, dtype: int64"
      ]
     },
     "execution_count": 147,
     "metadata": {},
     "output_type": "execute_result"
    }
   ],
   "source": [
    "char1.purpose.value_counts()"
   ]
  },
  {
   "cell_type": "code",
   "execution_count": 148,
   "metadata": {
    "ExecuteTime": {
     "end_time": "2021-06-24T18:03:17.266987Z",
     "start_time": "2021-06-24T18:03:17.177202Z"
    }
   },
   "outputs": [
    {
     "data": {
      "text/plain": [
       " 36 months    621125\n",
       " 60 months    266254\n",
       "Name: term, dtype: int64"
      ]
     },
     "execution_count": 148,
     "metadata": {},
     "output_type": "execute_result"
    }
   ],
   "source": [
    "char1.term.value_counts()"
   ]
  },
  {
   "cell_type": "code",
   "execution_count": 149,
   "metadata": {
    "ExecuteTime": {
     "end_time": "2021-06-24T18:03:19.992085Z",
     "start_time": "2021-06-24T18:03:19.452983Z"
    }
   },
   "outputs": [],
   "source": [
    "# Steps to regroup categorical features in order to achieve linear discrimination\n",
    "# These levels to group have been discovered through the pivot analysis\n",
    "\n",
    "char1['purpose_1']=np.where(char1['purpose'].isin(['other','medical','vacation','debt_consolidation','car','major_purchase','home_improvement','credit_card']),'others',char1['purpose'])\n",
    "#grouping the selected attributes as others while keeping the rest as the same as in the feature purpose\n",
    "\n",
    "char1['verified_1']=np.where(char1['verification_status'].isin(['Source Verified','Verified']),'Verified',char1['verification_status'])\n",
    "#grouping selected attributes as verified while rest as the same as in ver status column\n",
    "\n",
    "char1['home_own_1']=np.where(char1['home_ownership'].isin(['OWN','MORGAGE']),'OWN',\n",
    "                    np.where(char1['home_ownership'].isin(['RENT']),'RENT','OTHER'))\n",
    "# grouping as OWN and morgage together as own and rent and RENT while grouping everything else as other\n",
    "\n",
    "char1['term_1']=np.where(char1['term'].isin(['60 months']),'60','30')"
   ]
  },
  {
   "cell_type": "code",
   "execution_count": 150,
   "metadata": {
    "ExecuteTime": {
     "end_time": "2021-06-24T18:03:21.660685Z",
     "start_time": "2021-06-24T18:03:21.547987Z"
    }
   },
   "outputs": [
    {
     "data": {
      "text/plain": [
       "OTHER    443792\n",
       "RENT     356117\n",
       "OWN       87470\n",
       "Name: home_own_1, dtype: int64"
      ]
     },
     "execution_count": 150,
     "metadata": {},
     "output_type": "execute_result"
    }
   ],
   "source": [
    "char1.home_own_1.value_counts()"
   ]
  },
  {
   "cell_type": "code",
   "execution_count": 151,
   "metadata": {
    "ExecuteTime": {
     "end_time": "2021-06-24T18:03:24.636225Z",
     "start_time": "2021-06-24T18:03:24.360814Z"
    }
   },
   "outputs": [],
   "source": [
    "#creating a new df with selected columns\n",
    "\n",
    "char2=char1.loc[:,['purpose_1','verified_1','home_own_1','term_1','grade','emp_length','pymnt_plan','application_type']]"
   ]
  },
  {
   "cell_type": "code",
   "execution_count": 152,
   "metadata": {
    "ExecuteTime": {
     "end_time": "2021-06-24T18:03:26.270845Z",
     "start_time": "2021-06-24T18:03:26.257880Z"
    }
   },
   "outputs": [
    {
     "data": {
      "text/html": [
       "<div>\n",
       "<style scoped>\n",
       "    .dataframe tbody tr th:only-of-type {\n",
       "        vertical-align: middle;\n",
       "    }\n",
       "\n",
       "    .dataframe tbody tr th {\n",
       "        vertical-align: top;\n",
       "    }\n",
       "\n",
       "    .dataframe thead th {\n",
       "        text-align: right;\n",
       "    }\n",
       "</style>\n",
       "<table border=\"1\" class=\"dataframe\">\n",
       "  <thead>\n",
       "    <tr style=\"text-align: right;\">\n",
       "      <th></th>\n",
       "      <th>purpose_1</th>\n",
       "      <th>verified_1</th>\n",
       "      <th>home_own_1</th>\n",
       "      <th>term_1</th>\n",
       "      <th>grade</th>\n",
       "      <th>emp_length</th>\n",
       "      <th>pymnt_plan</th>\n",
       "      <th>application_type</th>\n",
       "    </tr>\n",
       "  </thead>\n",
       "  <tbody>\n",
       "    <tr>\n",
       "      <th>0</th>\n",
       "      <td>others</td>\n",
       "      <td>Verified</td>\n",
       "      <td>RENT</td>\n",
       "      <td>30</td>\n",
       "      <td>B</td>\n",
       "      <td>10+ years</td>\n",
       "      <td>n</td>\n",
       "      <td>INDIVIDUAL</td>\n",
       "    </tr>\n",
       "    <tr>\n",
       "      <th>1</th>\n",
       "      <td>others</td>\n",
       "      <td>Verified</td>\n",
       "      <td>RENT</td>\n",
       "      <td>30</td>\n",
       "      <td>C</td>\n",
       "      <td>&lt; 1 year</td>\n",
       "      <td>n</td>\n",
       "      <td>INDIVIDUAL</td>\n",
       "    </tr>\n",
       "    <tr>\n",
       "      <th>2</th>\n",
       "      <td>small_business</td>\n",
       "      <td>Not Verified</td>\n",
       "      <td>RENT</td>\n",
       "      <td>30</td>\n",
       "      <td>C</td>\n",
       "      <td>10+ years</td>\n",
       "      <td>n</td>\n",
       "      <td>INDIVIDUAL</td>\n",
       "    </tr>\n",
       "    <tr>\n",
       "      <th>3</th>\n",
       "      <td>others</td>\n",
       "      <td>Verified</td>\n",
       "      <td>RENT</td>\n",
       "      <td>30</td>\n",
       "      <td>C</td>\n",
       "      <td>10+ years</td>\n",
       "      <td>n</td>\n",
       "      <td>INDIVIDUAL</td>\n",
       "    </tr>\n",
       "    <tr>\n",
       "      <th>4</th>\n",
       "      <td>others</td>\n",
       "      <td>Verified</td>\n",
       "      <td>RENT</td>\n",
       "      <td>30</td>\n",
       "      <td>B</td>\n",
       "      <td>1 year</td>\n",
       "      <td>n</td>\n",
       "      <td>INDIVIDUAL</td>\n",
       "    </tr>\n",
       "  </tbody>\n",
       "</table>\n",
       "</div>"
      ],
      "text/plain": [
       "        purpose_1    verified_1 home_own_1 term_1 grade emp_length pymnt_plan  \\\n",
       "0          others      Verified       RENT     30     B  10+ years          n   \n",
       "1          others      Verified       RENT     30     C   < 1 year          n   \n",
       "2  small_business  Not Verified       RENT     30     C  10+ years          n   \n",
       "3          others      Verified       RENT     30     C  10+ years          n   \n",
       "4          others      Verified       RENT     30     B     1 year          n   \n",
       "\n",
       "  application_type  \n",
       "0       INDIVIDUAL  \n",
       "1       INDIVIDUAL  \n",
       "2       INDIVIDUAL  \n",
       "3       INDIVIDUAL  \n",
       "4       INDIVIDUAL  "
      ]
     },
     "execution_count": 152,
     "metadata": {},
     "output_type": "execute_result"
    }
   ],
   "source": [
    "char2[:5]"
   ]
  },
  {
   "cell_type": "code",
   "execution_count": 153,
   "metadata": {
    "ExecuteTime": {
     "end_time": "2021-06-24T18:03:58.085032Z",
     "start_time": "2021-06-24T18:03:28.917160Z"
    }
   },
   "outputs": [
    {
     "data": {
      "image/png": "[encoded data removed]",
      "text/plain": [
       "<Figure size 432x288 with 1 Axes>"
      ]
     },
     "metadata": {
      "needs_background": "light"
     },
     "output_type": "display_data"
    }
   ],
   "source": [
    "#checking the new grouped purpose column for effect on target\n",
    "check=pd.concat([Y,char2],axis=1,join='inner')\n",
    "ax=sns.barplot(x='purpose_1',y='target',data=check,estimator=mean)\n",
    "\n",
    "# we have grouped the baseline categories as others and we can see that the risk factor in the baseline categories is\n",
    "# very low(i.e 5%) as compared to the other categories"
   ]
  },
  {
   "cell_type": "code",
   "execution_count": 154,
   "metadata": {
    "ExecuteTime": {
     "end_time": "2021-06-24T18:04:02.274410Z",
     "start_time": "2021-06-24T18:04:01.636700Z"
    }
   },
   "outputs": [],
   "source": [
    "# create dummy features with n-1 levels\n",
    "X_char_dummy=pd.get_dummies(char2,drop_first=True) \n",
    "\n",
    "# we're creating n-1 level and dropping first level because one level of our categorical feature becomes \n",
    "# the reference group during dummy encoding for regression and is redundant.\n",
    "# i.e. nth level is derived from rest of te dummies"
   ]
  },
  {
   "cell_type": "code",
   "execution_count": 155,
   "metadata": {
    "ExecuteTime": {
     "end_time": "2021-06-24T18:04:08.807641Z",
     "start_time": "2021-06-24T18:04:08.796653Z"
    }
   },
   "outputs": [
    {
     "data": {
      "text/plain": [
       "(887379, 27)"
      ]
     },
     "execution_count": 155,
     "metadata": {},
     "output_type": "execute_result"
    }
   ],
   "source": [
    "X_char_dummy.shape"
   ]
  },
  {
   "cell_type": "code",
   "execution_count": 156,
   "metadata": {
    "ExecuteTime": {
     "end_time": "2021-06-24T18:04:11.195866Z",
     "start_time": "2021-06-24T18:04:10.429445Z"
    }
   },
   "outputs": [],
   "source": [
    "# Select K Best for Categorical Features\n",
    "\n",
    "from sklearn.feature_selection import SelectKBest, chi2\n",
    "selector=SelectKBest(chi2,k=25)\n",
    "X_new1=selector.fit_transform(X_char_dummy,Y)\n",
    "\n",
    "# Get columns to keep and create new dataframe with those only\n",
    "cols=selector.get_support(indices=True)\n",
    "selected_features_df_char=(X_char_dummy.iloc[:,cols])\n"
   ]
  },
  {
   "cell_type": "code",
   "execution_count": 157,
   "metadata": {
    "ExecuteTime": {
     "end_time": "2021-06-24T18:04:12.317317Z",
     "start_time": "2021-06-24T18:04:12.143374Z"
    }
   },
   "outputs": [
    {
     "data": {
      "text/plain": [
       "purpose_1_house               uint8\n",
       "purpose_1_moving              uint8\n",
       "purpose_1_others              uint8\n",
       "purpose_1_renewable_energy    uint8\n",
       "purpose_1_small_business      uint8\n",
       "purpose_1_wedding             uint8\n",
       "verified_1_Verified           uint8\n",
       "home_own_1_OWN                uint8\n",
       "home_own_1_RENT               uint8\n",
       "grade_B                       uint8\n",
       "grade_C                       uint8\n",
       "grade_D                       uint8\n",
       "grade_E                       uint8\n",
       "grade_F                       uint8\n",
       "grade_G                       uint8\n",
       "emp_length_10+ years          uint8\n",
       "emp_length_3 years            uint8\n",
       "emp_length_4 years            uint8\n",
       "emp_length_5 years            uint8\n",
       "emp_length_6 years            uint8\n",
       "emp_length_7 years            uint8\n",
       "emp_length_8 years            uint8\n",
       "emp_length_< 1 year           uint8\n",
       "pymnt_plan_y                  uint8\n",
       "application_type_JOINT        uint8\n",
       "dtype: object"
      ]
     },
     "execution_count": 157,
     "metadata": {},
     "output_type": "execute_result"
    }
   ],
   "source": [
    "selected_features_df_char.dtypes"
   ]
  },
  {
   "cell_type": "code",
   "execution_count": 158,
   "metadata": {
    "ExecuteTime": {
     "end_time": "2021-06-24T18:04:20.006029Z",
     "start_time": "2021-06-24T18:04:19.982093Z"
    }
   },
   "outputs": [
    {
     "data": {
      "text/html": [
       "<div>\n",
       "<style scoped>\n",
       "    .dataframe tbody tr th:only-of-type {\n",
       "        vertical-align: middle;\n",
       "    }\n",
       "\n",
       "    .dataframe tbody tr th {\n",
       "        vertical-align: top;\n",
       "    }\n",
       "\n",
       "    .dataframe thead th {\n",
       "        text-align: right;\n",
       "    }\n",
       "</style>\n",
       "<table border=\"1\" class=\"dataframe\">\n",
       "  <thead>\n",
       "    <tr style=\"text-align: right;\">\n",
       "      <th></th>\n",
       "      <th>purpose_1_house</th>\n",
       "      <th>purpose_1_moving</th>\n",
       "      <th>purpose_1_others</th>\n",
       "      <th>purpose_1_renewable_energy</th>\n",
       "      <th>purpose_1_small_business</th>\n",
       "      <th>purpose_1_wedding</th>\n",
       "      <th>verified_1_Verified</th>\n",
       "      <th>home_own_1_OWN</th>\n",
       "      <th>home_own_1_RENT</th>\n",
       "      <th>grade_B</th>\n",
       "      <th>grade_C</th>\n",
       "      <th>grade_D</th>\n",
       "      <th>grade_E</th>\n",
       "      <th>grade_F</th>\n",
       "      <th>grade_G</th>\n",
       "      <th>emp_length_10+ years</th>\n",
       "      <th>emp_length_3 years</th>\n",
       "      <th>emp_length_4 years</th>\n",
       "      <th>emp_length_5 years</th>\n",
       "      <th>emp_length_6 years</th>\n",
       "      <th>emp_length_7 years</th>\n",
       "      <th>emp_length_8 years</th>\n",
       "      <th>emp_length_&lt; 1 year</th>\n",
       "      <th>pymnt_plan_y</th>\n",
       "      <th>application_type_JOINT</th>\n",
       "    </tr>\n",
       "  </thead>\n",
       "  <tbody>\n",
       "    <tr>\n",
       "      <th>0</th>\n",
       "      <td>0</td>\n",
       "      <td>0</td>\n",
       "      <td>1</td>\n",
       "      <td>0</td>\n",
       "      <td>0</td>\n",
       "      <td>0</td>\n",
       "      <td>1</td>\n",
       "      <td>0</td>\n",
       "      <td>1</td>\n",
       "      <td>1</td>\n",
       "      <td>0</td>\n",
       "      <td>0</td>\n",
       "      <td>0</td>\n",
       "      <td>0</td>\n",
       "      <td>0</td>\n",
       "      <td>1</td>\n",
       "      <td>0</td>\n",
       "      <td>0</td>\n",
       "      <td>0</td>\n",
       "      <td>0</td>\n",
       "      <td>0</td>\n",
       "      <td>0</td>\n",
       "      <td>0</td>\n",
       "      <td>0</td>\n",
       "      <td>0</td>\n",
       "    </tr>\n",
       "    <tr>\n",
       "      <th>1</th>\n",
       "      <td>0</td>\n",
       "      <td>0</td>\n",
       "      <td>1</td>\n",
       "      <td>0</td>\n",
       "      <td>0</td>\n",
       "      <td>0</td>\n",
       "      <td>1</td>\n",
       "      <td>0</td>\n",
       "      <td>1</td>\n",
       "      <td>0</td>\n",
       "      <td>1</td>\n",
       "      <td>0</td>\n",
       "      <td>0</td>\n",
       "      <td>0</td>\n",
       "      <td>0</td>\n",
       "      <td>0</td>\n",
       "      <td>0</td>\n",
       "      <td>0</td>\n",
       "      <td>0</td>\n",
       "      <td>0</td>\n",
       "      <td>0</td>\n",
       "      <td>0</td>\n",
       "      <td>1</td>\n",
       "      <td>0</td>\n",
       "      <td>0</td>\n",
       "    </tr>\n",
       "    <tr>\n",
       "      <th>2</th>\n",
       "      <td>0</td>\n",
       "      <td>0</td>\n",
       "      <td>0</td>\n",
       "      <td>0</td>\n",
       "      <td>1</td>\n",
       "      <td>0</td>\n",
       "      <td>0</td>\n",
       "      <td>0</td>\n",
       "      <td>1</td>\n",
       "      <td>0</td>\n",
       "      <td>1</td>\n",
       "      <td>0</td>\n",
       "      <td>0</td>\n",
       "      <td>0</td>\n",
       "      <td>0</td>\n",
       "      <td>1</td>\n",
       "      <td>0</td>\n",
       "      <td>0</td>\n",
       "      <td>0</td>\n",
       "      <td>0</td>\n",
       "      <td>0</td>\n",
       "      <td>0</td>\n",
       "      <td>0</td>\n",
       "      <td>0</td>\n",
       "      <td>0</td>\n",
       "    </tr>\n",
       "    <tr>\n",
       "      <th>3</th>\n",
       "      <td>0</td>\n",
       "      <td>0</td>\n",
       "      <td>1</td>\n",
       "      <td>0</td>\n",
       "      <td>0</td>\n",
       "      <td>0</td>\n",
       "      <td>1</td>\n",
       "      <td>0</td>\n",
       "      <td>1</td>\n",
       "      <td>0</td>\n",
       "      <td>1</td>\n",
       "      <td>0</td>\n",
       "      <td>0</td>\n",
       "      <td>0</td>\n",
       "      <td>0</td>\n",
       "      <td>1</td>\n",
       "      <td>0</td>\n",
       "      <td>0</td>\n",
       "      <td>0</td>\n",
       "      <td>0</td>\n",
       "      <td>0</td>\n",
       "      <td>0</td>\n",
       "      <td>0</td>\n",
       "      <td>0</td>\n",
       "      <td>0</td>\n",
       "    </tr>\n",
       "    <tr>\n",
       "      <th>4</th>\n",
       "      <td>0</td>\n",
       "      <td>0</td>\n",
       "      <td>1</td>\n",
       "      <td>0</td>\n",
       "      <td>0</td>\n",
       "      <td>0</td>\n",
       "      <td>1</td>\n",
       "      <td>0</td>\n",
       "      <td>1</td>\n",
       "      <td>1</td>\n",
       "      <td>0</td>\n",
       "      <td>0</td>\n",
       "      <td>0</td>\n",
       "      <td>0</td>\n",
       "      <td>0</td>\n",
       "      <td>0</td>\n",
       "      <td>0</td>\n",
       "      <td>0</td>\n",
       "      <td>0</td>\n",
       "      <td>0</td>\n",
       "      <td>0</td>\n",
       "      <td>0</td>\n",
       "      <td>0</td>\n",
       "      <td>0</td>\n",
       "      <td>0</td>\n",
       "    </tr>\n",
       "  </tbody>\n",
       "</table>\n",
       "</div>"
      ],
      "text/plain": [
       "   purpose_1_house  purpose_1_moving  purpose_1_others  \\\n",
       "0                0                 0                 1   \n",
       "1                0                 0                 1   \n",
       "2                0                 0                 0   \n",
       "3                0                 0                 1   \n",
       "4                0                 0                 1   \n",
       "\n",
       "   purpose_1_renewable_energy  purpose_1_small_business  purpose_1_wedding  \\\n",
       "0                           0                         0                  0   \n",
       "1                           0                         0                  0   \n",
       "2                           0                         1                  0   \n",
       "3                           0                         0                  0   \n",
       "4                           0                         0                  0   \n",
       "\n",
       "   verified_1_Verified  home_own_1_OWN  home_own_1_RENT  grade_B  grade_C  \\\n",
       "0                    1               0                1        1        0   \n",
       "1                    1               0                1        0        1   \n",
       "2                    0               0                1        0        1   \n",
       "3                    1               0                1        0        1   \n",
       "4                    1               0                1        1        0   \n",
       "\n",
       "   grade_D  grade_E  grade_F  grade_G  emp_length_10+ years  \\\n",
       "0        0        0        0        0                     1   \n",
       "1        0        0        0        0                     0   \n",
       "2        0        0        0        0                     1   \n",
       "3        0        0        0        0                     1   \n",
       "4        0        0        0        0                     0   \n",
       "\n",
       "   emp_length_3 years  emp_length_4 years  emp_length_5 years  \\\n",
       "0                   0                   0                   0   \n",
       "1                   0                   0                   0   \n",
       "2                   0                   0                   0   \n",
       "3                   0                   0                   0   \n",
       "4                   0                   0                   0   \n",
       "\n",
       "   emp_length_6 years  emp_length_7 years  emp_length_8 years  \\\n",
       "0                   0                   0                   0   \n",
       "1                   0                   0                   0   \n",
       "2                   0                   0                   0   \n",
       "3                   0                   0                   0   \n",
       "4                   0                   0                   0   \n",
       "\n",
       "   emp_length_< 1 year  pymnt_plan_y  application_type_JOINT  \n",
       "0                    0             0                       0  \n",
       "1                    1             0                       0  \n",
       "2                    0             0                       0  \n",
       "3                    0             0                       0  \n",
       "4                    0             0                       0  "
      ]
     },
     "execution_count": 158,
     "metadata": {},
     "output_type": "execute_result"
    }
   ],
   "source": [
    "selected_features_df_char[:5]"
   ]
  },
  {
   "cell_type": "code",
   "execution_count": null,
   "metadata": {},
   "outputs": [],
   "source": []
  },
  {
   "cell_type": "code",
   "execution_count": 159,
   "metadata": {
    "ExecuteTime": {
     "end_time": "2021-06-24T18:04:24.976288Z",
     "start_time": "2021-06-24T18:04:24.790095Z"
    }
   },
   "outputs": [],
   "source": [
    "# before combining the features we noticed that the K best algo for numerical features has not selected 2 very good\n",
    "# predictors: interest rate and enquiry in the past 6 months, may be due to some statistical insignificance,\n",
    "# But form the barplot of numerical features, we find these two features have very good slope hence we will be adding\n",
    "# these two features in a seperate data frame and then combined it together in Xall\n",
    "\n",
    "num_additional=num1.loc[:,['int_rate','inq_last_6mths']]"
   ]
  },
  {
   "cell_type": "code",
   "execution_count": 160,
   "metadata": {
    "ExecuteTime": {
     "end_time": "2021-06-24T18:04:27.150572Z",
     "start_time": "2021-06-24T18:04:27.131582Z"
    }
   },
   "outputs": [
    {
     "data": {
      "text/html": [
       "<div>\n",
       "<style scoped>\n",
       "    .dataframe tbody tr th:only-of-type {\n",
       "        vertical-align: middle;\n",
       "    }\n",
       "\n",
       "    .dataframe tbody tr th {\n",
       "        vertical-align: top;\n",
       "    }\n",
       "\n",
       "    .dataframe thead th {\n",
       "        text-align: right;\n",
       "    }\n",
       "</style>\n",
       "<table border=\"1\" class=\"dataframe\">\n",
       "  <thead>\n",
       "    <tr style=\"text-align: right;\">\n",
       "      <th></th>\n",
       "      <th>int_rate</th>\n",
       "      <th>inq_last_6mths</th>\n",
       "    </tr>\n",
       "  </thead>\n",
       "  <tbody>\n",
       "    <tr>\n",
       "      <th>0</th>\n",
       "      <td>10.65</td>\n",
       "      <td>1.0</td>\n",
       "    </tr>\n",
       "    <tr>\n",
       "      <th>1</th>\n",
       "      <td>15.27</td>\n",
       "      <td>4.0</td>\n",
       "    </tr>\n",
       "    <tr>\n",
       "      <th>2</th>\n",
       "      <td>15.96</td>\n",
       "      <td>2.0</td>\n",
       "    </tr>\n",
       "    <tr>\n",
       "      <th>3</th>\n",
       "      <td>13.49</td>\n",
       "      <td>1.0</td>\n",
       "    </tr>\n",
       "  </tbody>\n",
       "</table>\n",
       "</div>"
      ],
      "text/plain": [
       "   int_rate  inq_last_6mths\n",
       "0     10.65             1.0\n",
       "1     15.27             4.0\n",
       "2     15.96             2.0\n",
       "3     13.49             1.0"
      ]
     },
     "execution_count": 160,
     "metadata": {},
     "output_type": "execute_result"
    }
   ],
   "source": [
    "num_additional[:4]"
   ]
  },
  {
   "cell_type": "code",
   "execution_count": 161,
   "metadata": {
    "ExecuteTime": {
     "end_time": "2021-06-24T18:04:29.703805Z",
     "start_time": "2021-06-24T18:04:29.409647Z"
    }
   },
   "outputs": [],
   "source": [
    "# Bringing all X together\n",
    "\n",
    "X_all=pd.concat([select_features_df_num,selected_features_df_char,num_additional],axis=1,join='inner')"
   ]
  },
  {
   "cell_type": "code",
   "execution_count": 162,
   "metadata": {
    "ExecuteTime": {
     "end_time": "2021-06-24T18:04:30.910961Z",
     "start_time": "2021-06-24T18:04:30.876028Z"
    }
   },
   "outputs": [
    {
     "data": {
      "text/html": [
       "<div>\n",
       "<style scoped>\n",
       "    .dataframe tbody tr th:only-of-type {\n",
       "        vertical-align: middle;\n",
       "    }\n",
       "\n",
       "    .dataframe tbody tr th {\n",
       "        vertical-align: top;\n",
       "    }\n",
       "\n",
       "    .dataframe thead th {\n",
       "        text-align: right;\n",
       "    }\n",
       "</style>\n",
       "<table border=\"1\" class=\"dataframe\">\n",
       "  <thead>\n",
       "    <tr style=\"text-align: right;\">\n",
       "      <th></th>\n",
       "      <th>funded_amnt_inv</th>\n",
       "      <th>annual_inc</th>\n",
       "      <th>revol_bal</th>\n",
       "      <th>out_prncp</th>\n",
       "      <th>out_prncp_inv</th>\n",
       "      <th>total_pymnt</th>\n",
       "      <th>total_pymnt_inv</th>\n",
       "      <th>total_rec_prncp</th>\n",
       "      <th>total_rec_int</th>\n",
       "      <th>recoveries</th>\n",
       "      <th>collection_recovery_fee</th>\n",
       "      <th>last_pymnt_amnt</th>\n",
       "      <th>tot_coll_amt</th>\n",
       "      <th>tot_cur_bal</th>\n",
       "      <th>total_rev_hi_lim</th>\n",
       "      <th>purpose_1_house</th>\n",
       "      <th>purpose_1_moving</th>\n",
       "      <th>purpose_1_others</th>\n",
       "      <th>purpose_1_renewable_energy</th>\n",
       "      <th>purpose_1_small_business</th>\n",
       "      <th>purpose_1_wedding</th>\n",
       "      <th>verified_1_Verified</th>\n",
       "      <th>home_own_1_OWN</th>\n",
       "      <th>home_own_1_RENT</th>\n",
       "      <th>grade_B</th>\n",
       "      <th>grade_C</th>\n",
       "      <th>grade_D</th>\n",
       "      <th>grade_E</th>\n",
       "      <th>grade_F</th>\n",
       "      <th>grade_G</th>\n",
       "      <th>emp_length_10+ years</th>\n",
       "      <th>emp_length_3 years</th>\n",
       "      <th>emp_length_4 years</th>\n",
       "      <th>emp_length_5 years</th>\n",
       "      <th>emp_length_6 years</th>\n",
       "      <th>emp_length_7 years</th>\n",
       "      <th>emp_length_8 years</th>\n",
       "      <th>emp_length_&lt; 1 year</th>\n",
       "      <th>pymnt_plan_y</th>\n",
       "      <th>application_type_JOINT</th>\n",
       "      <th>int_rate</th>\n",
       "      <th>inq_last_6mths</th>\n",
       "    </tr>\n",
       "  </thead>\n",
       "  <tbody>\n",
       "    <tr>\n",
       "      <th>0</th>\n",
       "      <td>4975.0</td>\n",
       "      <td>24000.0</td>\n",
       "      <td>13648.0</td>\n",
       "      <td>0.0</td>\n",
       "      <td>0.0</td>\n",
       "      <td>5861.071414</td>\n",
       "      <td>5831.78</td>\n",
       "      <td>5000.00</td>\n",
       "      <td>861.07</td>\n",
       "      <td>0.00</td>\n",
       "      <td>0.00</td>\n",
       "      <td>171.62</td>\n",
       "      <td>132.053983</td>\n",
       "      <td>137182.970736</td>\n",
       "      <td>31274.143259</td>\n",
       "      <td>0</td>\n",
       "      <td>0</td>\n",
       "      <td>1</td>\n",
       "      <td>0</td>\n",
       "      <td>0</td>\n",
       "      <td>0</td>\n",
       "      <td>1</td>\n",
       "      <td>0</td>\n",
       "      <td>1</td>\n",
       "      <td>1</td>\n",
       "      <td>0</td>\n",
       "      <td>0</td>\n",
       "      <td>0</td>\n",
       "      <td>0</td>\n",
       "      <td>0</td>\n",
       "      <td>1</td>\n",
       "      <td>0</td>\n",
       "      <td>0</td>\n",
       "      <td>0</td>\n",
       "      <td>0</td>\n",
       "      <td>0</td>\n",
       "      <td>0</td>\n",
       "      <td>0</td>\n",
       "      <td>0</td>\n",
       "      <td>0</td>\n",
       "      <td>10.65</td>\n",
       "      <td>1.0</td>\n",
       "    </tr>\n",
       "    <tr>\n",
       "      <th>1</th>\n",
       "      <td>2500.0</td>\n",
       "      <td>30000.0</td>\n",
       "      <td>1687.0</td>\n",
       "      <td>0.0</td>\n",
       "      <td>0.0</td>\n",
       "      <td>1008.710000</td>\n",
       "      <td>1008.71</td>\n",
       "      <td>456.46</td>\n",
       "      <td>435.17</td>\n",
       "      <td>117.08</td>\n",
       "      <td>1.11</td>\n",
       "      <td>119.66</td>\n",
       "      <td>132.053983</td>\n",
       "      <td>137182.970736</td>\n",
       "      <td>31274.143259</td>\n",
       "      <td>0</td>\n",
       "      <td>0</td>\n",
       "      <td>1</td>\n",
       "      <td>0</td>\n",
       "      <td>0</td>\n",
       "      <td>0</td>\n",
       "      <td>1</td>\n",
       "      <td>0</td>\n",
       "      <td>1</td>\n",
       "      <td>0</td>\n",
       "      <td>1</td>\n",
       "      <td>0</td>\n",
       "      <td>0</td>\n",
       "      <td>0</td>\n",
       "      <td>0</td>\n",
       "      <td>0</td>\n",
       "      <td>0</td>\n",
       "      <td>0</td>\n",
       "      <td>0</td>\n",
       "      <td>0</td>\n",
       "      <td>0</td>\n",
       "      <td>0</td>\n",
       "      <td>1</td>\n",
       "      <td>0</td>\n",
       "      <td>0</td>\n",
       "      <td>15.27</td>\n",
       "      <td>4.0</td>\n",
       "    </tr>\n",
       "    <tr>\n",
       "      <th>2</th>\n",
       "      <td>2400.0</td>\n",
       "      <td>19000.0</td>\n",
       "      <td>2956.0</td>\n",
       "      <td>0.0</td>\n",
       "      <td>0.0</td>\n",
       "      <td>3003.653644</td>\n",
       "      <td>3003.65</td>\n",
       "      <td>2400.00</td>\n",
       "      <td>603.65</td>\n",
       "      <td>0.00</td>\n",
       "      <td>0.00</td>\n",
       "      <td>649.91</td>\n",
       "      <td>132.053983</td>\n",
       "      <td>137182.970736</td>\n",
       "      <td>31274.143259</td>\n",
       "      <td>0</td>\n",
       "      <td>0</td>\n",
       "      <td>0</td>\n",
       "      <td>0</td>\n",
       "      <td>1</td>\n",
       "      <td>0</td>\n",
       "      <td>0</td>\n",
       "      <td>0</td>\n",
       "      <td>1</td>\n",
       "      <td>0</td>\n",
       "      <td>1</td>\n",
       "      <td>0</td>\n",
       "      <td>0</td>\n",
       "      <td>0</td>\n",
       "      <td>0</td>\n",
       "      <td>1</td>\n",
       "      <td>0</td>\n",
       "      <td>0</td>\n",
       "      <td>0</td>\n",
       "      <td>0</td>\n",
       "      <td>0</td>\n",
       "      <td>0</td>\n",
       "      <td>0</td>\n",
       "      <td>0</td>\n",
       "      <td>0</td>\n",
       "      <td>15.96</td>\n",
       "      <td>2.0</td>\n",
       "    </tr>\n",
       "    <tr>\n",
       "      <th>3</th>\n",
       "      <td>10000.0</td>\n",
       "      <td>49200.0</td>\n",
       "      <td>5598.0</td>\n",
       "      <td>0.0</td>\n",
       "      <td>0.0</td>\n",
       "      <td>12226.302212</td>\n",
       "      <td>12226.30</td>\n",
       "      <td>10000.00</td>\n",
       "      <td>2209.33</td>\n",
       "      <td>0.00</td>\n",
       "      <td>0.00</td>\n",
       "      <td>357.48</td>\n",
       "      <td>132.053983</td>\n",
       "      <td>137182.970736</td>\n",
       "      <td>31274.143259</td>\n",
       "      <td>0</td>\n",
       "      <td>0</td>\n",
       "      <td>1</td>\n",
       "      <td>0</td>\n",
       "      <td>0</td>\n",
       "      <td>0</td>\n",
       "      <td>1</td>\n",
       "      <td>0</td>\n",
       "      <td>1</td>\n",
       "      <td>0</td>\n",
       "      <td>1</td>\n",
       "      <td>0</td>\n",
       "      <td>0</td>\n",
       "      <td>0</td>\n",
       "      <td>0</td>\n",
       "      <td>1</td>\n",
       "      <td>0</td>\n",
       "      <td>0</td>\n",
       "      <td>0</td>\n",
       "      <td>0</td>\n",
       "      <td>0</td>\n",
       "      <td>0</td>\n",
       "      <td>0</td>\n",
       "      <td>0</td>\n",
       "      <td>0</td>\n",
       "      <td>13.49</td>\n",
       "      <td>1.0</td>\n",
       "    </tr>\n",
       "    <tr>\n",
       "      <th>4</th>\n",
       "      <td>3000.0</td>\n",
       "      <td>80000.0</td>\n",
       "      <td>27783.0</td>\n",
       "      <td>766.9</td>\n",
       "      <td>766.9</td>\n",
       "      <td>3242.170000</td>\n",
       "      <td>3242.17</td>\n",
       "      <td>2233.10</td>\n",
       "      <td>1009.07</td>\n",
       "      <td>0.00</td>\n",
       "      <td>0.00</td>\n",
       "      <td>67.79</td>\n",
       "      <td>132.053983</td>\n",
       "      <td>137182.970736</td>\n",
       "      <td>31274.143259</td>\n",
       "      <td>0</td>\n",
       "      <td>0</td>\n",
       "      <td>1</td>\n",
       "      <td>0</td>\n",
       "      <td>0</td>\n",
       "      <td>0</td>\n",
       "      <td>1</td>\n",
       "      <td>0</td>\n",
       "      <td>1</td>\n",
       "      <td>1</td>\n",
       "      <td>0</td>\n",
       "      <td>0</td>\n",
       "      <td>0</td>\n",
       "      <td>0</td>\n",
       "      <td>0</td>\n",
       "      <td>0</td>\n",
       "      <td>0</td>\n",
       "      <td>0</td>\n",
       "      <td>0</td>\n",
       "      <td>0</td>\n",
       "      <td>0</td>\n",
       "      <td>0</td>\n",
       "      <td>0</td>\n",
       "      <td>0</td>\n",
       "      <td>0</td>\n",
       "      <td>12.69</td>\n",
       "      <td>0.0</td>\n",
       "    </tr>\n",
       "  </tbody>\n",
       "</table>\n",
       "</div>"
      ],
      "text/plain": [
       "   funded_amnt_inv  annual_inc  revol_bal  out_prncp  out_prncp_inv  \\\n",
       "0           4975.0     24000.0    13648.0        0.0            0.0   \n",
       "1           2500.0     30000.0     1687.0        0.0            0.0   \n",
       "2           2400.0     19000.0     2956.0        0.0            0.0   \n",
       "3          10000.0     49200.0     5598.0        0.0            0.0   \n",
       "4           3000.0     80000.0    27783.0      766.9          766.9   \n",
       "\n",
       "    total_pymnt  total_pymnt_inv  total_rec_prncp  total_rec_int  recoveries  \\\n",
       "0   5861.071414          5831.78          5000.00         861.07        0.00   \n",
       "1   1008.710000          1008.71           456.46         435.17      117.08   \n",
       "2   3003.653644          3003.65          2400.00         603.65        0.00   \n",
       "3  12226.302212         12226.30         10000.00        2209.33        0.00   \n",
       "4   3242.170000          3242.17          2233.10        1009.07        0.00   \n",
       "\n",
       "   collection_recovery_fee  last_pymnt_amnt  tot_coll_amt    tot_cur_bal  \\\n",
       "0                     0.00           171.62    132.053983  137182.970736   \n",
       "1                     1.11           119.66    132.053983  137182.970736   \n",
       "2                     0.00           649.91    132.053983  137182.970736   \n",
       "3                     0.00           357.48    132.053983  137182.970736   \n",
       "4                     0.00            67.79    132.053983  137182.970736   \n",
       "\n",
       "   total_rev_hi_lim  purpose_1_house  purpose_1_moving  purpose_1_others  \\\n",
       "0      31274.143259                0                 0                 1   \n",
       "1      31274.143259                0                 0                 1   \n",
       "2      31274.143259                0                 0                 0   \n",
       "3      31274.143259                0                 0                 1   \n",
       "4      31274.143259                0                 0                 1   \n",
       "\n",
       "   purpose_1_renewable_energy  purpose_1_small_business  purpose_1_wedding  \\\n",
       "0                           0                         0                  0   \n",
       "1                           0                         0                  0   \n",
       "2                           0                         1                  0   \n",
       "3                           0                         0                  0   \n",
       "4                           0                         0                  0   \n",
       "\n",
       "   verified_1_Verified  home_own_1_OWN  home_own_1_RENT  grade_B  grade_C  \\\n",
       "0                    1               0                1        1        0   \n",
       "1                    1               0                1        0        1   \n",
       "2                    0               0                1        0        1   \n",
       "3                    1               0                1        0        1   \n",
       "4                    1               0                1        1        0   \n",
       "\n",
       "   grade_D  grade_E  grade_F  grade_G  emp_length_10+ years  \\\n",
       "0        0        0        0        0                     1   \n",
       "1        0        0        0        0                     0   \n",
       "2        0        0        0        0                     1   \n",
       "3        0        0        0        0                     1   \n",
       "4        0        0        0        0                     0   \n",
       "\n",
       "   emp_length_3 years  emp_length_4 years  emp_length_5 years  \\\n",
       "0                   0                   0                   0   \n",
       "1                   0                   0                   0   \n",
       "2                   0                   0                   0   \n",
       "3                   0                   0                   0   \n",
       "4                   0                   0                   0   \n",
       "\n",
       "   emp_length_6 years  emp_length_7 years  emp_length_8 years  \\\n",
       "0                   0                   0                   0   \n",
       "1                   0                   0                   0   \n",
       "2                   0                   0                   0   \n",
       "3                   0                   0                   0   \n",
       "4                   0                   0                   0   \n",
       "\n",
       "   emp_length_< 1 year  pymnt_plan_y  application_type_JOINT  int_rate  \\\n",
       "0                    0             0                       0     10.65   \n",
       "1                    1             0                       0     15.27   \n",
       "2                    0             0                       0     15.96   \n",
       "3                    0             0                       0     13.49   \n",
       "4                    0             0                       0     12.69   \n",
       "\n",
       "   inq_last_6mths  \n",
       "0             1.0  \n",
       "1             4.0  \n",
       "2             2.0  \n",
       "3             1.0  \n",
       "4             0.0  "
      ]
     },
     "execution_count": 162,
     "metadata": {},
     "output_type": "execute_result"
    }
   ],
   "source": [
    "X_all.head()"
   ]
  },
  {
   "cell_type": "code",
   "execution_count": 163,
   "metadata": {
    "ExecuteTime": {
     "end_time": "2021-06-24T18:04:33.558326Z",
     "start_time": "2021-06-24T18:04:33.536384Z"
    }
   },
   "outputs": [
    {
     "data": {
      "text/plain": [
       "0    840151\n",
       "1     47228\n",
       "Name: target, dtype: int64"
      ]
     },
     "execution_count": 163,
     "metadata": {},
     "output_type": "execute_result"
    }
   ],
   "source": [
    "Y.target.value_counts()"
   ]
  },
  {
   "cell_type": "code",
   "execution_count": 164,
   "metadata": {
    "ExecuteTime": {
     "end_time": "2021-06-24T18:04:34.583250Z",
     "start_time": "2021-06-24T18:04:34.573275Z"
    }
   },
   "outputs": [
    {
     "data": {
      "text/plain": [
       "target    0.053222\n",
       "dtype: float64"
      ]
     },
     "execution_count": 164,
     "metadata": {},
     "output_type": "execute_result"
    }
   ],
   "source": [
    "#event rate is 5%\n",
    "Y.mean()"
   ]
  },
  {
   "cell_type": "code",
   "execution_count": 165,
   "metadata": {
    "ExecuteTime": {
     "end_time": "2021-06-24T18:04:38.221367Z",
     "start_time": "2021-06-24T18:04:37.047153Z"
    }
   },
   "outputs": [],
   "source": [
    "# Splitting Data into Train and test\n",
    "\n",
    "from sklearn.model_selection import train_test_split\n",
    "\n",
    "X_train,X_test,y_train,y_test=train_test_split(X_all,Y,test_size=0.3,random_state=42)"
   ]
  },
  {
   "cell_type": "code",
   "execution_count": 166,
   "metadata": {
    "ExecuteTime": {
     "end_time": "2021-06-24T18:04:39.038082Z",
     "start_time": "2021-06-24T18:04:39.026114Z"
    }
   },
   "outputs": [
    {
     "data": {
      "text/plain": [
       "target    0.053195\n",
       "dtype: float64"
      ]
     },
     "execution_count": 166,
     "metadata": {},
     "output_type": "execute_result"
    }
   ],
   "source": [
    "#now we'll check if the train test split mainitains the original event rate (central tendency)\n",
    "y_train.mean()\n"
   ]
  },
  {
   "cell_type": "code",
   "execution_count": 167,
   "metadata": {
    "ExecuteTime": {
     "end_time": "2021-06-24T18:04:40.009267Z",
     "start_time": "2021-06-24T18:04:40.000290Z"
    }
   },
   "outputs": [
    {
     "data": {
      "text/plain": [
       "target    0.053284\n",
       "dtype: float64"
      ]
     },
     "execution_count": 167,
     "metadata": {},
     "output_type": "execute_result"
    }
   ],
   "source": [
    "y_test.mean()"
   ]
  },
  {
   "cell_type": "code",
   "execution_count": 168,
   "metadata": {
    "ExecuteTime": {
     "end_time": "2021-06-24T18:04:41.091852Z",
     "start_time": "2021-06-24T18:04:41.076881Z"
    }
   },
   "outputs": [],
   "source": [
    "# hence we can see that the event rate for both test and train is 5% which matches original data.\n",
    "# if we had seen the discrepancy, we could have changed the random state until we match the event rate of original data"
   ]
  },
  {
   "cell_type": "code",
   "execution_count": 169,
   "metadata": {
    "ExecuteTime": {
     "end_time": "2021-06-24T18:04:45.352608Z",
     "start_time": "2021-06-24T18:04:45.336651Z"
    }
   },
   "outputs": [],
   "source": [
    "# testing one of the columns to see if train and test are randomnly sampled and matches X_all"
   ]
  },
  {
   "cell_type": "code",
   "execution_count": 170,
   "metadata": {
    "ExecuteTime": {
     "end_time": "2021-06-24T18:04:47.460705Z",
     "start_time": "2021-06-24T18:04:46.130594Z"
    }
   },
   "outputs": [
    {
     "data": {
      "text/plain": [
       "count    621165.000000\n",
       "mean      16213.795386\n",
       "std       15199.432137\n",
       "min         309.000000\n",
       "25%        6440.000000\n",
       "50%       11872.000000\n",
       "75%       20813.000000\n",
       "max       93410.660000\n",
       "Name: revol_bal, dtype: float64"
      ]
     },
     "execution_count": 170,
     "metadata": {},
     "output_type": "execute_result"
    }
   ],
   "source": [
    "X_train['revol_bal'].describe()"
   ]
  },
  {
   "cell_type": "code",
   "execution_count": 171,
   "metadata": {
    "ExecuteTime": {
     "end_time": "2021-06-24T18:04:47.492620Z",
     "start_time": "2021-06-24T18:04:47.463650Z"
    }
   },
   "outputs": [
    {
     "data": {
      "text/plain": [
       "count    266214.000000\n",
       "mean      16220.211949\n",
       "std       15176.915439\n",
       "min         309.000000\n",
       "25%        6452.000000\n",
       "50%       11881.000000\n",
       "75%       20872.000000\n",
       "max       93410.660000\n",
       "Name: revol_bal, dtype: float64"
      ]
     },
     "execution_count": 171,
     "metadata": {},
     "output_type": "execute_result"
    }
   ],
   "source": [
    "X_test['revol_bal'].describe()"
   ]
  },
  {
   "cell_type": "code",
   "execution_count": 172,
   "metadata": {
    "ExecuteTime": {
     "end_time": "2021-06-24T18:04:50.270493Z",
     "start_time": "2021-06-24T18:04:50.217599Z"
    }
   },
   "outputs": [
    {
     "data": {
      "text/plain": [
       "count    887379.000000\n",
       "mean      16215.720357\n",
       "std       15192.672358\n",
       "min         309.000000\n",
       "25%        6443.000000\n",
       "50%       11875.000000\n",
       "75%       20829.000000\n",
       "max       93410.660000\n",
       "Name: revol_bal, dtype: float64"
      ]
     },
     "execution_count": 172,
     "metadata": {},
     "output_type": "execute_result"
    }
   ],
   "source": [
    "X_all['revol_bal'].describe()"
   ]
  },
  {
   "cell_type": "code",
   "execution_count": 173,
   "metadata": {
    "ExecuteTime": {
     "end_time": "2021-06-24T18:04:53.237103Z",
     "start_time": "2021-06-24T18:04:53.230121Z"
    }
   },
   "outputs": [],
   "source": [
    "# we can see that the mean,min max are similar in test and train like x_all, hence data is randomly sampled"
   ]
  },
  {
   "cell_type": "code",
   "execution_count": null,
   "metadata": {},
   "outputs": [],
   "source": []
  },
  {
   "cell_type": "code",
   "execution_count": 174,
   "metadata": {
    "ExecuteTime": {
     "end_time": "2021-06-24T18:04:54.679008Z",
     "start_time": "2021-06-24T18:04:54.671017Z"
    }
   },
   "outputs": [],
   "source": [
    "# Non Linearity in feature relationships are observed which makes tree methods a good choice\n",
    "# There are few options to consider among tree methods\n",
    "# White Box (Completely Explainable Set of Rules) - Decision Tree\n",
    "# Ensemble Methods - Random Forest (With Bagging)\n",
    "# Ensemble Methods - GBM/XGBoost (Boosting)"
   ]
  },
  {
   "cell_type": "code",
   "execution_count": 175,
   "metadata": {
    "ExecuteTime": {
     "end_time": "2021-06-24T18:05:00.012267Z",
     "start_time": "2021-06-24T18:04:55.208414Z"
    }
   },
   "outputs": [
    {
     "data": {
      "text/plain": [
       "DecisionTreeClassifier(max_depth=4, random_state=0)"
      ]
     },
     "execution_count": 175,
     "metadata": {},
     "output_type": "execute_result"
    }
   ],
   "source": [
    "# building a decision tree model\n",
    "\n",
    "from sklearn.tree import DecisionTreeClassifier\n",
    "dtree=DecisionTreeClassifier(random_state=0,max_depth=4)\n",
    "dtree.fit(X_train,y_train)"
   ]
  },
  {
   "cell_type": "code",
   "execution_count": 176,
   "metadata": {
    "ExecuteTime": {
     "end_time": "2021-06-24T18:05:08.135151Z",
     "start_time": "2021-06-24T18:05:08.125139Z"
    }
   },
   "outputs": [],
   "source": [
    "#plotting decision tree\n",
    "\n",
    "# from sklearn import tree \n",
    "# import pydotplus\n",
    "# import matplotlib.pyplot as plt\n",
    "# plt.figure(figsize=[50,10])\n",
    "# tree.plot_tree(dtree,filled=True,fontsize=20,rounded=True,feature_names=X_all.columns)\n",
    "# plt.show()"
   ]
  },
  {
   "cell_type": "code",
   "execution_count": 177,
   "metadata": {
    "ExecuteTime": {
     "end_time": "2021-06-24T18:06:15.709327Z",
     "start_time": "2021-06-24T18:05:09.249496Z"
    }
   },
   "outputs": [
    {
     "data": {
      "text/plain": [
       "RandomForestClassifier(max_depth=4, random_state=0)"
      ]
     },
     "execution_count": 177,
     "metadata": {},
     "output_type": "execute_result"
    }
   ],
   "source": [
    "# Building a Random Forest Model\n",
    "\n",
    "from sklearn.ensemble import RandomForestClassifier\n",
    "rf=RandomForestClassifier(random_state=0,max_depth=4)\n",
    "rf.fit(X_train,y_train)"
   ]
  },
  {
   "cell_type": "code",
   "execution_count": 178,
   "metadata": {
    "ExecuteTime": {
     "end_time": "2021-06-24T18:06:27.929784Z",
     "start_time": "2021-06-24T18:06:27.733871Z"
    }
   },
   "outputs": [
    {
     "data": {
      "text/html": [
       "<div>\n",
       "<style scoped>\n",
       "    .dataframe tbody tr th:only-of-type {\n",
       "        vertical-align: middle;\n",
       "    }\n",
       "\n",
       "    .dataframe tbody tr th {\n",
       "        vertical-align: top;\n",
       "    }\n",
       "\n",
       "    .dataframe thead th {\n",
       "        text-align: right;\n",
       "    }\n",
       "</style>\n",
       "<table border=\"1\" class=\"dataframe\">\n",
       "  <thead>\n",
       "    <tr style=\"text-align: right;\">\n",
       "      <th></th>\n",
       "      <th>importance</th>\n",
       "    </tr>\n",
       "  </thead>\n",
       "  <tbody>\n",
       "    <tr>\n",
       "      <th>recoveries</th>\n",
       "      <td>3.544420e-01</td>\n",
       "    </tr>\n",
       "    <tr>\n",
       "      <th>collection_recovery_fee</th>\n",
       "      <td>2.624615e-01</td>\n",
       "    </tr>\n",
       "    <tr>\n",
       "      <th>out_prncp_inv</th>\n",
       "      <td>1.343861e-01</td>\n",
       "    </tr>\n",
       "    <tr>\n",
       "      <th>out_prncp</th>\n",
       "      <td>6.966667e-02</td>\n",
       "    </tr>\n",
       "    <tr>\n",
       "      <th>total_rec_prncp</th>\n",
       "      <td>5.937880e-02</td>\n",
       "    </tr>\n",
       "    <tr>\n",
       "      <th>last_pymnt_amnt</th>\n",
       "      <td>4.292319e-02</td>\n",
       "    </tr>\n",
       "    <tr>\n",
       "      <th>total_pymnt</th>\n",
       "      <td>1.903916e-02</td>\n",
       "    </tr>\n",
       "    <tr>\n",
       "      <th>int_rate</th>\n",
       "      <td>1.567425e-02</td>\n",
       "    </tr>\n",
       "    <tr>\n",
       "      <th>funded_amnt_inv</th>\n",
       "      <td>1.233991e-02</td>\n",
       "    </tr>\n",
       "    <tr>\n",
       "      <th>total_pymnt_inv</th>\n",
       "      <td>1.125969e-02</td>\n",
       "    </tr>\n",
       "    <tr>\n",
       "      <th>tot_coll_amt</th>\n",
       "      <td>5.740200e-03</td>\n",
       "    </tr>\n",
       "    <tr>\n",
       "      <th>total_rec_int</th>\n",
       "      <td>3.582634e-03</td>\n",
       "    </tr>\n",
       "    <tr>\n",
       "      <th>inq_last_6mths</th>\n",
       "      <td>2.768563e-03</td>\n",
       "    </tr>\n",
       "    <tr>\n",
       "      <th>grade_F</th>\n",
       "      <td>1.446945e-03</td>\n",
       "    </tr>\n",
       "    <tr>\n",
       "      <th>grade_D</th>\n",
       "      <td>1.100285e-03</td>\n",
       "    </tr>\n",
       "    <tr>\n",
       "      <th>total_rev_hi_lim</th>\n",
       "      <td>9.914815e-04</td>\n",
       "    </tr>\n",
       "    <tr>\n",
       "      <th>tot_cur_bal</th>\n",
       "      <td>9.663735e-04</td>\n",
       "    </tr>\n",
       "    <tr>\n",
       "      <th>annual_inc</th>\n",
       "      <td>4.782594e-04</td>\n",
       "    </tr>\n",
       "    <tr>\n",
       "      <th>grade_B</th>\n",
       "      <td>3.339338e-04</td>\n",
       "    </tr>\n",
       "    <tr>\n",
       "      <th>verified_1_Verified</th>\n",
       "      <td>2.225270e-04</td>\n",
       "    </tr>\n",
       "    <tr>\n",
       "      <th>revol_bal</th>\n",
       "      <td>2.086052e-04</td>\n",
       "    </tr>\n",
       "    <tr>\n",
       "      <th>purpose_1_others</th>\n",
       "      <td>1.531105e-04</td>\n",
       "    </tr>\n",
       "    <tr>\n",
       "      <th>grade_G</th>\n",
       "      <td>1.304772e-04</td>\n",
       "    </tr>\n",
       "    <tr>\n",
       "      <th>home_own_1_RENT</th>\n",
       "      <td>1.256887e-04</td>\n",
       "    </tr>\n",
       "    <tr>\n",
       "      <th>grade_E</th>\n",
       "      <td>1.183699e-04</td>\n",
       "    </tr>\n",
       "    <tr>\n",
       "      <th>purpose_1_small_business</th>\n",
       "      <td>4.894881e-05</td>\n",
       "    </tr>\n",
       "    <tr>\n",
       "      <th>grade_C</th>\n",
       "      <td>9.345305e-06</td>\n",
       "    </tr>\n",
       "    <tr>\n",
       "      <th>emp_length_6 years</th>\n",
       "      <td>1.012709e-06</td>\n",
       "    </tr>\n",
       "    <tr>\n",
       "      <th>emp_length_4 years</th>\n",
       "      <td>9.481000e-07</td>\n",
       "    </tr>\n",
       "    <tr>\n",
       "      <th>purpose_1_wedding</th>\n",
       "      <td>4.603678e-07</td>\n",
       "    </tr>\n",
       "    <tr>\n",
       "      <th>emp_length_7 years</th>\n",
       "      <td>1.288868e-07</td>\n",
       "    </tr>\n",
       "    <tr>\n",
       "      <th>emp_length_8 years</th>\n",
       "      <td>1.249652e-07</td>\n",
       "    </tr>\n",
       "    <tr>\n",
       "      <th>purpose_1_moving</th>\n",
       "      <td>1.087390e-07</td>\n",
       "    </tr>\n",
       "    <tr>\n",
       "      <th>emp_length_5 years</th>\n",
       "      <td>8.322635e-08</td>\n",
       "    </tr>\n",
       "    <tr>\n",
       "      <th>emp_length_&lt; 1 year</th>\n",
       "      <td>2.167048e-08</td>\n",
       "    </tr>\n",
       "    <tr>\n",
       "      <th>purpose_1_house</th>\n",
       "      <td>2.016533e-08</td>\n",
       "    </tr>\n",
       "    <tr>\n",
       "      <th>emp_length_3 years</th>\n",
       "      <td>5.902640e-10</td>\n",
       "    </tr>\n",
       "    <tr>\n",
       "      <th>emp_length_10+ years</th>\n",
       "      <td>0.000000e+00</td>\n",
       "    </tr>\n",
       "    <tr>\n",
       "      <th>purpose_1_renewable_energy</th>\n",
       "      <td>0.000000e+00</td>\n",
       "    </tr>\n",
       "    <tr>\n",
       "      <th>pymnt_plan_y</th>\n",
       "      <td>0.000000e+00</td>\n",
       "    </tr>\n",
       "    <tr>\n",
       "      <th>application_type_JOINT</th>\n",
       "      <td>0.000000e+00</td>\n",
       "    </tr>\n",
       "    <tr>\n",
       "      <th>home_own_1_OWN</th>\n",
       "      <td>0.000000e+00</td>\n",
       "    </tr>\n",
       "  </tbody>\n",
       "</table>\n",
       "</div>"
      ],
      "text/plain": [
       "                              importance\n",
       "recoveries                  3.544420e-01\n",
       "collection_recovery_fee     2.624615e-01\n",
       "out_prncp_inv               1.343861e-01\n",
       "out_prncp                   6.966667e-02\n",
       "total_rec_prncp             5.937880e-02\n",
       "last_pymnt_amnt             4.292319e-02\n",
       "total_pymnt                 1.903916e-02\n",
       "int_rate                    1.567425e-02\n",
       "funded_amnt_inv             1.233991e-02\n",
       "total_pymnt_inv             1.125969e-02\n",
       "tot_coll_amt                5.740200e-03\n",
       "total_rec_int               3.582634e-03\n",
       "inq_last_6mths              2.768563e-03\n",
       "grade_F                     1.446945e-03\n",
       "grade_D                     1.100285e-03\n",
       "total_rev_hi_lim            9.914815e-04\n",
       "tot_cur_bal                 9.663735e-04\n",
       "annual_inc                  4.782594e-04\n",
       "grade_B                     3.339338e-04\n",
       "verified_1_Verified         2.225270e-04\n",
       "revol_bal                   2.086052e-04\n",
       "purpose_1_others            1.531105e-04\n",
       "grade_G                     1.304772e-04\n",
       "home_own_1_RENT             1.256887e-04\n",
       "grade_E                     1.183699e-04\n",
       "purpose_1_small_business    4.894881e-05\n",
       "grade_C                     9.345305e-06\n",
       "emp_length_6 years          1.012709e-06\n",
       "emp_length_4 years          9.481000e-07\n",
       "purpose_1_wedding           4.603678e-07\n",
       "emp_length_7 years          1.288868e-07\n",
       "emp_length_8 years          1.249652e-07\n",
       "purpose_1_moving            1.087390e-07\n",
       "emp_length_5 years          8.322635e-08\n",
       "emp_length_< 1 year         2.167048e-08\n",
       "purpose_1_house             2.016533e-08\n",
       "emp_length_3 years          5.902640e-10\n",
       "emp_length_10+ years        0.000000e+00\n",
       "purpose_1_renewable_energy  0.000000e+00\n",
       "pymnt_plan_y                0.000000e+00\n",
       "application_type_JOINT      0.000000e+00\n",
       "home_own_1_OWN              0.000000e+00"
      ]
     },
     "execution_count": 178,
     "metadata": {},
     "output_type": "execute_result"
    }
   ],
   "source": [
    "import pandas as pd\n",
    "feature_importances=pd.DataFrame(rf.feature_importances_,\n",
    "                                 index=X_train.columns,\n",
    "                                columns=['importance']).sort_values('importance',ascending=False)\n",
    "feature_importances"
   ]
  },
  {
   "cell_type": "code",
   "execution_count": 179,
   "metadata": {
    "ExecuteTime": {
     "end_time": "2021-06-24T18:14:06.556084Z",
     "start_time": "2021-06-24T18:06:31.773167Z"
    }
   },
   "outputs": [
    {
     "data": {
      "text/plain": [
       "GradientBoostingClassifier(max_depth=4, random_state=0)"
      ]
     },
     "execution_count": 179,
     "metadata": {},
     "output_type": "execute_result"
    }
   ],
   "source": [
    "# Building a Gradient Boosting Model\n",
    "\n",
    "from sklearn.ensemble import GradientBoostingClassifier\n",
    "gbm=GradientBoostingClassifier(random_state=0,max_depth=4)\n",
    "gbm.fit(X_train,y_train)"
   ]
  },
  {
   "cell_type": "code",
   "execution_count": 180,
   "metadata": {
    "ExecuteTime": {
     "end_time": "2021-06-24T18:14:20.384085Z",
     "start_time": "2021-06-24T18:14:20.368126Z"
    }
   },
   "outputs": [
    {
     "data": {
      "text/html": [
       "<div>\n",
       "<style scoped>\n",
       "    .dataframe tbody tr th:only-of-type {\n",
       "        vertical-align: middle;\n",
       "    }\n",
       "\n",
       "    .dataframe tbody tr th {\n",
       "        vertical-align: top;\n",
       "    }\n",
       "\n",
       "    .dataframe thead th {\n",
       "        text-align: right;\n",
       "    }\n",
       "</style>\n",
       "<table border=\"1\" class=\"dataframe\">\n",
       "  <thead>\n",
       "    <tr style=\"text-align: right;\">\n",
       "      <th></th>\n",
       "      <th>importance</th>\n",
       "    </tr>\n",
       "  </thead>\n",
       "  <tbody>\n",
       "    <tr>\n",
       "      <th>recoveries</th>\n",
       "      <td>5.459012e-01</td>\n",
       "    </tr>\n",
       "    <tr>\n",
       "      <th>funded_amnt_inv</th>\n",
       "      <td>1.954975e-01</td>\n",
       "    </tr>\n",
       "    <tr>\n",
       "      <th>total_rec_prncp</th>\n",
       "      <td>1.701200e-01</td>\n",
       "    </tr>\n",
       "    <tr>\n",
       "      <th>last_pymnt_amnt</th>\n",
       "      <td>3.228122e-02</td>\n",
       "    </tr>\n",
       "    <tr>\n",
       "      <th>out_prncp</th>\n",
       "      <td>3.219953e-02</td>\n",
       "    </tr>\n",
       "    <tr>\n",
       "      <th>out_prncp_inv</th>\n",
       "      <td>1.369461e-02</td>\n",
       "    </tr>\n",
       "    <tr>\n",
       "      <th>tot_coll_amt</th>\n",
       "      <td>6.214114e-03</td>\n",
       "    </tr>\n",
       "    <tr>\n",
       "      <th>total_pymnt_inv</th>\n",
       "      <td>2.173182e-03</td>\n",
       "    </tr>\n",
       "    <tr>\n",
       "      <th>total_rec_int</th>\n",
       "      <td>1.328120e-03</td>\n",
       "    </tr>\n",
       "    <tr>\n",
       "      <th>total_pymnt</th>\n",
       "      <td>1.794287e-04</td>\n",
       "    </tr>\n",
       "    <tr>\n",
       "      <th>int_rate</th>\n",
       "      <td>1.217555e-04</td>\n",
       "    </tr>\n",
       "    <tr>\n",
       "      <th>collection_recovery_fee</th>\n",
       "      <td>1.025331e-04</td>\n",
       "    </tr>\n",
       "    <tr>\n",
       "      <th>purpose_1_small_business</th>\n",
       "      <td>5.703559e-05</td>\n",
       "    </tr>\n",
       "    <tr>\n",
       "      <th>revol_bal</th>\n",
       "      <td>4.697466e-05</td>\n",
       "    </tr>\n",
       "    <tr>\n",
       "      <th>home_own_1_RENT</th>\n",
       "      <td>2.431115e-05</td>\n",
       "    </tr>\n",
       "    <tr>\n",
       "      <th>inq_last_6mths</th>\n",
       "      <td>1.840544e-05</td>\n",
       "    </tr>\n",
       "    <tr>\n",
       "      <th>total_rev_hi_lim</th>\n",
       "      <td>1.650849e-05</td>\n",
       "    </tr>\n",
       "    <tr>\n",
       "      <th>annual_inc</th>\n",
       "      <td>1.522469e-05</td>\n",
       "    </tr>\n",
       "    <tr>\n",
       "      <th>tot_cur_bal</th>\n",
       "      <td>3.986390e-06</td>\n",
       "    </tr>\n",
       "    <tr>\n",
       "      <th>emp_length_&lt; 1 year</th>\n",
       "      <td>2.195041e-06</td>\n",
       "    </tr>\n",
       "    <tr>\n",
       "      <th>emp_length_4 years</th>\n",
       "      <td>9.896454e-07</td>\n",
       "    </tr>\n",
       "    <tr>\n",
       "      <th>grade_G</th>\n",
       "      <td>7.696273e-07</td>\n",
       "    </tr>\n",
       "    <tr>\n",
       "      <th>purpose_1_moving</th>\n",
       "      <td>2.151377e-07</td>\n",
       "    </tr>\n",
       "    <tr>\n",
       "      <th>emp_length_7 years</th>\n",
       "      <td>1.529101e-07</td>\n",
       "    </tr>\n",
       "    <tr>\n",
       "      <th>purpose_1_house</th>\n",
       "      <td>1.450625e-22</td>\n",
       "    </tr>\n",
       "    <tr>\n",
       "      <th>home_own_1_OWN</th>\n",
       "      <td>0.000000e+00</td>\n",
       "    </tr>\n",
       "    <tr>\n",
       "      <th>emp_length_5 years</th>\n",
       "      <td>0.000000e+00</td>\n",
       "    </tr>\n",
       "    <tr>\n",
       "      <th>purpose_1_renewable_energy</th>\n",
       "      <td>0.000000e+00</td>\n",
       "    </tr>\n",
       "    <tr>\n",
       "      <th>application_type_JOINT</th>\n",
       "      <td>0.000000e+00</td>\n",
       "    </tr>\n",
       "    <tr>\n",
       "      <th>pymnt_plan_y</th>\n",
       "      <td>0.000000e+00</td>\n",
       "    </tr>\n",
       "    <tr>\n",
       "      <th>emp_length_8 years</th>\n",
       "      <td>0.000000e+00</td>\n",
       "    </tr>\n",
       "    <tr>\n",
       "      <th>emp_length_6 years</th>\n",
       "      <td>0.000000e+00</td>\n",
       "    </tr>\n",
       "    <tr>\n",
       "      <th>purpose_1_wedding</th>\n",
       "      <td>0.000000e+00</td>\n",
       "    </tr>\n",
       "    <tr>\n",
       "      <th>grade_B</th>\n",
       "      <td>0.000000e+00</td>\n",
       "    </tr>\n",
       "    <tr>\n",
       "      <th>emp_length_3 years</th>\n",
       "      <td>0.000000e+00</td>\n",
       "    </tr>\n",
       "    <tr>\n",
       "      <th>emp_length_10+ years</th>\n",
       "      <td>0.000000e+00</td>\n",
       "    </tr>\n",
       "    <tr>\n",
       "      <th>purpose_1_others</th>\n",
       "      <td>0.000000e+00</td>\n",
       "    </tr>\n",
       "    <tr>\n",
       "      <th>grade_F</th>\n",
       "      <td>0.000000e+00</td>\n",
       "    </tr>\n",
       "    <tr>\n",
       "      <th>grade_E</th>\n",
       "      <td>0.000000e+00</td>\n",
       "    </tr>\n",
       "    <tr>\n",
       "      <th>grade_D</th>\n",
       "      <td>0.000000e+00</td>\n",
       "    </tr>\n",
       "    <tr>\n",
       "      <th>grade_C</th>\n",
       "      <td>0.000000e+00</td>\n",
       "    </tr>\n",
       "    <tr>\n",
       "      <th>verified_1_Verified</th>\n",
       "      <td>0.000000e+00</td>\n",
       "    </tr>\n",
       "  </tbody>\n",
       "</table>\n",
       "</div>"
      ],
      "text/plain": [
       "                              importance\n",
       "recoveries                  5.459012e-01\n",
       "funded_amnt_inv             1.954975e-01\n",
       "total_rec_prncp             1.701200e-01\n",
       "last_pymnt_amnt             3.228122e-02\n",
       "out_prncp                   3.219953e-02\n",
       "out_prncp_inv               1.369461e-02\n",
       "tot_coll_amt                6.214114e-03\n",
       "total_pymnt_inv             2.173182e-03\n",
       "total_rec_int               1.328120e-03\n",
       "total_pymnt                 1.794287e-04\n",
       "int_rate                    1.217555e-04\n",
       "collection_recovery_fee     1.025331e-04\n",
       "purpose_1_small_business    5.703559e-05\n",
       "revol_bal                   4.697466e-05\n",
       "home_own_1_RENT             2.431115e-05\n",
       "inq_last_6mths              1.840544e-05\n",
       "total_rev_hi_lim            1.650849e-05\n",
       "annual_inc                  1.522469e-05\n",
       "tot_cur_bal                 3.986390e-06\n",
       "emp_length_< 1 year         2.195041e-06\n",
       "emp_length_4 years          9.896454e-07\n",
       "grade_G                     7.696273e-07\n",
       "purpose_1_moving            2.151377e-07\n",
       "emp_length_7 years          1.529101e-07\n",
       "purpose_1_house             1.450625e-22\n",
       "home_own_1_OWN              0.000000e+00\n",
       "emp_length_5 years          0.000000e+00\n",
       "purpose_1_renewable_energy  0.000000e+00\n",
       "application_type_JOINT      0.000000e+00\n",
       "pymnt_plan_y                0.000000e+00\n",
       "emp_length_8 years          0.000000e+00\n",
       "emp_length_6 years          0.000000e+00\n",
       "purpose_1_wedding           0.000000e+00\n",
       "grade_B                     0.000000e+00\n",
       "emp_length_3 years          0.000000e+00\n",
       "emp_length_10+ years        0.000000e+00\n",
       "purpose_1_others            0.000000e+00\n",
       "grade_F                     0.000000e+00\n",
       "grade_E                     0.000000e+00\n",
       "grade_D                     0.000000e+00\n",
       "grade_C                     0.000000e+00\n",
       "verified_1_Verified         0.000000e+00"
      ]
     },
     "execution_count": 180,
     "metadata": {},
     "output_type": "execute_result"
    }
   ],
   "source": [
    "import pandas as pd\n",
    "feature_importances=pd.DataFrame(gbm.feature_importances_,\n",
    "                                 index=X_train.columns,\n",
    "                                columns=['importance']).sort_values('importance',ascending=False)\n",
    "feature_importances"
   ]
  },
  {
   "cell_type": "code",
   "execution_count": 181,
   "metadata": {
    "ExecuteTime": {
     "end_time": "2021-06-24T18:14:26.035974Z",
     "start_time": "2021-06-24T18:14:25.161165Z"
    }
   },
   "outputs": [
    {
     "ename": "ValueError",
     "evalue": "feature_names must be string, and may not contain [, ] or <",
     "output_type": "error",
     "traceback": [
      "\u001b[1;31m---------------------------------------------------------------------------\u001b[0m",
      "\u001b[1;31mValueError\u001b[0m                                Traceback (most recent call last)",
      "\u001b[1;32m<ipython-input-181-1a357e2854b3>\u001b[0m in \u001b[0;36m<module>\u001b[1;34m\u001b[0m\n\u001b[0;32m      3\u001b[0m \u001b[1;32mfrom\u001b[0m \u001b[0mxgboost\u001b[0m \u001b[1;32mimport\u001b[0m \u001b[0mXGBClassifier\u001b[0m\u001b[1;33m\u001b[0m\u001b[1;33m\u001b[0m\u001b[0m\n\u001b[0;32m      4\u001b[0m \u001b[0mxgb\u001b[0m\u001b[1;33m=\u001b[0m\u001b[0mXGBClassifier\u001b[0m\u001b[1;33m(\u001b[0m\u001b[0mrandom_state\u001b[0m\u001b[1;33m=\u001b[0m\u001b[1;36m0\u001b[0m\u001b[1;33m,\u001b[0m\u001b[0mmax_depth\u001b[0m\u001b[1;33m=\u001b[0m\u001b[1;36m4\u001b[0m\u001b[1;33m)\u001b[0m\u001b[1;33m\u001b[0m\u001b[1;33m\u001b[0m\u001b[0m\n\u001b[1;32m----> 5\u001b[1;33m \u001b[0mxgb\u001b[0m\u001b[1;33m.\u001b[0m\u001b[0mfit\u001b[0m\u001b[1;33m(\u001b[0m\u001b[0mX_train\u001b[0m\u001b[1;33m,\u001b[0m\u001b[0my_train\u001b[0m\u001b[1;33m)\u001b[0m\u001b[1;33m\u001b[0m\u001b[1;33m\u001b[0m\u001b[0m\n\u001b[0m",
      "\u001b[1;32mC:\\ProgramData\\Anaconda3\\lib\\site-packages\\xgboost\\core.py\u001b[0m in \u001b[0;36minner_f\u001b[1;34m(*args, **kwargs)\u001b[0m\n\u001b[0;32m    420\u001b[0m         \u001b[1;32mfor\u001b[0m \u001b[0mk\u001b[0m\u001b[1;33m,\u001b[0m \u001b[0marg\u001b[0m \u001b[1;32min\u001b[0m \u001b[0mzip\u001b[0m\u001b[1;33m(\u001b[0m\u001b[0msig\u001b[0m\u001b[1;33m.\u001b[0m\u001b[0mparameters\u001b[0m\u001b[1;33m,\u001b[0m \u001b[0margs\u001b[0m\u001b[1;33m)\u001b[0m\u001b[1;33m:\u001b[0m\u001b[1;33m\u001b[0m\u001b[1;33m\u001b[0m\u001b[0m\n\u001b[0;32m    421\u001b[0m             \u001b[0mkwargs\u001b[0m\u001b[1;33m[\u001b[0m\u001b[0mk\u001b[0m\u001b[1;33m]\u001b[0m \u001b[1;33m=\u001b[0m \u001b[0marg\u001b[0m\u001b[1;33m\u001b[0m\u001b[1;33m\u001b[0m\u001b[0m\n\u001b[1;32m--> 422\u001b[1;33m         \u001b[1;32mreturn\u001b[0m \u001b[0mf\u001b[0m\u001b[1;33m(\u001b[0m\u001b[1;33m**\u001b[0m\u001b[0mkwargs\u001b[0m\u001b[1;33m)\u001b[0m\u001b[1;33m\u001b[0m\u001b[1;33m\u001b[0m\u001b[0m\n\u001b[0m\u001b[0;32m    423\u001b[0m \u001b[1;33m\u001b[0m\u001b[0m\n\u001b[0;32m    424\u001b[0m     \u001b[1;32mreturn\u001b[0m \u001b[0minner_f\u001b[0m\u001b[1;33m\u001b[0m\u001b[1;33m\u001b[0m\u001b[0m\n",
      "\u001b[1;32mC:\\ProgramData\\Anaconda3\\lib\\site-packages\\xgboost\\sklearn.py\u001b[0m in \u001b[0;36mfit\u001b[1;34m(self, X, y, sample_weight, base_margin, eval_set, eval_metric, early_stopping_rounds, verbose, xgb_model, sample_weight_eval_set, feature_weights, callbacks)\u001b[0m\n\u001b[0;32m    901\u001b[0m         \u001b[0mself\u001b[0m\u001b[1;33m.\u001b[0m\u001b[0mn_features_in_\u001b[0m \u001b[1;33m=\u001b[0m \u001b[0mself\u001b[0m\u001b[1;33m.\u001b[0m\u001b[0m_features_count\u001b[0m\u001b[1;33m\u001b[0m\u001b[1;33m\u001b[0m\u001b[0m\n\u001b[0;32m    902\u001b[0m \u001b[1;33m\u001b[0m\u001b[0m\n\u001b[1;32m--> 903\u001b[1;33m         train_dmatrix, evals = self._wrap_evaluation_matrices(\n\u001b[0m\u001b[0;32m    904\u001b[0m             \u001b[0mX\u001b[0m\u001b[1;33m,\u001b[0m \u001b[0my\u001b[0m\u001b[1;33m,\u001b[0m \u001b[0mgroup\u001b[0m\u001b[1;33m=\u001b[0m\u001b[1;32mNone\u001b[0m\u001b[1;33m,\u001b[0m \u001b[0msample_weight\u001b[0m\u001b[1;33m=\u001b[0m\u001b[0msample_weight\u001b[0m\u001b[1;33m,\u001b[0m \u001b[0mbase_margin\u001b[0m\u001b[1;33m=\u001b[0m\u001b[0mbase_margin\u001b[0m\u001b[1;33m,\u001b[0m\u001b[1;33m\u001b[0m\u001b[1;33m\u001b[0m\u001b[0m\n\u001b[0;32m    905\u001b[0m             \u001b[0mfeature_weights\u001b[0m\u001b[1;33m=\u001b[0m\u001b[0mfeature_weights\u001b[0m\u001b[1;33m,\u001b[0m\u001b[1;33m\u001b[0m\u001b[1;33m\u001b[0m\u001b[0m\n",
      "\u001b[1;32mC:\\ProgramData\\Anaconda3\\lib\\site-packages\\xgboost\\sklearn.py\u001b[0m in \u001b[0;36m_wrap_evaluation_matrices\u001b[1;34m(self, X, y, group, sample_weight, base_margin, feature_weights, eval_set, sample_weight_eval_set, eval_group, label_transform)\u001b[0m\n\u001b[0;32m    263\u001b[0m \u001b[1;33m\u001b[0m\u001b[0m\n\u001b[0;32m    264\u001b[0m         \u001b[0my\u001b[0m \u001b[1;33m=\u001b[0m \u001b[0mlabel_transform\u001b[0m\u001b[1;33m(\u001b[0m\u001b[0my\u001b[0m\u001b[1;33m)\u001b[0m\u001b[1;33m\u001b[0m\u001b[1;33m\u001b[0m\u001b[0m\n\u001b[1;32m--> 265\u001b[1;33m         train_dmatrix = DMatrix(data=X, label=y, weight=sample_weight,\n\u001b[0m\u001b[0;32m    266\u001b[0m                                 \u001b[0mbase_margin\u001b[0m\u001b[1;33m=\u001b[0m\u001b[0mbase_margin\u001b[0m\u001b[1;33m,\u001b[0m\u001b[1;33m\u001b[0m\u001b[1;33m\u001b[0m\u001b[0m\n\u001b[0;32m    267\u001b[0m                                 missing=self.missing, nthread=self.n_jobs)\n",
      "\u001b[1;32mC:\\ProgramData\\Anaconda3\\lib\\site-packages\\xgboost\\core.py\u001b[0m in \u001b[0;36m__init__\u001b[1;34m(self, data, label, weight, base_margin, missing, silent, feature_names, feature_types, nthread, enable_categorical)\u001b[0m\n\u001b[0;32m    509\u001b[0m         \u001b[0mself\u001b[0m\u001b[1;33m.\u001b[0m\u001b[0mset_info\u001b[0m\u001b[1;33m(\u001b[0m\u001b[0mlabel\u001b[0m\u001b[1;33m=\u001b[0m\u001b[0mlabel\u001b[0m\u001b[1;33m,\u001b[0m \u001b[0mweight\u001b[0m\u001b[1;33m=\u001b[0m\u001b[0mweight\u001b[0m\u001b[1;33m,\u001b[0m \u001b[0mbase_margin\u001b[0m\u001b[1;33m=\u001b[0m\u001b[0mbase_margin\u001b[0m\u001b[1;33m)\u001b[0m\u001b[1;33m\u001b[0m\u001b[1;33m\u001b[0m\u001b[0m\n\u001b[0;32m    510\u001b[0m \u001b[1;33m\u001b[0m\u001b[0m\n\u001b[1;32m--> 511\u001b[1;33m         \u001b[0mself\u001b[0m\u001b[1;33m.\u001b[0m\u001b[0mfeature_names\u001b[0m \u001b[1;33m=\u001b[0m \u001b[0mfeature_names\u001b[0m\u001b[1;33m\u001b[0m\u001b[1;33m\u001b[0m\u001b[0m\n\u001b[0m\u001b[0;32m    512\u001b[0m         \u001b[0mself\u001b[0m\u001b[1;33m.\u001b[0m\u001b[0mfeature_types\u001b[0m \u001b[1;33m=\u001b[0m \u001b[0mfeature_types\u001b[0m\u001b[1;33m\u001b[0m\u001b[1;33m\u001b[0m\u001b[0m\n\u001b[0;32m    513\u001b[0m \u001b[1;33m\u001b[0m\u001b[0m\n",
      "\u001b[1;32mC:\\ProgramData\\Anaconda3\\lib\\site-packages\\xgboost\\core.py\u001b[0m in \u001b[0;36mfeature_names\u001b[1;34m(self, feature_names)\u001b[0m\n\u001b[0;32m    832\u001b[0m                        \u001b[1;32mnot\u001b[0m \u001b[0many\u001b[0m\u001b[1;33m(\u001b[0m\u001b[0mx\u001b[0m \u001b[1;32min\u001b[0m \u001b[0mf\u001b[0m \u001b[1;32mfor\u001b[0m \u001b[0mx\u001b[0m \u001b[1;32min\u001b[0m \u001b[0mset\u001b[0m\u001b[1;33m(\u001b[0m\u001b[1;33m(\u001b[0m\u001b[1;34m'['\u001b[0m\u001b[1;33m,\u001b[0m \u001b[1;34m']'\u001b[0m\u001b[1;33m,\u001b[0m \u001b[1;34m'<'\u001b[0m\u001b[1;33m)\u001b[0m\u001b[1;33m)\u001b[0m\u001b[1;33m)\u001b[0m\u001b[1;33m\u001b[0m\u001b[1;33m\u001b[0m\u001b[0m\n\u001b[0;32m    833\u001b[0m                        for f in feature_names):\n\u001b[1;32m--> 834\u001b[1;33m                 \u001b[1;32mraise\u001b[0m \u001b[0mValueError\u001b[0m\u001b[1;33m(\u001b[0m\u001b[1;34m'feature_names must be string, and may not contain [, ] or <'\u001b[0m\u001b[1;33m)\u001b[0m\u001b[1;33m\u001b[0m\u001b[1;33m\u001b[0m\u001b[0m\n\u001b[0m\u001b[0;32m    835\u001b[0m             c_feature_names = [bytes(f, encoding='utf-8')\n\u001b[0;32m    836\u001b[0m                                for f in feature_names]\n",
      "\u001b[1;31mValueError\u001b[0m: feature_names must be string, and may not contain [, ] or <"
     ]
    }
   ],
   "source": [
    "# building XGBoost\n",
    "\n",
    "from xgboost import XGBClassifier\n",
    "xgb=XGBClassifier(random_state=0,max_depth=4)\n",
    "xgb.fit(X_train,y_train)"
   ]
  },
  {
   "cell_type": "code",
   "execution_count": 182,
   "metadata": {
    "ExecuteTime": {
     "end_time": "2021-06-24T18:14:30.323520Z",
     "start_time": "2021-06-24T18:14:30.303600Z"
    }
   },
   "outputs": [
    {
     "data": {
      "text/plain": [
       "funded_amnt_inv               float64\n",
       "annual_inc                    float64\n",
       "revol_bal                     float64\n",
       "out_prncp                     float64\n",
       "out_prncp_inv                 float64\n",
       "total_pymnt                   float64\n",
       "total_pymnt_inv               float64\n",
       "total_rec_prncp               float64\n",
       "total_rec_int                 float64\n",
       "recoveries                    float64\n",
       "collection_recovery_fee       float64\n",
       "last_pymnt_amnt               float64\n",
       "tot_coll_amt                  float64\n",
       "tot_cur_bal                   float64\n",
       "total_rev_hi_lim              float64\n",
       "purpose_1_house                 uint8\n",
       "purpose_1_moving                uint8\n",
       "purpose_1_others                uint8\n",
       "purpose_1_renewable_energy      uint8\n",
       "purpose_1_small_business        uint8\n",
       "purpose_1_wedding               uint8\n",
       "verified_1_Verified             uint8\n",
       "home_own_1_OWN                  uint8\n",
       "home_own_1_RENT                 uint8\n",
       "grade_B                         uint8\n",
       "grade_C                         uint8\n",
       "grade_D                         uint8\n",
       "grade_E                         uint8\n",
       "grade_F                         uint8\n",
       "grade_G                         uint8\n",
       "emp_length_10+ years            uint8\n",
       "emp_length_3 years              uint8\n",
       "emp_length_4 years              uint8\n",
       "emp_length_5 years              uint8\n",
       "emp_length_6 years              uint8\n",
       "emp_length_7 years              uint8\n",
       "emp_length_8 years              uint8\n",
       "emp_length_< 1 year             uint8\n",
       "pymnt_plan_y                    uint8\n",
       "application_type_JOINT          uint8\n",
       "int_rate                      float64\n",
       "inq_last_6mths                float64\n",
       "dtype: object"
      ]
     },
     "execution_count": 182,
     "metadata": {},
     "output_type": "execute_result"
    }
   ],
   "source": [
    "X_train.dtypes"
   ]
  },
  {
   "cell_type": "code",
   "execution_count": 183,
   "metadata": {
    "ExecuteTime": {
     "end_time": "2021-06-24T18:14:33.878271Z",
     "start_time": "2021-06-24T18:14:33.760450Z"
    }
   },
   "outputs": [],
   "source": [
    "# Xgboost does not take column same which have'[',']', or '<' symbols in the column name,\n",
    "# hence we need to rename those column before using xgbm\n",
    "# we notice that there is a column name 'emp_length_< 1 year' which uses < sign, we could rename it manually or use regex\n",
    "\n",
    "# we will use the generic method of regex to chnage the column names\n",
    "\n",
    "import re\n",
    "\n",
    "regex = re.compile(r\"\\[|\\]|<\", re.IGNORECASE)\n",
    "\n",
    "X_train.columns = [regex.sub(\"_\", col) if any(x in str(col) for x in set(('[', ']', '<'))) \n",
    "                   else col for col in X_train.columns.values]\n",
    "X_test.columns = [regex.sub(\"_\", col) if any(x in str(col) for x in set(('[', ']', '<'))) \n",
    "                   else col for col in X_train.columns.values]\n",
    "\n",
    "X_all.columns = [regex.sub(\"_\", col) if any(x in str(col) for x in set(('[', ']', '<'))) \n",
    "                   else col for col in X_train.columns.values]\n",
    "# replace the selected symbols with \"_\""
   ]
  },
  {
   "cell_type": "code",
   "execution_count": 184,
   "metadata": {
    "ExecuteTime": {
     "end_time": "2021-06-24T18:14:38.628065Z",
     "start_time": "2021-06-24T18:14:38.615070Z"
    }
   },
   "outputs": [
    {
     "data": {
      "text/plain": [
       "funded_amnt_inv               float64\n",
       "annual_inc                    float64\n",
       "revol_bal                     float64\n",
       "out_prncp                     float64\n",
       "out_prncp_inv                 float64\n",
       "total_pymnt                   float64\n",
       "total_pymnt_inv               float64\n",
       "total_rec_prncp               float64\n",
       "total_rec_int                 float64\n",
       "recoveries                    float64\n",
       "collection_recovery_fee       float64\n",
       "last_pymnt_amnt               float64\n",
       "tot_coll_amt                  float64\n",
       "tot_cur_bal                   float64\n",
       "total_rev_hi_lim              float64\n",
       "purpose_1_house                 uint8\n",
       "purpose_1_moving                uint8\n",
       "purpose_1_others                uint8\n",
       "purpose_1_renewable_energy      uint8\n",
       "purpose_1_small_business        uint8\n",
       "purpose_1_wedding               uint8\n",
       "verified_1_Verified             uint8\n",
       "home_own_1_OWN                  uint8\n",
       "home_own_1_RENT                 uint8\n",
       "grade_B                         uint8\n",
       "grade_C                         uint8\n",
       "grade_D                         uint8\n",
       "grade_E                         uint8\n",
       "grade_F                         uint8\n",
       "grade_G                         uint8\n",
       "emp_length_10+ years            uint8\n",
       "emp_length_3 years              uint8\n",
       "emp_length_4 years              uint8\n",
       "emp_length_5 years              uint8\n",
       "emp_length_6 years              uint8\n",
       "emp_length_7 years              uint8\n",
       "emp_length_8 years              uint8\n",
       "emp_length__ 1 year             uint8\n",
       "pymnt_plan_y                    uint8\n",
       "application_type_JOINT          uint8\n",
       "int_rate                      float64\n",
       "inq_last_6mths                float64\n",
       "dtype: object"
      ]
     },
     "execution_count": 184,
     "metadata": {},
     "output_type": "execute_result"
    }
   ],
   "source": [
    "X_train.dtypes"
   ]
  },
  {
   "cell_type": "code",
   "execution_count": 185,
   "metadata": {
    "ExecuteTime": {
     "end_time": "2021-06-24T18:15:24.917801Z",
     "start_time": "2021-06-24T18:14:42.871996Z"
    }
   },
   "outputs": [
    {
     "name": "stdout",
     "output_type": "stream",
     "text": [
      "[23:44:44] WARNING: C:/Users/Administrator/workspace/xgboost-win64_release_1.3.0/src/learner.cc:1061: Starting in XGBoost 1.3.0, the default evaluation metric used with the objective 'binary:logistic' was changed from 'error' to 'logloss'. Explicitly set eval_metric if you'd like to restore the old behavior.\n"
     ]
    },
    {
     "data": {
      "text/plain": [
       "XGBClassifier(base_score=0.5, booster='gbtree', colsample_bylevel=1,\n",
       "              colsample_bynode=1, colsample_bytree=1, gamma=0, gpu_id=-1,\n",
       "              importance_type='gain', interaction_constraints='',\n",
       "              learning_rate=0.300000012, max_delta_step=0, max_depth=4,\n",
       "              min_child_weight=1, missing=nan, monotone_constraints='()',\n",
       "              n_estimators=100, n_jobs=4, num_parallel_tree=1, random_state=0,\n",
       "              reg_alpha=0, reg_lambda=1, scale_pos_weight=1, subsample=1,\n",
       "              tree_method='exact', validate_parameters=1, verbosity=None)"
      ]
     },
     "execution_count": 185,
     "metadata": {},
     "output_type": "execute_result"
    }
   ],
   "source": [
    "# running XGBoost again\n",
    "\n",
    "from xgboost import XGBClassifier\n",
    "xgb=XGBClassifier(random_state=0,max_depth=4)\n",
    "xgb.fit(X_train,y_train)"
   ]
  },
  {
   "cell_type": "code",
   "execution_count": 186,
   "metadata": {
    "ExecuteTime": {
     "end_time": "2021-06-24T18:15:36.820467Z",
     "start_time": "2021-06-24T18:15:33.571259Z"
    }
   },
   "outputs": [],
   "source": [
    "# model evaluation\n",
    "\n",
    "y_pred_dtree=dtree.predict(X_test)\n",
    "y_pred_rf=rf.predict(X_test)\n",
    "y_pred_gbm=gbm.predict(X_test)\n",
    "y_pred_xgb=xgb.predict(X_test)\n",
    "\n",
    "#predict function will show 1(i.e. risk) only if predicted probability reaches 50%, below that it will 0"
   ]
  },
  {
   "cell_type": "code",
   "execution_count": 187,
   "metadata": {
    "ExecuteTime": {
     "end_time": "2021-06-24T18:15:37.682153Z",
     "start_time": "2021-06-24T18:15:37.677166Z"
    }
   },
   "outputs": [],
   "source": [
    "# confusion Matrix\n",
    "from sklearn import metrics\n",
    "from sklearn.metrics import confusion_matrix"
   ]
  },
  {
   "cell_type": "code",
   "execution_count": 188,
   "metadata": {
    "ExecuteTime": {
     "end_time": "2021-06-24T18:15:41.519616Z",
     "start_time": "2021-06-24T18:15:41.128667Z"
    }
   },
   "outputs": [
    {
     "name": "stdout",
     "output_type": "stream",
     "text": [
      "Accuracy:  0.9885543209598293\n",
      "Precision:  0.9939684229199929\n",
      "Recall:  0.7899894254494184\n",
      "F1-Score:  0.8803173730311482\n"
     ]
    }
   ],
   "source": [
    "print('Accuracy: ',metrics.accuracy_score(y_test,y_pred_dtree))\n",
    "print('Precision: ',metrics.precision_score(y_test,y_pred_dtree))\n",
    "print('Recall: ',metrics.recall_score(y_test,y_pred_dtree))\n",
    "print('F1-Score: ',metrics.f1_score(y_test,y_pred_dtree))"
   ]
  },
  {
   "cell_type": "code",
   "execution_count": 189,
   "metadata": {
    "ExecuteTime": {
     "end_time": "2021-06-24T18:15:44.032758Z",
     "start_time": "2021-06-24T18:15:42.470641Z"
    }
   },
   "outputs": [
    {
     "data": {
      "text/plain": [
       "<sklearn.metrics._plot.confusion_matrix.ConfusionMatrixDisplay at 0x21aed05beb0>"
      ]
     },
     "execution_count": 189,
     "metadata": {},
     "output_type": "execute_result"
    },
    {
     "data": {
      "image/png": "[encoded data removed]",
      "text/plain": [
       "<Figure size 432x288 with 2 Axes>"
      ]
     },
     "metadata": {
      "needs_background": "light"
     },
     "output_type": "display_data"
    }
   ],
   "source": [
    "metrics.plot_confusion_matrix(dtree,X_all,Y)"
   ]
  },
  {
   "cell_type": "code",
   "execution_count": 190,
   "metadata": {
    "ExecuteTime": {
     "end_time": "2021-06-24T18:15:45.228234Z",
     "start_time": "2021-06-24T18:15:44.983851Z"
    }
   },
   "outputs": [
    {
     "name": "stdout",
     "output_type": "stream",
     "text": [
      "Accuracy:  0.9747195864980804\n",
      "Precision:  1.0\n",
      "Recall:  0.525555163905534\n",
      "F1-Score:  0.6890018484288355\n"
     ]
    }
   ],
   "source": [
    "print('Accuracy: ',metrics.accuracy_score(y_test,y_pred_rf))\n",
    "print('Precision: ',metrics.precision_score(y_test,y_pred_rf))\n",
    "print('Recall: ',metrics.recall_score(y_test,y_pred_rf))\n",
    "print('F1-Score: ',metrics.f1_score(y_test,y_pred_rf))"
   ]
  },
  {
   "cell_type": "code",
   "execution_count": 191,
   "metadata": {
    "ExecuteTime": {
     "end_time": "2021-06-24T18:15:53.351556Z",
     "start_time": "2021-06-24T18:15:46.691580Z"
    }
   },
   "outputs": [
    {
     "data": {
      "text/plain": [
       "<sklearn.metrics._plot.confusion_matrix.ConfusionMatrixDisplay at 0x21aecd23610>"
      ]
     },
     "execution_count": 191,
     "metadata": {},
     "output_type": "execute_result"
    },
    {
     "data": {
      "image/png": "[encoded data removed]",
      "text/plain": [
       "<Figure size 432x288 with 2 Axes>"
      ]
     },
     "metadata": {
      "needs_background": "light"
     },
     "output_type": "display_data"
    }
   ],
   "source": [
    "metrics.plot_confusion_matrix(rf,X_all,Y)"
   ]
  },
  {
   "cell_type": "code",
   "execution_count": 192,
   "metadata": {
    "ExecuteTime": {
     "end_time": "2021-06-24T18:15:53.634773Z",
     "start_time": "2021-06-24T18:15:53.354550Z"
    }
   },
   "outputs": [
    {
     "name": "stdout",
     "output_type": "stream",
     "text": [
      "Accuracy:  0.9973479982269903\n",
      "Precision:  0.9983731420542779\n",
      "Recall:  0.9517800493479027\n",
      "F1-Score:  0.9745199942254944\n"
     ]
    }
   ],
   "source": [
    "print('Accuracy: ',metrics.accuracy_score(y_test,y_pred_gbm))\n",
    "print('Precision: ',metrics.precision_score(y_test,y_pred_gbm))\n",
    "print('Recall: ',metrics.recall_score(y_test,y_pred_gbm))\n",
    "print('F1-Score: ',metrics.f1_score(y_test,y_pred_gbm))"
   ]
  },
  {
   "cell_type": "code",
   "execution_count": 193,
   "metadata": {
    "ExecuteTime": {
     "end_time": "2021-06-24T18:16:01.010448Z",
     "start_time": "2021-06-24T18:15:57.923902Z"
    }
   },
   "outputs": [
    {
     "data": {
      "text/plain": [
       "<sklearn.metrics._plot.confusion_matrix.ConfusionMatrixDisplay at 0x21aed27d6d0>"
      ]
     },
     "execution_count": 193,
     "metadata": {},
     "output_type": "execute_result"
    },
    {
     "data": {
      "image/png": "[encoded data removed]",
      "text/plain": [
       "<Figure size 432x288 with 2 Axes>"
      ]
     },
     "metadata": {
      "needs_background": "light"
     },
     "output_type": "display_data"
    }
   ],
   "source": [
    "metrics.plot_confusion_matrix(gbm,X_all,Y)"
   ]
  },
  {
   "cell_type": "code",
   "execution_count": 194,
   "metadata": {
    "ExecuteTime": {
     "end_time": "2021-06-24T18:16:04.077915Z",
     "start_time": "2021-06-24T18:16:03.818609Z"
    }
   },
   "outputs": [
    {
     "name": "stdout",
     "output_type": "stream",
     "text": [
      "Accuracy:  0.9981556191635301\n",
      "Precision:  0.999416484318016\n",
      "Recall:  0.9659499471272471\n",
      "F1-Score:  0.9823982792615165\n"
     ]
    }
   ],
   "source": [
    "print('Accuracy: ',metrics.accuracy_score(y_test,y_pred_xgb))\n",
    "print('Precision: ',metrics.precision_score(y_test,y_pred_xgb))\n",
    "print('Recall: ',metrics.recall_score(y_test,y_pred_xgb))\n",
    "print('F1-Score: ',metrics.f1_score(y_test,y_pred_xgb))"
   ]
  },
  {
   "cell_type": "code",
   "execution_count": 195,
   "metadata": {
    "ExecuteTime": {
     "end_time": "2021-06-24T18:16:08.353156Z",
     "start_time": "2021-06-24T18:16:06.569212Z"
    }
   },
   "outputs": [
    {
     "data": {
      "text/plain": [
       "<sklearn.metrics._plot.confusion_matrix.ConfusionMatrixDisplay at 0x21af1419580>"
      ]
     },
     "execution_count": 195,
     "metadata": {},
     "output_type": "execute_result"
    },
    {
     "data": {
      "image/png": "[encoded data removed]",
      "text/plain": [
       "<Figure size 432x288 with 2 Axes>"
      ]
     },
     "metadata": {
      "needs_background": "light"
     },
     "output_type": "display_data"
    }
   ],
   "source": [
    "metrics.plot_confusion_matrix(xgb,X_all,Y)"
   ]
  },
  {
   "cell_type": "code",
   "execution_count": 196,
   "metadata": {
    "ExecuteTime": {
     "end_time": "2021-06-24T18:16:12.025376Z",
     "start_time": "2021-06-24T18:16:11.491679Z"
    }
   },
   "outputs": [],
   "source": [
    "# Probabililty coming from xgbm model has higher discrimination power \n",
    "# than the probailities coming from decision tree and random forest model\n",
    "\n",
    "# basically the predict function shows that probability of 1532 were less than 50% hence classified as 0"
   ]
  },
  {
   "cell_type": "code",
   "execution_count": null,
   "metadata": {},
   "outputs": [],
   "source": []
  },
  {
   "cell_type": "code",
   "execution_count": 197,
   "metadata": {
    "ExecuteTime": {
     "end_time": "2021-06-24T18:16:15.205565Z",
     "start_time": "2021-06-24T18:16:15.189599Z"
    }
   },
   "outputs": [],
   "source": [
    "# Lorentz Curve\n",
    "\n",
    "#in lorentz curve we create groups/ranks/deciles of all probabilities and we will make 10 ranks/groups\n",
    "#Value =10 means the top 10 values that have highest probabilities(of risk) \n",
    "# We will use these rank to identify the groups with highest and lowest probabilities and will make strategies based on\n",
    "# these groups"
   ]
  },
  {
   "cell_type": "code",
   "execution_count": 198,
   "metadata": {
    "ExecuteTime": {
     "end_time": "2021-06-24T18:16:17.509716Z",
     "start_time": "2021-06-24T18:16:16.082007Z"
    }
   },
   "outputs": [
    {
     "data": {
      "text/html": [
       "<div>\n",
       "<style scoped>\n",
       "    .dataframe tbody tr th:only-of-type {\n",
       "        vertical-align: middle;\n",
       "    }\n",
       "\n",
       "    .dataframe tbody tr th {\n",
       "        vertical-align: top;\n",
       "    }\n",
       "\n",
       "    .dataframe thead th {\n",
       "        text-align: right;\n",
       "    }\n",
       "</style>\n",
       "<table border=\"1\" class=\"dataframe\">\n",
       "  <thead>\n",
       "    <tr style=\"text-align: right;\">\n",
       "      <th></th>\n",
       "      <th>P_Rank_RF</th>\n",
       "      <th>count</th>\n",
       "      <th>mean</th>\n",
       "      <th>N_events</th>\n",
       "      <th>cum_events</th>\n",
       "      <th>event_cap</th>\n",
       "      <th>cum_event_cap</th>\n",
       "      <th>random_cap</th>\n",
       "      <th>cum_random_cap</th>\n",
       "      <th>decile</th>\n",
       "      <th>lift_over_random</th>\n",
       "    </tr>\n",
       "  </thead>\n",
       "  <tbody>\n",
       "    <tr>\n",
       "      <th>0</th>\n",
       "      <td>10</td>\n",
       "      <td>88738</td>\n",
       "      <td>0.506998</td>\n",
       "      <td>44990.0</td>\n",
       "      <td>44990.0</td>\n",
       "      <td>0.952613</td>\n",
       "      <td>0.952613</td>\n",
       "      <td>0.100000</td>\n",
       "      <td>0.100000</td>\n",
       "      <td>1</td>\n",
       "      <td>9.526118</td>\n",
       "    </tr>\n",
       "    <tr>\n",
       "      <th>1</th>\n",
       "      <td>9</td>\n",
       "      <td>88738</td>\n",
       "      <td>0.013106</td>\n",
       "      <td>1163.0</td>\n",
       "      <td>46153.0</td>\n",
       "      <td>0.024625</td>\n",
       "      <td>0.977238</td>\n",
       "      <td>0.100000</td>\n",
       "      <td>0.200000</td>\n",
       "      <td>2</td>\n",
       "      <td>4.886185</td>\n",
       "    </tr>\n",
       "    <tr>\n",
       "      <th>2</th>\n",
       "      <td>8</td>\n",
       "      <td>88738</td>\n",
       "      <td>0.002738</td>\n",
       "      <td>243.0</td>\n",
       "      <td>46396.0</td>\n",
       "      <td>0.005145</td>\n",
       "      <td>0.982383</td>\n",
       "      <td>0.100000</td>\n",
       "      <td>0.300000</td>\n",
       "      <td>3</td>\n",
       "      <td>3.274607</td>\n",
       "    </tr>\n",
       "    <tr>\n",
       "      <th>3</th>\n",
       "      <td>7</td>\n",
       "      <td>88738</td>\n",
       "      <td>0.002558</td>\n",
       "      <td>227.0</td>\n",
       "      <td>46623.0</td>\n",
       "      <td>0.004806</td>\n",
       "      <td>0.987190</td>\n",
       "      <td>0.100000</td>\n",
       "      <td>0.400000</td>\n",
       "      <td>4</td>\n",
       "      <td>2.467972</td>\n",
       "    </tr>\n",
       "    <tr>\n",
       "      <th>4</th>\n",
       "      <td>6</td>\n",
       "      <td>88737</td>\n",
       "      <td>0.001657</td>\n",
       "      <td>147.0</td>\n",
       "      <td>46770.0</td>\n",
       "      <td>0.003113</td>\n",
       "      <td>0.990302</td>\n",
       "      <td>0.099999</td>\n",
       "      <td>0.499999</td>\n",
       "      <td>5</td>\n",
       "      <td>1.980607</td>\n",
       "    </tr>\n",
       "    <tr>\n",
       "      <th>5</th>\n",
       "      <td>5</td>\n",
       "      <td>88738</td>\n",
       "      <td>0.001792</td>\n",
       "      <td>159.0</td>\n",
       "      <td>46929.0</td>\n",
       "      <td>0.003367</td>\n",
       "      <td>0.993669</td>\n",
       "      <td>0.100000</td>\n",
       "      <td>0.600000</td>\n",
       "      <td>6</td>\n",
       "      <td>1.656116</td>\n",
       "    </tr>\n",
       "    <tr>\n",
       "      <th>6</th>\n",
       "      <td>4</td>\n",
       "      <td>88738</td>\n",
       "      <td>0.001386</td>\n",
       "      <td>123.0</td>\n",
       "      <td>47052.0</td>\n",
       "      <td>0.002604</td>\n",
       "      <td>0.996273</td>\n",
       "      <td>0.100000</td>\n",
       "      <td>0.700000</td>\n",
       "      <td>7</td>\n",
       "      <td>1.423248</td>\n",
       "    </tr>\n",
       "    <tr>\n",
       "      <th>7</th>\n",
       "      <td>3</td>\n",
       "      <td>88738</td>\n",
       "      <td>0.000868</td>\n",
       "      <td>77.0</td>\n",
       "      <td>47129.0</td>\n",
       "      <td>0.001630</td>\n",
       "      <td>0.997904</td>\n",
       "      <td>0.100000</td>\n",
       "      <td>0.800000</td>\n",
       "      <td>8</td>\n",
       "      <td>1.247380</td>\n",
       "    </tr>\n",
       "    <tr>\n",
       "      <th>8</th>\n",
       "      <td>2</td>\n",
       "      <td>88738</td>\n",
       "      <td>0.000124</td>\n",
       "      <td>11.0</td>\n",
       "      <td>47140.0</td>\n",
       "      <td>0.000233</td>\n",
       "      <td>0.998137</td>\n",
       "      <td>0.100000</td>\n",
       "      <td>0.900000</td>\n",
       "      <td>9</td>\n",
       "      <td>1.109041</td>\n",
       "    </tr>\n",
       "    <tr>\n",
       "      <th>9</th>\n",
       "      <td>1</td>\n",
       "      <td>88738</td>\n",
       "      <td>0.000992</td>\n",
       "      <td>88.0</td>\n",
       "      <td>47228.0</td>\n",
       "      <td>0.001863</td>\n",
       "      <td>1.000000</td>\n",
       "      <td>0.100000</td>\n",
       "      <td>1.000000</td>\n",
       "      <td>10</td>\n",
       "      <td>1.000000</td>\n",
       "    </tr>\n",
       "  </tbody>\n",
       "</table>\n",
       "</div>"
      ],
      "text/plain": [
       "   P_Rank_RF  count      mean  N_events  cum_events  event_cap  cum_event_cap  \\\n",
       "0         10  88738  0.506998   44990.0     44990.0   0.952613       0.952613   \n",
       "1          9  88738  0.013106    1163.0     46153.0   0.024625       0.977238   \n",
       "2          8  88738  0.002738     243.0     46396.0   0.005145       0.982383   \n",
       "3          7  88738  0.002558     227.0     46623.0   0.004806       0.987190   \n",
       "4          6  88737  0.001657     147.0     46770.0   0.003113       0.990302   \n",
       "5          5  88738  0.001792     159.0     46929.0   0.003367       0.993669   \n",
       "6          4  88738  0.001386     123.0     47052.0   0.002604       0.996273   \n",
       "7          3  88738  0.000868      77.0     47129.0   0.001630       0.997904   \n",
       "8          2  88738  0.000124      11.0     47140.0   0.000233       0.998137   \n",
       "9          1  88738  0.000992      88.0     47228.0   0.001863       1.000000   \n",
       "\n",
       "   random_cap  cum_random_cap  decile  lift_over_random  \n",
       "0    0.100000        0.100000       1          9.526118  \n",
       "1    0.100000        0.200000       2          4.886185  \n",
       "2    0.100000        0.300000       3          3.274607  \n",
       "3    0.100000        0.400000       4          2.467972  \n",
       "4    0.099999        0.499999       5          1.980607  \n",
       "5    0.100000        0.600000       6          1.656116  \n",
       "6    0.100000        0.700000       7          1.423248  \n",
       "7    0.100000        0.800000       8          1.247380  \n",
       "8    0.100000        0.900000       9          1.109041  \n",
       "9    0.100000        1.000000      10          1.000000  "
      ]
     },
     "execution_count": 198,
     "metadata": {},
     "output_type": "execute_result"
    }
   ],
   "source": [
    "# Lorentz curve for decision tree\n",
    "\n",
    "y_pred_prob=dtree.predict_proba(X_all)[:,1]   #predict probability\n",
    "#returns two columns, where first column is(non event) for not risky and 2nd column is the actual event,\n",
    "# hence we  take only 2nd column\n",
    "df_loan['y_pred_P']=pd.DataFrame(y_pred_prob)  # adding a y_pred column to the original df along side actual Y\n",
    "df_loan['P_Rank_RF']=pd.qcut(df_loan['y_pred_P'].rank(method='first').values,10,duplicates='drop').codes+1\n",
    "#grouping the predicted probability in deciles (1 to 10)\n",
    "\n",
    "rank_df=df_loan.groupby('P_Rank_RF')['target'].agg(['count','mean'])\n",
    "rank_df=pd.DataFrame(rank_df)\n",
    "#creating new columns for count and mean and adding in a new df. Count shows the number of rows/records in each decide.\n",
    "# mean shows the event rate\n",
    "\n",
    "sorted_rank_df=rank_df.sort_values(by='P_Rank_RF',ascending=False) #sorting & creating new df based on Rank in desc order\n",
    "\n",
    "# Adding some new columns\n",
    "sorted_rank_df['N_events']=rank_df['count']*rank_df['mean']  #column to show number of event in each decile\n",
    "sorted_rank_df['cum_events']=sorted_rank_df['N_events'].cumsum() #cumulative sum of all events\n",
    "\n",
    "sorted_rank_df['event_cap']=sorted_rank_df['N_events']/max(sorted_rank_df['N_events'].cumsum())  # each event/total event\n",
    "# above column shows how many percentage of event does the decile account for\n",
    "sorted_rank_df['cum_event_cap']=sorted_rank_df['event_cap'].cumsum() # cumulative event rate\n",
    "\n",
    "sorted_rank_df['random_cap']=sorted_rank_df['count']/max(sorted_rank_df['count'].cumsum()) #records % per decile(10% each)\n",
    "sorted_rank_df['cum_random_cap']=sorted_rank_df['random_cap'].cumsum() # cumulative of the above column (adds up to100%)\n",
    "\n",
    "sorted_reindexed=sorted_rank_df.reset_index()\n",
    "sorted_reindexed['decile']=sorted_reindexed.index+1  # decile number\n",
    "sorted_reindexed['lift_over_random']=sorted_reindexed['cum_event_cap']/sorted_reindexed['cum_random_cap']\n",
    "sorted_reindexed\n",
    "\n",
    "# So we need to compare till the 3rd decide of cum_event_cap from the multiple ML algo. the algorithm which accounts\n",
    "# for maximum events within first 3 deciles are considered the best\n",
    "\n",
    "# For the dtree it is 0.9823"
   ]
  },
  {
   "cell_type": "code",
   "execution_count": null,
   "metadata": {},
   "outputs": [],
   "source": []
  },
  {
   "cell_type": "code",
   "execution_count": 199,
   "metadata": {
    "ExecuteTime": {
     "end_time": "2021-06-24T18:16:38.328657Z",
     "start_time": "2021-06-24T18:16:30.998591Z"
    }
   },
   "outputs": [
    {
     "data": {
      "text/html": [
       "<div>\n",
       "<style scoped>\n",
       "    .dataframe tbody tr th:only-of-type {\n",
       "        vertical-align: middle;\n",
       "    }\n",
       "\n",
       "    .dataframe tbody tr th {\n",
       "        vertical-align: top;\n",
       "    }\n",
       "\n",
       "    .dataframe thead th {\n",
       "        text-align: right;\n",
       "    }\n",
       "</style>\n",
       "<table border=\"1\" class=\"dataframe\">\n",
       "  <thead>\n",
       "    <tr style=\"text-align: right;\">\n",
       "      <th></th>\n",
       "      <th>P_Rank_RF</th>\n",
       "      <th>count</th>\n",
       "      <th>mean</th>\n",
       "      <th>N_events</th>\n",
       "      <th>cum_events</th>\n",
       "      <th>event_cap</th>\n",
       "      <th>cum_event_cap</th>\n",
       "      <th>random_cap</th>\n",
       "      <th>cum_random_cap</th>\n",
       "      <th>decile</th>\n",
       "      <th>lift_over_random</th>\n",
       "    </tr>\n",
       "  </thead>\n",
       "  <tbody>\n",
       "    <tr>\n",
       "      <th>0</th>\n",
       "      <td>10</td>\n",
       "      <td>88738</td>\n",
       "      <td>0.511156</td>\n",
       "      <td>45359.0</td>\n",
       "      <td>45359.0</td>\n",
       "      <td>0.960426</td>\n",
       "      <td>0.960426</td>\n",
       "      <td>0.100000</td>\n",
       "      <td>0.100000</td>\n",
       "      <td>1</td>\n",
       "      <td>9.604249</td>\n",
       "    </tr>\n",
       "    <tr>\n",
       "      <th>1</th>\n",
       "      <td>9</td>\n",
       "      <td>88738</td>\n",
       "      <td>0.007043</td>\n",
       "      <td>625.0</td>\n",
       "      <td>45984.0</td>\n",
       "      <td>0.013234</td>\n",
       "      <td>0.973660</td>\n",
       "      <td>0.100000</td>\n",
       "      <td>0.200000</td>\n",
       "      <td>2</td>\n",
       "      <td>4.868293</td>\n",
       "    </tr>\n",
       "    <tr>\n",
       "      <th>2</th>\n",
       "      <td>8</td>\n",
       "      <td>88738</td>\n",
       "      <td>0.001059</td>\n",
       "      <td>94.0</td>\n",
       "      <td>46078.0</td>\n",
       "      <td>0.001990</td>\n",
       "      <td>0.975650</td>\n",
       "      <td>0.100000</td>\n",
       "      <td>0.300000</td>\n",
       "      <td>3</td>\n",
       "      <td>3.252163</td>\n",
       "    </tr>\n",
       "    <tr>\n",
       "      <th>3</th>\n",
       "      <td>7</td>\n",
       "      <td>88738</td>\n",
       "      <td>0.004091</td>\n",
       "      <td>363.0</td>\n",
       "      <td>46441.0</td>\n",
       "      <td>0.007686</td>\n",
       "      <td>0.983336</td>\n",
       "      <td>0.100000</td>\n",
       "      <td>0.400000</td>\n",
       "      <td>4</td>\n",
       "      <td>2.458338</td>\n",
       "    </tr>\n",
       "    <tr>\n",
       "      <th>4</th>\n",
       "      <td>6</td>\n",
       "      <td>88737</td>\n",
       "      <td>0.003122</td>\n",
       "      <td>277.0</td>\n",
       "      <td>46718.0</td>\n",
       "      <td>0.005865</td>\n",
       "      <td>0.989201</td>\n",
       "      <td>0.099999</td>\n",
       "      <td>0.499999</td>\n",
       "      <td>5</td>\n",
       "      <td>1.978405</td>\n",
       "    </tr>\n",
       "    <tr>\n",
       "      <th>5</th>\n",
       "      <td>5</td>\n",
       "      <td>88738</td>\n",
       "      <td>0.001961</td>\n",
       "      <td>174.0</td>\n",
       "      <td>46892.0</td>\n",
       "      <td>0.003684</td>\n",
       "      <td>0.992886</td>\n",
       "      <td>0.100000</td>\n",
       "      <td>0.600000</td>\n",
       "      <td>6</td>\n",
       "      <td>1.654811</td>\n",
       "    </tr>\n",
       "    <tr>\n",
       "      <th>6</th>\n",
       "      <td>4</td>\n",
       "      <td>88738</td>\n",
       "      <td>0.001690</td>\n",
       "      <td>150.0</td>\n",
       "      <td>47042.0</td>\n",
       "      <td>0.003176</td>\n",
       "      <td>0.996062</td>\n",
       "      <td>0.100000</td>\n",
       "      <td>0.700000</td>\n",
       "      <td>7</td>\n",
       "      <td>1.422946</td>\n",
       "    </tr>\n",
       "    <tr>\n",
       "      <th>7</th>\n",
       "      <td>3</td>\n",
       "      <td>88738</td>\n",
       "      <td>0.000958</td>\n",
       "      <td>85.0</td>\n",
       "      <td>47127.0</td>\n",
       "      <td>0.001800</td>\n",
       "      <td>0.997861</td>\n",
       "      <td>0.100000</td>\n",
       "      <td>0.800000</td>\n",
       "      <td>8</td>\n",
       "      <td>1.247327</td>\n",
       "    </tr>\n",
       "    <tr>\n",
       "      <th>8</th>\n",
       "      <td>2</td>\n",
       "      <td>88738</td>\n",
       "      <td>0.000586</td>\n",
       "      <td>52.0</td>\n",
       "      <td>47179.0</td>\n",
       "      <td>0.001101</td>\n",
       "      <td>0.998962</td>\n",
       "      <td>0.100000</td>\n",
       "      <td>0.900000</td>\n",
       "      <td>9</td>\n",
       "      <td>1.109958</td>\n",
       "    </tr>\n",
       "    <tr>\n",
       "      <th>9</th>\n",
       "      <td>1</td>\n",
       "      <td>88738</td>\n",
       "      <td>0.000552</td>\n",
       "      <td>49.0</td>\n",
       "      <td>47228.0</td>\n",
       "      <td>0.001038</td>\n",
       "      <td>1.000000</td>\n",
       "      <td>0.100000</td>\n",
       "      <td>1.000000</td>\n",
       "      <td>10</td>\n",
       "      <td>1.000000</td>\n",
       "    </tr>\n",
       "  </tbody>\n",
       "</table>\n",
       "</div>"
      ],
      "text/plain": [
       "   P_Rank_RF  count      mean  N_events  cum_events  event_cap  cum_event_cap  \\\n",
       "0         10  88738  0.511156   45359.0     45359.0   0.960426       0.960426   \n",
       "1          9  88738  0.007043     625.0     45984.0   0.013234       0.973660   \n",
       "2          8  88738  0.001059      94.0     46078.0   0.001990       0.975650   \n",
       "3          7  88738  0.004091     363.0     46441.0   0.007686       0.983336   \n",
       "4          6  88737  0.003122     277.0     46718.0   0.005865       0.989201   \n",
       "5          5  88738  0.001961     174.0     46892.0   0.003684       0.992886   \n",
       "6          4  88738  0.001690     150.0     47042.0   0.003176       0.996062   \n",
       "7          3  88738  0.000958      85.0     47127.0   0.001800       0.997861   \n",
       "8          2  88738  0.000586      52.0     47179.0   0.001101       0.998962   \n",
       "9          1  88738  0.000552      49.0     47228.0   0.001038       1.000000   \n",
       "\n",
       "   random_cap  cum_random_cap  decile  lift_over_random  \n",
       "0    0.100000        0.100000       1          9.604249  \n",
       "1    0.100000        0.200000       2          4.868293  \n",
       "2    0.100000        0.300000       3          3.252163  \n",
       "3    0.100000        0.400000       4          2.458338  \n",
       "4    0.099999        0.499999       5          1.978405  \n",
       "5    0.100000        0.600000       6          1.654811  \n",
       "6    0.100000        0.700000       7          1.422946  \n",
       "7    0.100000        0.800000       8          1.247327  \n",
       "8    0.100000        0.900000       9          1.109958  \n",
       "9    0.100000        1.000000      10          1.000000  "
      ]
     },
     "execution_count": 199,
     "metadata": {},
     "output_type": "execute_result"
    }
   ],
   "source": [
    "# Lorentz curve for random forest\n",
    "\n",
    "y_pred_prob=rf.predict_proba(X_all)[:,1]   #predict probability\n",
    "#returns two columns, where first column is(non event) for not risky and 2nd column is the actual event,\n",
    "# hence we  take only 2nd column\n",
    "df_loan['y_pred_P']=pd.DataFrame(y_pred_prob)  # adding a y_pred column to the original df along side actual Y\n",
    "df_loan['P_Rank_RF']=pd.qcut(df_loan['y_pred_P'].rank(method='first').values,10,duplicates='drop').codes+1\n",
    "#grouping the predicted probability in deciles (1 to 10)\n",
    "\n",
    "rank_df=df_loan.groupby('P_Rank_RF')['target'].agg(['count','mean'])\n",
    "rank_df=pd.DataFrame(rank_df)\n",
    "#creating new columns for count and mean and adding in a new df. Count shows the number of rows/records in each decide.\n",
    "# mean shows the event rate\n",
    "\n",
    "sorted_rank_df=rank_df.sort_values(by='P_Rank_RF',ascending=False) #sorting & creating new df based on Rank in desc order\n",
    "\n",
    "# Adding some new columns\n",
    "sorted_rank_df['N_events']=rank_df['count']*rank_df['mean']  #column to show number of event in each decile\n",
    "sorted_rank_df['cum_events']=sorted_rank_df['N_events'].cumsum() #cumulative sum of all events\n",
    "\n",
    "sorted_rank_df['event_cap']=sorted_rank_df['N_events']/max(sorted_rank_df['N_events'].cumsum())  # each event/total event\n",
    "# above column shows how many percentage of event does the decile account for\n",
    "sorted_rank_df['cum_event_cap']=sorted_rank_df['event_cap'].cumsum() # cumulative event rate\n",
    "\n",
    "sorted_rank_df['random_cap']=sorted_rank_df['count']/max(sorted_rank_df['count'].cumsum()) #records % per decile(10% each)\n",
    "sorted_rank_df['cum_random_cap']=sorted_rank_df['random_cap'].cumsum() # cumulative of the above column (adds up to100%)\n",
    "\n",
    "sorted_reindexed=sorted_rank_df.reset_index()\n",
    "sorted_reindexed['decile']=sorted_reindexed.index+1  # decile number\n",
    "sorted_reindexed['lift_over_random']=sorted_reindexed['cum_event_cap']/sorted_reindexed['cum_random_cap']\n",
    "sorted_reindexed\n",
    "\n",
    "# for random forest till the 3rd decile account for 0.9756 which is worse than dtree"
   ]
  },
  {
   "cell_type": "code",
   "execution_count": 200,
   "metadata": {
    "ExecuteTime": {
     "end_time": "2021-06-24T18:16:42.823508Z",
     "start_time": "2021-06-24T18:16:40.329179Z"
    }
   },
   "outputs": [
    {
     "data": {
      "text/html": [
       "<div>\n",
       "<style scoped>\n",
       "    .dataframe tbody tr th:only-of-type {\n",
       "        vertical-align: middle;\n",
       "    }\n",
       "\n",
       "    .dataframe tbody tr th {\n",
       "        vertical-align: top;\n",
       "    }\n",
       "\n",
       "    .dataframe thead th {\n",
       "        text-align: right;\n",
       "    }\n",
       "</style>\n",
       "<table border=\"1\" class=\"dataframe\">\n",
       "  <thead>\n",
       "    <tr style=\"text-align: right;\">\n",
       "      <th></th>\n",
       "      <th>P_Rank_RF</th>\n",
       "      <th>count</th>\n",
       "      <th>mean</th>\n",
       "      <th>N_events</th>\n",
       "      <th>cum_events</th>\n",
       "      <th>event_cap</th>\n",
       "      <th>cum_event_cap</th>\n",
       "      <th>random_cap</th>\n",
       "      <th>cum_random_cap</th>\n",
       "      <th>decile</th>\n",
       "      <th>lift_over_random</th>\n",
       "    </tr>\n",
       "  </thead>\n",
       "  <tbody>\n",
       "    <tr>\n",
       "      <th>0</th>\n",
       "      <td>10</td>\n",
       "      <td>88738</td>\n",
       "      <td>0.518267</td>\n",
       "      <td>45990.0</td>\n",
       "      <td>45990.0</td>\n",
       "      <td>0.973787</td>\n",
       "      <td>0.973787</td>\n",
       "      <td>0.100000</td>\n",
       "      <td>0.100000</td>\n",
       "      <td>1</td>\n",
       "      <td>9.737856</td>\n",
       "    </tr>\n",
       "    <tr>\n",
       "      <th>1</th>\n",
       "      <td>9</td>\n",
       "      <td>88738</td>\n",
       "      <td>0.004902</td>\n",
       "      <td>435.0</td>\n",
       "      <td>46425.0</td>\n",
       "      <td>0.009211</td>\n",
       "      <td>0.982997</td>\n",
       "      <td>0.100000</td>\n",
       "      <td>0.200000</td>\n",
       "      <td>2</td>\n",
       "      <td>4.914981</td>\n",
       "    </tr>\n",
       "    <tr>\n",
       "      <th>2</th>\n",
       "      <td>8</td>\n",
       "      <td>88738</td>\n",
       "      <td>0.003381</td>\n",
       "      <td>300.0</td>\n",
       "      <td>46725.0</td>\n",
       "      <td>0.006352</td>\n",
       "      <td>0.989350</td>\n",
       "      <td>0.100000</td>\n",
       "      <td>0.300000</td>\n",
       "      <td>3</td>\n",
       "      <td>3.297828</td>\n",
       "    </tr>\n",
       "    <tr>\n",
       "      <th>3</th>\n",
       "      <td>7</td>\n",
       "      <td>88738</td>\n",
       "      <td>0.002006</td>\n",
       "      <td>178.0</td>\n",
       "      <td>46903.0</td>\n",
       "      <td>0.003769</td>\n",
       "      <td>0.993118</td>\n",
       "      <td>0.100000</td>\n",
       "      <td>0.400000</td>\n",
       "      <td>4</td>\n",
       "      <td>2.482793</td>\n",
       "    </tr>\n",
       "    <tr>\n",
       "      <th>4</th>\n",
       "      <td>6</td>\n",
       "      <td>88737</td>\n",
       "      <td>0.001364</td>\n",
       "      <td>121.0</td>\n",
       "      <td>47024.0</td>\n",
       "      <td>0.002562</td>\n",
       "      <td>0.995681</td>\n",
       "      <td>0.099999</td>\n",
       "      <td>0.499999</td>\n",
       "      <td>5</td>\n",
       "      <td>1.991363</td>\n",
       "    </tr>\n",
       "    <tr>\n",
       "      <th>5</th>\n",
       "      <td>5</td>\n",
       "      <td>88738</td>\n",
       "      <td>0.000913</td>\n",
       "      <td>81.0</td>\n",
       "      <td>47105.0</td>\n",
       "      <td>0.001715</td>\n",
       "      <td>0.997396</td>\n",
       "      <td>0.100000</td>\n",
       "      <td>0.600000</td>\n",
       "      <td>6</td>\n",
       "      <td>1.662327</td>\n",
       "    </tr>\n",
       "    <tr>\n",
       "      <th>6</th>\n",
       "      <td>4</td>\n",
       "      <td>88738</td>\n",
       "      <td>0.000676</td>\n",
       "      <td>60.0</td>\n",
       "      <td>47165.0</td>\n",
       "      <td>0.001270</td>\n",
       "      <td>0.998666</td>\n",
       "      <td>0.100000</td>\n",
       "      <td>0.700000</td>\n",
       "      <td>7</td>\n",
       "      <td>1.426666</td>\n",
       "    </tr>\n",
       "    <tr>\n",
       "      <th>7</th>\n",
       "      <td>3</td>\n",
       "      <td>88738</td>\n",
       "      <td>0.000383</td>\n",
       "      <td>34.0</td>\n",
       "      <td>47199.0</td>\n",
       "      <td>0.000720</td>\n",
       "      <td>0.999386</td>\n",
       "      <td>0.100000</td>\n",
       "      <td>0.800000</td>\n",
       "      <td>8</td>\n",
       "      <td>1.249233</td>\n",
       "    </tr>\n",
       "    <tr>\n",
       "      <th>8</th>\n",
       "      <td>2</td>\n",
       "      <td>88738</td>\n",
       "      <td>0.000203</td>\n",
       "      <td>18.0</td>\n",
       "      <td>47217.0</td>\n",
       "      <td>0.000381</td>\n",
       "      <td>0.999767</td>\n",
       "      <td>0.100000</td>\n",
       "      <td>0.900000</td>\n",
       "      <td>9</td>\n",
       "      <td>1.110852</td>\n",
       "    </tr>\n",
       "    <tr>\n",
       "      <th>9</th>\n",
       "      <td>1</td>\n",
       "      <td>88738</td>\n",
       "      <td>0.000124</td>\n",
       "      <td>11.0</td>\n",
       "      <td>47228.0</td>\n",
       "      <td>0.000233</td>\n",
       "      <td>1.000000</td>\n",
       "      <td>0.100000</td>\n",
       "      <td>1.000000</td>\n",
       "      <td>10</td>\n",
       "      <td>1.000000</td>\n",
       "    </tr>\n",
       "  </tbody>\n",
       "</table>\n",
       "</div>"
      ],
      "text/plain": [
       "   P_Rank_RF  count      mean  N_events  cum_events  event_cap  cum_event_cap  \\\n",
       "0         10  88738  0.518267   45990.0     45990.0   0.973787       0.973787   \n",
       "1          9  88738  0.004902     435.0     46425.0   0.009211       0.982997   \n",
       "2          8  88738  0.003381     300.0     46725.0   0.006352       0.989350   \n",
       "3          7  88738  0.002006     178.0     46903.0   0.003769       0.993118   \n",
       "4          6  88737  0.001364     121.0     47024.0   0.002562       0.995681   \n",
       "5          5  88738  0.000913      81.0     47105.0   0.001715       0.997396   \n",
       "6          4  88738  0.000676      60.0     47165.0   0.001270       0.998666   \n",
       "7          3  88738  0.000383      34.0     47199.0   0.000720       0.999386   \n",
       "8          2  88738  0.000203      18.0     47217.0   0.000381       0.999767   \n",
       "9          1  88738  0.000124      11.0     47228.0   0.000233       1.000000   \n",
       "\n",
       "   random_cap  cum_random_cap  decile  lift_over_random  \n",
       "0    0.100000        0.100000       1          9.737856  \n",
       "1    0.100000        0.200000       2          4.914981  \n",
       "2    0.100000        0.300000       3          3.297828  \n",
       "3    0.100000        0.400000       4          2.482793  \n",
       "4    0.099999        0.499999       5          1.991363  \n",
       "5    0.100000        0.600000       6          1.662327  \n",
       "6    0.100000        0.700000       7          1.426666  \n",
       "7    0.100000        0.800000       8          1.249233  \n",
       "8    0.100000        0.900000       9          1.110852  \n",
       "9    0.100000        1.000000      10          1.000000  "
      ]
     },
     "execution_count": 200,
     "metadata": {},
     "output_type": "execute_result"
    }
   ],
   "source": [
    "# Lorentz curve for gradient boost\n",
    "\n",
    "y_pred_prob=gbm.predict_proba(X_all)[:,1]   #predict probability\n",
    "#returns two columns, where first column is(non event) for not risky and 2nd column is the actual event,\n",
    "# hence we  take only 2nd column\n",
    "df_loan['y_pred_P']=pd.DataFrame(y_pred_prob)  # adding a y_pred column to the original df along side actual Y\n",
    "df_loan['P_Rank_RF']=pd.qcut(df_loan['y_pred_P'].rank(method='first').values,10,duplicates='drop').codes+1\n",
    "#grouping the predicted probability in deciles (1 to 10)\n",
    "\n",
    "rank_df=df_loan.groupby('P_Rank_RF')['target'].agg(['count','mean'])\n",
    "rank_df=pd.DataFrame(rank_df)\n",
    "#creating new columns for count and mean and adding in a new df. Count shows the number of rows/records in each decide.\n",
    "# mean shows the event rate\n",
    "\n",
    "sorted_rank_df=rank_df.sort_values(by='P_Rank_RF',ascending=False) #sorting & creating new df based on Rank in desc order\n",
    "\n",
    "# Adding some new columns\n",
    "sorted_rank_df['N_events']=rank_df['count']*rank_df['mean']  #column to show number of event in each decile\n",
    "sorted_rank_df['cum_events']=sorted_rank_df['N_events'].cumsum() #cumulative sum of all events\n",
    "\n",
    "sorted_rank_df['event_cap']=sorted_rank_df['N_events']/max(sorted_rank_df['N_events'].cumsum())  # each event/total event\n",
    "# above column shows how many percentage of event does the decile account for\n",
    "sorted_rank_df['cum_event_cap']=sorted_rank_df['event_cap'].cumsum() # cumulative event rate\n",
    "\n",
    "sorted_rank_df['random_cap']=sorted_rank_df['count']/max(sorted_rank_df['count'].cumsum()) #records % per decile(10% each)\n",
    "sorted_rank_df['cum_random_cap']=sorted_rank_df['random_cap'].cumsum() # cumulative of the above column (adds up to100%)\n",
    "\n",
    "sorted_reindexed=sorted_rank_df.reset_index()\n",
    "sorted_reindexed['decile']=sorted_reindexed.index+1  # decile number\n",
    "sorted_reindexed['lift_over_random']=sorted_reindexed['cum_event_cap']/sorted_reindexed['cum_random_cap']\n",
    "sorted_reindexed\n",
    "\n",
    "\n",
    "# for gradient boosting till the 3rd decide accounts for 0.9893 event rate which is slightly better than dtree and rf"
   ]
  },
  {
   "cell_type": "code",
   "execution_count": null,
   "metadata": {},
   "outputs": [],
   "source": []
  },
  {
   "cell_type": "code",
   "execution_count": 201,
   "metadata": {
    "ExecuteTime": {
     "end_time": "2021-06-24T18:16:45.073174Z",
     "start_time": "2021-06-24T18:16:45.059173Z"
    }
   },
   "outputs": [],
   "source": [
    "\n",
    "# import re\n",
    "\n",
    "# regex = re.compile(r\"\\[|\\]|<\", re.IGNORECASE)\n",
    "# X_all.columns = [regex.sub(\"_\", col) if any(x in str(col) for x in set(('[', ']', '<'))) \n",
    "#                    else col for col in X_train.columns.values]\n",
    "# # replace the selected symbols with \"_\""
   ]
  },
  {
   "cell_type": "code",
   "execution_count": 202,
   "metadata": {
    "ExecuteTime": {
     "end_time": "2021-06-24T18:16:47.327004Z",
     "start_time": "2021-06-24T18:16:46.002574Z"
    }
   },
   "outputs": [
    {
     "data": {
      "text/html": [
       "<div>\n",
       "<style scoped>\n",
       "    .dataframe tbody tr th:only-of-type {\n",
       "        vertical-align: middle;\n",
       "    }\n",
       "\n",
       "    .dataframe tbody tr th {\n",
       "        vertical-align: top;\n",
       "    }\n",
       "\n",
       "    .dataframe thead th {\n",
       "        text-align: right;\n",
       "    }\n",
       "</style>\n",
       "<table border=\"1\" class=\"dataframe\">\n",
       "  <thead>\n",
       "    <tr style=\"text-align: right;\">\n",
       "      <th></th>\n",
       "      <th>P_Rank_RF</th>\n",
       "      <th>count</th>\n",
       "      <th>mean</th>\n",
       "      <th>N_events</th>\n",
       "      <th>cum_events</th>\n",
       "      <th>event_cap</th>\n",
       "      <th>cum_event_cap</th>\n",
       "      <th>random_cap</th>\n",
       "      <th>cum_random_cap</th>\n",
       "      <th>decile</th>\n",
       "      <th>lift_over_random</th>\n",
       "    </tr>\n",
       "  </thead>\n",
       "  <tbody>\n",
       "    <tr>\n",
       "      <th>0</th>\n",
       "      <td>10</td>\n",
       "      <td>88738</td>\n",
       "      <td>0.522166</td>\n",
       "      <td>46336.0</td>\n",
       "      <td>46336.0</td>\n",
       "      <td>0.981113</td>\n",
       "      <td>0.981113</td>\n",
       "      <td>0.100000</td>\n",
       "      <td>0.100000</td>\n",
       "      <td>1</td>\n",
       "      <td>9.811118</td>\n",
       "    </tr>\n",
       "    <tr>\n",
       "      <th>1</th>\n",
       "      <td>9</td>\n",
       "      <td>88738</td>\n",
       "      <td>0.004158</td>\n",
       "      <td>369.0</td>\n",
       "      <td>46705.0</td>\n",
       "      <td>0.007813</td>\n",
       "      <td>0.988926</td>\n",
       "      <td>0.100000</td>\n",
       "      <td>0.200000</td>\n",
       "      <td>2</td>\n",
       "      <td>4.944625</td>\n",
       "    </tr>\n",
       "    <tr>\n",
       "      <th>2</th>\n",
       "      <td>8</td>\n",
       "      <td>88738</td>\n",
       "      <td>0.002197</td>\n",
       "      <td>195.0</td>\n",
       "      <td>46900.0</td>\n",
       "      <td>0.004129</td>\n",
       "      <td>0.993055</td>\n",
       "      <td>0.100000</td>\n",
       "      <td>0.300000</td>\n",
       "      <td>3</td>\n",
       "      <td>3.310179</td>\n",
       "    </tr>\n",
       "    <tr>\n",
       "      <th>3</th>\n",
       "      <td>7</td>\n",
       "      <td>88738</td>\n",
       "      <td>0.001533</td>\n",
       "      <td>136.0</td>\n",
       "      <td>47036.0</td>\n",
       "      <td>0.002880</td>\n",
       "      <td>0.995935</td>\n",
       "      <td>0.100000</td>\n",
       "      <td>0.400000</td>\n",
       "      <td>4</td>\n",
       "      <td>2.489834</td>\n",
       "    </tr>\n",
       "    <tr>\n",
       "      <th>4</th>\n",
       "      <td>6</td>\n",
       "      <td>88737</td>\n",
       "      <td>0.000935</td>\n",
       "      <td>83.0</td>\n",
       "      <td>47119.0</td>\n",
       "      <td>0.001757</td>\n",
       "      <td>0.997692</td>\n",
       "      <td>0.099999</td>\n",
       "      <td>0.499999</td>\n",
       "      <td>5</td>\n",
       "      <td>1.995386</td>\n",
       "    </tr>\n",
       "    <tr>\n",
       "      <th>5</th>\n",
       "      <td>5</td>\n",
       "      <td>88738</td>\n",
       "      <td>0.000552</td>\n",
       "      <td>49.0</td>\n",
       "      <td>47168.0</td>\n",
       "      <td>0.001038</td>\n",
       "      <td>0.998730</td>\n",
       "      <td>0.100000</td>\n",
       "      <td>0.600000</td>\n",
       "      <td>6</td>\n",
       "      <td>1.664551</td>\n",
       "    </tr>\n",
       "    <tr>\n",
       "      <th>6</th>\n",
       "      <td>4</td>\n",
       "      <td>88738</td>\n",
       "      <td>0.000406</td>\n",
       "      <td>36.0</td>\n",
       "      <td>47204.0</td>\n",
       "      <td>0.000762</td>\n",
       "      <td>0.999492</td>\n",
       "      <td>0.100000</td>\n",
       "      <td>0.700000</td>\n",
       "      <td>7</td>\n",
       "      <td>1.427846</td>\n",
       "    </tr>\n",
       "    <tr>\n",
       "      <th>7</th>\n",
       "      <td>3</td>\n",
       "      <td>88738</td>\n",
       "      <td>0.000158</td>\n",
       "      <td>14.0</td>\n",
       "      <td>47218.0</td>\n",
       "      <td>0.000296</td>\n",
       "      <td>0.999788</td>\n",
       "      <td>0.100000</td>\n",
       "      <td>0.800000</td>\n",
       "      <td>8</td>\n",
       "      <td>1.249736</td>\n",
       "    </tr>\n",
       "    <tr>\n",
       "      <th>8</th>\n",
       "      <td>2</td>\n",
       "      <td>88738</td>\n",
       "      <td>0.000101</td>\n",
       "      <td>9.0</td>\n",
       "      <td>47227.0</td>\n",
       "      <td>0.000191</td>\n",
       "      <td>0.999979</td>\n",
       "      <td>0.100000</td>\n",
       "      <td>0.900000</td>\n",
       "      <td>9</td>\n",
       "      <td>1.111088</td>\n",
       "    </tr>\n",
       "    <tr>\n",
       "      <th>9</th>\n",
       "      <td>1</td>\n",
       "      <td>88738</td>\n",
       "      <td>0.000011</td>\n",
       "      <td>1.0</td>\n",
       "      <td>47228.0</td>\n",
       "      <td>0.000021</td>\n",
       "      <td>1.000000</td>\n",
       "      <td>0.100000</td>\n",
       "      <td>1.000000</td>\n",
       "      <td>10</td>\n",
       "      <td>1.000000</td>\n",
       "    </tr>\n",
       "  </tbody>\n",
       "</table>\n",
       "</div>"
      ],
      "text/plain": [
       "   P_Rank_RF  count      mean  N_events  cum_events  event_cap  cum_event_cap  \\\n",
       "0         10  88738  0.522166   46336.0     46336.0   0.981113       0.981113   \n",
       "1          9  88738  0.004158     369.0     46705.0   0.007813       0.988926   \n",
       "2          8  88738  0.002197     195.0     46900.0   0.004129       0.993055   \n",
       "3          7  88738  0.001533     136.0     47036.0   0.002880       0.995935   \n",
       "4          6  88737  0.000935      83.0     47119.0   0.001757       0.997692   \n",
       "5          5  88738  0.000552      49.0     47168.0   0.001038       0.998730   \n",
       "6          4  88738  0.000406      36.0     47204.0   0.000762       0.999492   \n",
       "7          3  88738  0.000158      14.0     47218.0   0.000296       0.999788   \n",
       "8          2  88738  0.000101       9.0     47227.0   0.000191       0.999979   \n",
       "9          1  88738  0.000011       1.0     47228.0   0.000021       1.000000   \n",
       "\n",
       "   random_cap  cum_random_cap  decile  lift_over_random  \n",
       "0    0.100000        0.100000       1          9.811118  \n",
       "1    0.100000        0.200000       2          4.944625  \n",
       "2    0.100000        0.300000       3          3.310179  \n",
       "3    0.100000        0.400000       4          2.489834  \n",
       "4    0.099999        0.499999       5          1.995386  \n",
       "5    0.100000        0.600000       6          1.664551  \n",
       "6    0.100000        0.700000       7          1.427846  \n",
       "7    0.100000        0.800000       8          1.249736  \n",
       "8    0.100000        0.900000       9          1.111088  \n",
       "9    0.100000        1.000000      10          1.000000  "
      ]
     },
     "execution_count": 202,
     "metadata": {},
     "output_type": "execute_result"
    }
   ],
   "source": [
    "# Lorentz curve for xtreme gradient boost\n",
    "\n",
    "y_pred_prob=xgb.predict_proba(X_all)[:,1]   #predict probability\n",
    "#returns two columns, where first column is(non event) for not risky and 2nd column is the actual event,\n",
    "# hence we  take only 2nd column\n",
    "df_loan['y_pred_P']=pd.DataFrame(y_pred_prob)  # adding a y_pred column to the original df along side actual Y\n",
    "df_loan['P_Rank_RF']=pd.qcut(df_loan['y_pred_P'].rank(method='first').values,10,duplicates='drop').codes+1\n",
    "#grouping the predicted probability in deciles (1 to 10)\n",
    "\n",
    "rank_df=df_loan.groupby('P_Rank_RF')['target'].agg(['count','mean'])\n",
    "rank_df=pd.DataFrame(rank_df)\n",
    "#creating new columns for count and mean and adding in a new df. Count shows the number of rows/records in each decide.\n",
    "# mean shows the event rate\n",
    "\n",
    "sorted_rank_df=rank_df.sort_values(by='P_Rank_RF',ascending=False) #sorting & creating new df based on Rank in desc order\n",
    "\n",
    "# Adding some new columns\n",
    "sorted_rank_df['N_events']=rank_df['count']*rank_df['mean']  #column to show number of event in each decile\n",
    "sorted_rank_df['cum_events']=sorted_rank_df['N_events'].cumsum() #cumulative sum of all events\n",
    "\n",
    "sorted_rank_df['event_cap']=sorted_rank_df['N_events']/max(sorted_rank_df['N_events'].cumsum())  # each event/total event\n",
    "# above column shows how many percentage of event does the decile account for\n",
    "sorted_rank_df['cum_event_cap']=sorted_rank_df['event_cap'].cumsum() # cumulative event rate\n",
    "\n",
    "sorted_rank_df['random_cap']=sorted_rank_df['count']/max(sorted_rank_df['count'].cumsum()) #records % per decile(10% each)\n",
    "sorted_rank_df['cum_random_cap']=sorted_rank_df['random_cap'].cumsum() # cumulative of the above column (adds up to100%)\n",
    "#random capture rate of event actually shows if probability of event were randonly distributed then event rate would\n",
    "# be random and would be actually be each to % of records per decile i.e 10%\n",
    "\n",
    "sorted_reindexed=sorted_rank_df.reset_index()\n",
    "sorted_reindexed['decile']=sorted_reindexed.index+1  # decile number\n",
    "sorted_reindexed['lift_over_random']=sorted_reindexed['cum_event_cap']/sorted_reindexed['cum_random_cap']\n",
    "sorted_reindexed\n",
    "#  xtreme gradient boosting till the 3rd decide accounts for 0.9893 event rate which is better than all the other algo."
   ]
  },
  {
   "cell_type": "code",
   "execution_count": 204,
   "metadata": {
    "ExecuteTime": {
     "end_time": "2021-06-24T18:17:10.366851Z",
     "start_time": "2021-06-24T18:17:10.207278Z"
    }
   },
   "outputs": [
    {
     "data": {
      "image/png": "[encoded data removed]",
      "text/plain": [
       "<Figure size 432x288 with 1 Axes>"
      ]
     },
     "metadata": {
      "needs_background": "light"
     },
     "output_type": "display_data"
    }
   ],
   "source": [
    "ax=sns.lineplot(x=\"decile\",y=\"cum_event_cap\",data=sorted_reindexed)\n",
    "ax=sns.lineplot(x=\"decile\",y='random_cap',data=sorted_reindexed)\n",
    "\n",
    "#the blue line for lorenz curve is close to 1 starting from the first decide itself hence it's flat.\n"
   ]
  },
  {
   "cell_type": "code",
   "execution_count": null,
   "metadata": {},
   "outputs": [],
   "source": [
    "# Since XGB account for maximum events till the first 3 deciles, it's the best out of all the trained models\n",
    "\n",
    "#We can create numerous strategies based on the different groupings/deciles and employ different strategies for group of\n",
    "# deciles to maintain and keep maximum number of possible clients, or minimize the loss in case of defaults\n",
    "# Like may be tdemanding higher rate of interest for their capitals to top 3 deciles,\n",
    "\n",
    "# For example, \n",
    "# A mortgage applicant with a superior credit rating and steady income is likely to be perceived as a low credit risk,\n",
    "# they will receive a low-interest rate on their mortgage. In contrast, if an applicant has a poor credit history, \n",
    "# they may have to work with a subprime lender—a mortgage lender that offers loans with relatively high-interest rates \n",
    "# to high-risk borrowers—to obtain financing."
   ]
  },
  {
   "cell_type": "code",
   "execution_count": null,
   "metadata": {},
   "outputs": [],
   "source": [
    "# Project Conclusion :- \n",
    "# Create a decision tree and show it to stakeholders. This will create awareness about the kind of rules that a Tree might \n",
    "# come up with\n",
    "# Now speak about the benefit of ensembles and how they achieve a higher degress of robustness than a single tree\n",
    "# Now is the time to show that the ensemble is as good if not better than the decison tree\n",
    "# This way you can first sell the idea of a tree based solution and then sell the final product which is an ensemble of the\n",
    "# idea you have already sold(decision tree)"
   ]
  }
 ],
 "metadata": {
  "kernelspec": {
   "display_name": "Python 3",
   "language": "python",
   "name": "python3"
  },
  "language_info": {
   "codemirror_mode": {
    "name": "ipython",
    "version": 3
   },
   "file_extension": ".py",
   "mimetype": "text/x-python",
   "name": "python",
   "nbconvert_exporter": "python",
   "pygments_lexer": "ipython3",
   "version": "3.8.3"
  }
 },
 "nbformat": 4,
 "nbformat_minor": 4
}
